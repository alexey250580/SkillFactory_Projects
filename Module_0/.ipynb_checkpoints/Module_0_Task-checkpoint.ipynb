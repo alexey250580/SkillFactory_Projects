{
 "cells": [
  {
   "cell_type": "code",
   "execution_count": null,
   "metadata": {},
   "outputs": [],
   "source": [
    "#Задача по определению загаданного числа\n",
    "\n",
    "import numpy as np\n",
    "number = np.random.randint(1,101)\n",
    "print('Загадано число от 1 до 100')\n",
    "\n",
    "#Определение начальных значений используемых переменных\n",
    "\n",
    "count = 1\n",
    "min_number = 1\n",
    "max_number = 100\n",
    "\n",
    "#Функция для определения среднего значения интервала, в котором осуществляется поиск загаданного числа\n",
    "\n",
    "def average(min_number, max_number):\n",
    "    predict = min_number + (max_number - min_number) // 2\n",
    "    return predict\n",
    "\n",
    "#Цикл для поиска загаданного числа и подсчета количества попыток\n",
    "\n",
    "while number != average(min_number, max_number):\n",
    "    count += 1\n",
    "    if number in range(min_number, average(min_number, max_number)-1):\n",
    "        max_number = average(min_number, max_number)\n",
    "        average(min_number, max_number)\n",
    "    elif number in range(average(min_number, max_number)+1, max_number):\n",
    "        min_number = average(min_number, max_number)\n",
    "        average(min_number, max_number)\n",
    "        \n",
    "print('Загаданное число равняется', number,', а угадано оно было за', count, 'попыток')"
   ]
  }
 ],
 "metadata": {
  "kernelspec": {
   "display_name": "Python 3",
   "language": "python",
   "name": "python3"
  },
  "language_info": {
   "codemirror_mode": {
    "name": "ipython",
    "version": 3
   },
   "file_extension": ".py",
   "mimetype": "text/x-python",
   "name": "python",
   "nbconvert_exporter": "python",
   "pygments_lexer": "ipython3",
   "version": "3.7.6"
  }
 },
 "nbformat": 4,
 "nbformat_minor": 4
}
