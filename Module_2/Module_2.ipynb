{
 "cells": [
  {
   "cell_type": "code",
   "execution_count": 1,
   "metadata": {
    "scrolled": false
   },
   "outputs": [
    {
     "name": "stdout",
     "output_type": "stream",
     "text": [
      "<class 'pandas.core.frame.DataFrame'>\n",
      "RangeIndex: 395 entries, 0 to 394\n",
      "Data columns (total 30 columns):\n",
      " #   Column               Non-Null Count  Dtype  \n",
      "---  ------               --------------  -----  \n",
      " 0   school               395 non-null    object \n",
      " 1   sex                  395 non-null    object \n",
      " 2   age                  395 non-null    int64  \n",
      " 3   address              378 non-null    object \n",
      " 4   famsize              368 non-null    object \n",
      " 5   Pstatus              350 non-null    object \n",
      " 6   Medu                 392 non-null    float64\n",
      " 7   Fedu                 371 non-null    float64\n",
      " 8   Mjob                 376 non-null    object \n",
      " 9   Fjob                 359 non-null    object \n",
      " 10  reason               378 non-null    object \n",
      " 11  guardian             364 non-null    object \n",
      " 12  traveltime           367 non-null    float64\n",
      " 13  studytime            388 non-null    float64\n",
      " 14  failures             373 non-null    float64\n",
      " 15  schoolsup            386 non-null    object \n",
      " 16  famsup               356 non-null    object \n",
      " 17  paid                 355 non-null    object \n",
      " 18  activities           381 non-null    object \n",
      " 19  nursery              379 non-null    object \n",
      " 20  studytime, granular  388 non-null    float64\n",
      " 21  higher               375 non-null    object \n",
      " 22  internet             361 non-null    object \n",
      " 23  romantic             364 non-null    object \n",
      " 24  famrel               368 non-null    float64\n",
      " 25  freetime             384 non-null    float64\n",
      " 26  goout                387 non-null    float64\n",
      " 27  health               380 non-null    float64\n",
      " 28  absences             383 non-null    float64\n",
      " 29  score                389 non-null    float64\n",
      "dtypes: float64(12), int64(1), object(17)\n",
      "memory usage: 92.7+ KB\n"
     ]
    },
    {
     "data": {
      "text/plain": [
       "school                  2\n",
       "sex                     2\n",
       "age                     8\n",
       "address                 2\n",
       "famsize                 2\n",
       "Pstatus                 2\n",
       "Medu                    5\n",
       "Fedu                    6\n",
       "Mjob                    5\n",
       "Fjob                    5\n",
       "reason                  4\n",
       "guardian                3\n",
       "traveltime              4\n",
       "studytime               4\n",
       "failures                4\n",
       "schoolsup               2\n",
       "famsup                  2\n",
       "paid                    2\n",
       "activities              2\n",
       "nursery                 2\n",
       "studytime, granular     4\n",
       "higher                  2\n",
       "internet                2\n",
       "romantic                2\n",
       "famrel                  6\n",
       "freetime                5\n",
       "goout                   5\n",
       "health                  5\n",
       "absences               36\n",
       "score                  18\n",
       "dtype: int64"
      ]
     },
     "execution_count": 1,
     "metadata": {},
     "output_type": "execute_result"
    }
   ],
   "source": [
    "import pandas as pd\n",
    "import matplotlib.pyplot as plt\n",
    "import seaborn as sns\n",
    "from itertools import combinations\n",
    "from scipy.stats import ttest_ind\n",
    "\n",
    "students = pd.read_csv('stud_math.csv')\n",
    "\n",
    "#Общая информация о датасете\n",
    "students.info()\n",
    "\n",
    "#Определим общее количество записей в датасете\n",
    "students.count()\n",
    "\n",
    "#Количество уникальных значений в датасете\n",
    "students.nunique()"
   ]
  },
  {
   "cell_type": "code",
   "execution_count": 2,
   "metadata": {},
   "outputs": [
    {
     "data": {
      "text/plain": [
       "<matplotlib.axes._subplots.AxesSubplot at 0xb0e9d48>"
      ]
     },
     "execution_count": 2,
     "metadata": {},
     "output_type": "execute_result"
    },
    {
     "data": {
      "image/png": "[encoded data removed]",
      "text/plain": [
       "<Figure size 432x288 with 1 Axes>"
      ]
     },
     "metadata": {
      "needs_background": "light"
     },
     "output_type": "display_data"
    }
   ],
   "source": [
    "#Анализ столбца school\n",
    "students.school.hist()"
   ]
  },
  {
   "cell_type": "code",
   "execution_count": 3,
   "metadata": {},
   "outputs": [
    {
     "data": {
      "text/plain": [
       "score    52.63\n",
       "dtype: float64"
      ]
     },
     "execution_count": 3,
     "metadata": {},
     "output_type": "execute_result"
    }
   ],
   "source": [
    "#Анализ значений экзамена по математике по школе GP\n",
    "school_GP_score = students[students.school == 'GP'][['school','score']]\n",
    "round(school_GP_score.mean(),2)"
   ]
  },
  {
   "cell_type": "code",
   "execution_count": 4,
   "metadata": {},
   "outputs": [
    {
     "data": {
      "text/plain": [
       "score    49.44\n",
       "dtype: float64"
      ]
     },
     "execution_count": 4,
     "metadata": {},
     "output_type": "execute_result"
    }
   ],
   "source": [
    "#Анализ значений экзамена по математике по школе MS\n",
    "school_MS_score = students[students.school == 'MS'][['school', 'score']]\n",
    "round(school_MS_score.mean(),2)"
   ]
  },
  {
   "cell_type": "code",
   "execution_count": 237,
   "metadata": {},
   "outputs": [
    {
     "name": "stdout",
     "output_type": "stream",
     "text": [
      "Выбросов нет\n",
      "Выбросов нет\n",
      "Выбросов нет\n",
      "Выбросов нет\n",
      "Выбросов нет\n",
      "Выбросов нет\n",
      "Выбросов нет\n",
      "Выбросов нет\n",
      "Выбросов нет\n",
      "Выбросов нет\n",
      "Выбросов нет\n",
      "Выбросов нет\n",
      "Выбросов нет\n",
      "Выбросов нет\n",
      "Выбросов нет\n",
      "Выбросов нет\n",
      "Выбросов нет\n",
      "Выбросов нет\n",
      "Выбросов нет\n",
      "Выбросов нет\n",
      "Выбросов нет\n",
      "Выбросов нет\n",
      "Выбросов нет\n",
      "Выбросов нет\n",
      "Выбросов нет\n",
      "Выбросов нет\n",
      "Выбросов нет\n",
      "Выбросов нет\n",
      "Выбросов нет\n",
      "Выбросов нет\n",
      "Выбросов нет\n",
      "Выбросов нет\n",
      "Выбросов нет\n",
      "Выбросов нет\n",
      "Выбросов нет\n",
      "Выбросов нет\n",
      "Выбросов нет\n",
      "Выбросов нет\n",
      "Выбросов нет\n",
      "Выбросов нет\n",
      "Выбросов нет\n",
      "Выбросов нет\n",
      "Выбросов нет\n",
      "Выбросов нет\n",
      "Выбросов нет\n",
      "Выбросов нет\n",
      "Выбросов нет\n",
      "Выбросов нет\n",
      "Выбросов нет\n",
      "Выбросов нет\n",
      "Выбросов нет\n",
      "Выбросов нет\n",
      "Выбросов нет\n",
      "Выбросов нет\n",
      "Выбросов нет\n",
      "Выбросов нет\n",
      "Выбросов нет\n",
      "Выбросов нет\n",
      "Выбросов нет\n",
      "Выбросов нет\n",
      "Выбросов нет\n",
      "Выбросов нет\n",
      "Выбросов нет\n",
      "Выбросов нет\n",
      "Выбросов нет\n",
      "Выбросов нет\n",
      "Выбросов нет\n",
      "Выбросов нет\n",
      "Выбросов нет\n",
      "Выбросов нет\n",
      "Выбросов нет\n",
      "Выбросов нет\n",
      "Выбросов нет\n",
      "Выбросов нет\n",
      "Выбросов нет\n",
      "Выбросов нет\n",
      "Выбросов нет\n",
      "Выбросов нет\n",
      "Выбросов нет\n",
      "Выбросов нет\n",
      "Выбросов нет\n",
      "Выбросов нет\n",
      "Выбросов нет\n",
      "Выбросов нет\n",
      "Выбросов нет\n",
      "Выбросов нет\n",
      "Выбросов нет\n",
      "Выбросов нет\n",
      "Выбросов нет\n",
      "Выбросов нет\n",
      "Выбросов нет\n",
      "Выбросов нет\n",
      "Выбросов нет\n",
      "Выбросов нет\n",
      "Выбросов нет\n",
      "Выбросов нет\n",
      "Выбросов нет\n",
      "Выбросов нет\n",
      "Выбросов нет\n",
      "Выбросов нет\n",
      "Выбросов нет\n",
      "Выбросов нет\n",
      "Выбросов нет\n",
      "Выбросов нет\n",
      "Выбросов нет\n",
      "Выбросов нет\n",
      "Выбросов нет\n",
      "Выбросов нет\n",
      "Выбросов нет\n",
      "Выбросов нет\n",
      "Выбросов нет\n",
      "Выбросов нет\n",
      "Выбросов нет\n",
      "Выбросов нет\n",
      "Выбросов нет\n",
      "Выбросов нет\n",
      "Выбросов нет\n",
      "Выбросов нет\n",
      "Выбросов нет\n",
      "Выбросов нет\n",
      "Выбросов нет\n",
      "Выбросов нет\n",
      "Выбросов нет\n",
      "Выбросов нет\n",
      "Выбросов нет\n",
      "Выбросов нет\n",
      "Выбросов нет\n",
      "Выбросов нет\n",
      "Выбросов нет\n",
      "Выбросов нет\n",
      "Выбросов нет\n",
      "Выбросов нет\n",
      "Выбросов нет\n",
      "Выбросов нет\n",
      "Выбросов нет\n",
      "Выбросов нет\n",
      "Выбросов нет\n",
      "Выбросов нет\n",
      "Выбросов нет\n",
      "Выбросов нет\n",
      "Выбросов нет\n",
      "Выбросов нет\n",
      "Выбросов нет\n",
      "Выбросов нет\n",
      "Выбросов нет\n",
      "Выбросов нет\n",
      "Выбросов нет\n",
      "Выбросов нет\n",
      "Выбросов нет\n",
      "Выбросов нет\n",
      "Выбросов нет\n",
      "Выбросов нет\n",
      "Выбросов нет\n",
      "Выбросов нет\n",
      "Выбросов нет\n",
      "Выбросов нет\n",
      "Выбросов нет\n",
      "Выбросов нет\n",
      "Выбросов нет\n",
      "Выбросов нет\n",
      "Выбросов нет\n",
      "Выбросов нет\n",
      "Выбросов нет\n",
      "Выбросов нет\n",
      "Выбросов нет\n",
      "Выбросов нет\n",
      "Выбросов нет\n",
      "Выбросов нет\n",
      "Выбросов нет\n",
      "Выбросов нет\n",
      "Выбросов нет\n",
      "Выбросов нет\n",
      "Выбросов нет\n",
      "Выбросов нет\n",
      "Выбросов нет\n",
      "Выбросов нет\n",
      "Выбросов нет\n",
      "Выбросов нет\n",
      "Выбросов нет\n",
      "Выбросов нет\n",
      "Выбросов нет\n",
      "Выбросов нет\n",
      "Выбросов нет\n",
      "Выбросов нет\n",
      "Выбросов нет\n",
      "Выбросов нет\n",
      "Выбросов нет\n",
      "Выбросов нет\n",
      "Выбросов нет\n",
      "Выбросов нет\n",
      "Выбросов нет\n",
      "Выбросов нет\n",
      "Выбросов нет\n",
      "Выбросов нет\n",
      "Выбросов нет\n",
      "Выбросов нет\n",
      "Выбросов нет\n",
      "Выбросов нет\n",
      "Выбросов нет\n",
      "Выбросов нет\n",
      "Выбросов нет\n",
      "Выбросов нет\n",
      "Выбросов нет\n",
      "Выбросов нет\n",
      "Выбросов нет\n",
      "Выбросов нет\n",
      "Выбросов нет\n",
      "Выбросов нет\n",
      "Выбросов нет\n",
      "Выбросов нет\n",
      "Выбросов нет\n",
      "Выбросов нет\n",
      "Выбросов нет\n",
      "Выбросов нет\n",
      "Выбросов нет\n",
      "Выбросов нет\n",
      "Выбросов нет\n",
      "Выбросов нет\n",
      "Выбросов нет\n",
      "Выбросов нет\n",
      "Выбросов нет\n",
      "Выбросов нет\n",
      "Выбросов нет\n",
      "Выбросов нет\n",
      "Выбросов нет\n",
      "Выбросов нет\n",
      "Выбросов нет\n",
      "Выбросов нет\n",
      "Выбросов нет\n",
      "Выбросов нет\n",
      "Выбросов нет\n",
      "Выбросов нет\n",
      "Выбросов нет\n",
      "Выбросов нет\n",
      "Выбросов нет\n",
      "Выбросов нет\n",
      "Выбросов нет\n",
      "Выбросов нет\n",
      "Выбросов нет\n",
      "Выбросов нет\n",
      "Выбросов нет\n",
      "Выбросов нет\n",
      "Выбросов нет\n",
      "Выбросов нет\n",
      "Выбросов нет\n",
      "Выбросов нет\n",
      "Выбросов нет\n",
      "Выбросов нет\n",
      "Выбросов нет\n",
      "Выбросов нет\n",
      "Выбросов нет\n",
      "Выбросов нет\n",
      "Выбросов нет\n",
      "Выбросов нет\n",
      "Выбросов нет\n",
      "Выбросов нет\n",
      "Выбросов нет\n",
      "Выбросов нет\n",
      "Выбросов нет\n",
      "Выбросов нет\n",
      "Выбросов нет\n",
      "Выбросов нет\n",
      "Выбросов нет\n",
      "Выбросов нет\n",
      "Выбросов нет\n",
      "Выбросов нет\n",
      "Выбросов нет\n",
      "Выбросов нет\n",
      "Выбросов нет\n",
      "Выбросов нет\n",
      "Выбросов нет\n",
      "Выбросов нет\n",
      "Выбросов нет\n",
      "Выбросов нет\n",
      "Выбросов нет\n",
      "Выбросов нет\n",
      "Выбросов нет\n",
      "Выбросов нет\n",
      "Выбросов нет\n",
      "Выбросов нет\n",
      "Выбросов нет\n",
      "Выбросов нет\n",
      "Выбросов нет\n",
      "Выбросов нет\n",
      "Выбросов нет\n",
      "Выбросов нет\n",
      "Выбросов нет\n",
      "Выбросов нет\n",
      "Выбросов нет\n",
      "Выбросов нет\n",
      "Выбросов нет\n",
      "Выбросов нет\n",
      "Выбросов нет\n",
      "Выбросов нет\n",
      "Выбросов нет\n",
      "Выбросов нет\n",
      "Выбросов нет\n",
      "Выбросов нет\n",
      "Выбросов нет\n",
      "Выбросов нет\n",
      "Выбросов нет\n",
      "Выбросов нет\n",
      "Выбросов нет\n",
      "Выбросов нет\n",
      "Выбросов нет\n",
      "Выбросов нет\n",
      "Выбросов нет\n",
      "Выбросов нет\n",
      "Выбросов нет\n",
      "Выбросов нет\n",
      "Выбросов нет\n",
      "Выбросов нет\n",
      "Выбросов нет\n",
      "Выбросов нет\n",
      "Выбросов нет\n",
      "Выбросов нет\n",
      "Выбросов нет\n",
      "Выбросов нет\n",
      "Выбросов нет\n",
      "Выбросов нет\n",
      "Выбросов нет\n",
      "Выбросов нет\n",
      "Выбросов нет\n",
      "Выбросов нет\n",
      "Выбросов нет\n",
      "Выбросов нет\n",
      "Выбросов нет\n",
      "Выбросов нет\n",
      "Выбросов нет\n",
      "Выбросов нет\n",
      "Выбросов нет\n",
      "Выбросов нет\n",
      "Выбросов нет\n",
      "Выбросов нет\n",
      "Выбросов нет\n",
      "Выбросов нет\n",
      "Выбросов нет\n",
      "Выбросов нет\n",
      "Выбросов нет\n",
      "Выбросов нет\n",
      "Выбросов нет\n",
      "Выбросов нет\n",
      "Выбросов нет\n",
      "Выбросов нет\n",
      "Выбросов нет\n",
      "Выбросов нет\n",
      "Выбросов нет\n",
      "Выбросов нет\n",
      "Выбросов нет\n",
      "Выбросов нет\n",
      "Выбросов нет\n",
      "Выбросов нет\n",
      "Выбросов нет\n",
      "Выбросов нет\n",
      "Выбросов нет\n",
      "Выбросов нет\n",
      "Выбросов нет\n",
      "Выбросов нет\n",
      "Выбросов нет\n",
      "Выбросов нет\n",
      "Выбросов нет\n",
      "Выбросов нет\n",
      "Выбросов нет\n",
      "Выбросов нет\n",
      "Выбросов нет\n",
      "Выбросов нет\n",
      "Выбросов нет\n",
      "Выбросов нет\n",
      "Выбросов нет\n",
      "Выбросов нет\n",
      "Выбросов нет\n",
      "Выбросов нет\n",
      "Выбросов нет\n",
      "Выбросов нет\n",
      "Выбросов нет\n",
      "Выбросов нет\n",
      "Выбросов нет\n",
      "Выбросов нет\n",
      "Выбросов нет\n",
      "Выбросов нет\n",
      "Выбросов нет\n",
      "Выбросов нет\n",
      "Выбросов нет\n",
      "Выбросов нет\n",
      "Выбросов нет\n",
      "Выбросов нет\n",
      "Выбросов нет\n",
      "Выбросов нет\n",
      "Выбросов нет\n"
     ]
    },
    {
     "data": {
      "text/plain": [
       "<matplotlib.axes._subplots.AxesSubplot at 0x11b34e48>"
      ]
     },
     "execution_count": 237,
     "metadata": {},
     "output_type": "execute_result"
    },
    {
     "data": {
      "image/png": "[encoded data removed]",
      "text/plain": [
       "<Figure size 432x288 with 1 Axes>"
      ]
     },
     "metadata": {
      "needs_background": "light"
     },
     "output_type": "display_data"
    }
   ],
   "source": [
    "#Проверка на наличие выбросов в столбце score\n",
    "\n",
    "#Расчет межквартильного размаха\n",
    "IRQ_score = students['score'].quantile(q=0.75, interpolation='midpoint') - students['score'].quantile(q=0.25, interpolation='midpoint')\n",
    "\n",
    "#Расчет перцентителей\n",
    "score_perc25 = students.score.quantile(0.25)\n",
    "score_perc75 = students.score.quantile(0.75)\n",
    "\n",
    "#Поиск выбросов\n",
    "eject_score_low = score_perc25 - 1.5*IRQ_score\n",
    "eject_score_high = score_perc75 + 1.5*IRQ_score\n",
    "\n",
    "for i in students['score']:\n",
    "    if i < eject_score_low:\n",
    "        print('Выбросы есть')\n",
    "    elif i > eject_score_high:\n",
    "        print('Выбросы есть')\n",
    "    else:\n",
    "        print('Выбросов нет')\n",
    "\n",
    "students.score.hist(bins=50)\n",
    "\n",
    "#Проверим наличие выборосов с использованием графика boxplot\n",
    "sns.boxplot(data = students.score)"
   ]
  },
  {
   "cell_type": "code",
   "execution_count": 6,
   "metadata": {},
   "outputs": [
    {
     "name": "stdout",
     "output_type": "stream",
     "text": [
      "<class 'pandas.core.frame.DataFrame'>\n",
      "Int64Index: 389 entries, 0 to 394\n",
      "Data columns (total 30 columns):\n",
      " #   Column               Non-Null Count  Dtype  \n",
      "---  ------               --------------  -----  \n",
      " 0   school               389 non-null    object \n",
      " 1   sex                  389 non-null    object \n",
      " 2   age                  389 non-null    int64  \n",
      " 3   address              374 non-null    object \n",
      " 4   famsize              362 non-null    object \n",
      " 5   Pstatus              344 non-null    object \n",
      " 6   Medu                 386 non-null    float64\n",
      " 7   Fedu                 365 non-null    float64\n",
      " 8   Mjob                 370 non-null    object \n",
      " 9   Fjob                 353 non-null    object \n",
      " 10  reason               372 non-null    object \n",
      " 11  guardian             358 non-null    object \n",
      " 12  traveltime           361 non-null    float64\n",
      " 13  studytime            382 non-null    float64\n",
      " 14  failures             367 non-null    float64\n",
      " 15  schoolsup            380 non-null    object \n",
      " 16  famsup               351 non-null    object \n",
      " 17  paid                 350 non-null    object \n",
      " 18  activities           375 non-null    object \n",
      " 19  nursery              374 non-null    object \n",
      " 20  studytime, granular  382 non-null    float64\n",
      " 21  higher               369 non-null    object \n",
      " 22  internet             355 non-null    object \n",
      " 23  romantic             358 non-null    object \n",
      " 24  famrel               362 non-null    float64\n",
      " 25  freetime             380 non-null    float64\n",
      " 26  goout                382 non-null    float64\n",
      " 27  health               374 non-null    float64\n",
      " 28  absences             378 non-null    float64\n",
      " 29  score                389 non-null    float64\n",
      "dtypes: float64(12), int64(1), object(17)\n",
      "memory usage: 94.2+ KB\n"
     ]
    }
   ],
   "source": [
    "#Формируем новый датасет, исключая из него записи с отсутствующими значениями в столбце score\n",
    "students = students[~students['score'].isnull()]\n",
    "students.info()"
   ]
  },
  {
   "cell_type": "code",
   "execution_count": 7,
   "metadata": {},
   "outputs": [
    {
     "data": {
      "text/plain": [
       "204"
      ]
     },
     "execution_count": 7,
     "metadata": {},
     "output_type": "execute_result"
    },
    {
     "data": {
      "image/png": "[encoded data removed]",
      "text/plain": [
       "<Figure size 432x288 with 1 Axes>"
      ]
     },
     "metadata": {
      "needs_background": "light"
     },
     "output_type": "display_data"
    }
   ],
   "source": [
    "#Анализ столбца sex\n",
    "students.sex.hist()\n",
    "\n",
    "#Подсчет количества девушек в новом датасете\n",
    "female = students[students.sex == 'F']\n",
    "female.sex.count()"
   ]
  },
  {
   "cell_type": "code",
   "execution_count": 8,
   "metadata": {},
   "outputs": [
    {
     "data": {
      "text/plain": [
       "185"
      ]
     },
     "execution_count": 8,
     "metadata": {},
     "output_type": "execute_result"
    }
   ],
   "source": [
    "#Подсчет количества мальчиков в новом датасете\n",
    "male = students[students.sex == 'M']\n",
    "male.sex.count()"
   ]
  },
  {
   "cell_type": "code",
   "execution_count": 9,
   "metadata": {},
   "outputs": [
    {
     "data": {
      "text/plain": [
       "50.1"
      ]
     },
     "execution_count": 9,
     "metadata": {},
     "output_type": "execute_result"
    }
   ],
   "source": [
    "#Определение среднего балла по математике среди девушек\n",
    "round(female.score.mean(),2)"
   ]
  },
  {
   "cell_type": "code",
   "execution_count": 10,
   "metadata": {},
   "outputs": [
    {
     "data": {
      "text/plain": [
       "54.65"
      ]
     },
     "execution_count": 10,
     "metadata": {},
     "output_type": "execute_result"
    }
   ],
   "source": [
    "#Определение среднего балла по математике среди мальчиков\n",
    "round(male.score.mean(),2)"
   ]
  },
  {
   "cell_type": "code",
   "execution_count": 11,
   "metadata": {},
   "outputs": [
    {
     "data": {
      "text/plain": [
       "score    50.17\n",
       "dtype: float64"
      ]
     },
     "execution_count": 11,
     "metadata": {},
     "output_type": "execute_result"
    }
   ],
   "source": [
    "#Анализ значений экзамена по математике у девушек по школе GP\n",
    "female_GP_score = female[female.school == 'GP'][['school','score']]\n",
    "round(female_GP_score.mean(),2)"
   ]
  },
  {
   "cell_type": "code",
   "execution_count": 12,
   "metadata": {},
   "outputs": [
    {
     "data": {
      "text/plain": [
       "score    49.6\n",
       "dtype: float64"
      ]
     },
     "execution_count": 12,
     "metadata": {},
     "output_type": "execute_result"
    }
   ],
   "source": [
    "#Анализ значений экзамена по математике у девушек по школе MS\n",
    "female_MS_score = female[female.school == 'MS'][['school','score']]\n",
    "round(female_MS_score.mean(),2)"
   ]
  },
  {
   "cell_type": "code",
   "execution_count": 13,
   "metadata": {},
   "outputs": [
    {
     "data": {
      "text/plain": [
       "score    55.3\n",
       "dtype: float64"
      ]
     },
     "execution_count": 13,
     "metadata": {},
     "output_type": "execute_result"
    }
   ],
   "source": [
    "#Анализ значений экзамена по математике у мальчиков по школе GP\n",
    "male_GP_score = male[male.school == 'GP'][['school','score']]\n",
    "round(male_GP_score.mean(),2)"
   ]
  },
  {
   "cell_type": "code",
   "execution_count": 14,
   "metadata": {},
   "outputs": [
    {
     "data": {
      "text/plain": [
       "score    49.25\n",
       "dtype: float64"
      ]
     },
     "execution_count": 14,
     "metadata": {},
     "output_type": "execute_result"
    }
   ],
   "source": [
    "#Анализ значений экзамена по математике у мальчиков по школе MS\n",
    "male_MS_score = male[male.school == 'MS'][['school','score']]\n",
    "round(male_MS_score.mean(),2)"
   ]
  },
  {
   "cell_type": "code",
   "execution_count": 240,
   "metadata": {},
   "outputs": [
    {
     "name": "stdout",
     "output_type": "stream",
     "text": [
      "Выбросов нет\n",
      "Выбросов нет\n",
      "Выбросов нет\n",
      "Выбросов нет\n",
      "Выбросов нет\n",
      "Выбросов нет\n",
      "Выбросов нет\n",
      "Выбросов нет\n",
      "Выбросов нет\n",
      "Выбросов нет\n",
      "Выбросов нет\n",
      "Выбросов нет\n",
      "Выбросов нет\n",
      "Выбросов нет\n",
      "Выбросов нет\n",
      "Выбросов нет\n",
      "Выбросов нет\n",
      "Выбросов нет\n",
      "Выбросов нет\n",
      "Выбросов нет\n",
      "Выбросов нет\n",
      "Выбросов нет\n",
      "Выбросов нет\n",
      "Выбросов нет\n",
      "Выбросов нет\n",
      "Выбросов нет\n",
      "Выбросов нет\n",
      "Выбросов нет\n",
      "Выбросов нет\n",
      "Выбросов нет\n",
      "Выбросов нет\n",
      "Выбросов нет\n",
      "Выбросов нет\n",
      "Выбросов нет\n",
      "Выбросов нет\n",
      "Выбросов нет\n",
      "Выбросов нет\n",
      "Выбросов нет\n",
      "Выбросов нет\n",
      "Выбросов нет\n",
      "Выбросов нет\n",
      "Выбросов нет\n",
      "Выбросов нет\n",
      "Выбросов нет\n",
      "Выбросов нет\n",
      "Выбросов нет\n",
      "Выбросов нет\n",
      "Выбросов нет\n",
      "Выбросов нет\n",
      "Выбросов нет\n",
      "Выбросов нет\n",
      "Выбросов нет\n",
      "Выбросов нет\n",
      "Выбросов нет\n",
      "Выбросов нет\n",
      "Выбросов нет\n",
      "Выбросов нет\n",
      "Выбросов нет\n",
      "Выбросов нет\n",
      "Выбросов нет\n",
      "Выбросов нет\n",
      "Выбросов нет\n",
      "Выбросов нет\n",
      "Выбросов нет\n",
      "Выбросов нет\n",
      "Выбросов нет\n",
      "Выбросов нет\n",
      "Выбросов нет\n",
      "Выбросов нет\n",
      "Выбросов нет\n",
      "Выбросов нет\n",
      "Выбросов нет\n",
      "Выбросов нет\n",
      "Выбросов нет\n",
      "Выбросов нет\n",
      "Выбросов нет\n",
      "Выбросов нет\n",
      "Выбросов нет\n",
      "Выбросов нет\n",
      "Выбросов нет\n",
      "Выбросов нет\n",
      "Выбросов нет\n",
      "Выбросов нет\n",
      "Выбросов нет\n",
      "Выбросов нет\n",
      "Выбросов нет\n",
      "Выбросов нет\n",
      "Выбросов нет\n",
      "Выбросов нет\n",
      "Выбросов нет\n",
      "Выбросов нет\n",
      "Выбросов нет\n",
      "Выбросов нет\n",
      "Выбросов нет\n",
      "Выбросов нет\n",
      "Выбросов нет\n",
      "Выбросов нет\n",
      "Выбросов нет\n",
      "Выбросов нет\n",
      "Выбросов нет\n",
      "Выбросов нет\n",
      "Выбросов нет\n",
      "Выбросов нет\n",
      "Выбросов нет\n",
      "Выбросов нет\n",
      "Выбросов нет\n",
      "Выбросов нет\n",
      "Выбросов нет\n",
      "Выбросов нет\n",
      "Выбросов нет\n",
      "Выбросов нет\n",
      "Выбросов нет\n",
      "Выбросов нет\n",
      "Выбросов нет\n",
      "Выбросов нет\n",
      "Выбросов нет\n",
      "Выбросов нет\n",
      "Выбросов нет\n",
      "Выбросов нет\n",
      "Выбросов нет\n",
      "Выбросов нет\n",
      "Выбросов нет\n",
      "Выбросов нет\n",
      "Выбросов нет\n",
      "Выбросов нет\n",
      "Выбросов нет\n",
      "Выбросов нет\n",
      "Выбросов нет\n",
      "Выбросов нет\n",
      "Выбросов нет\n",
      "Выбросов нет\n",
      "Выбросов нет\n",
      "Выбросов нет\n",
      "Выбросов нет\n",
      "Выбросов нет\n",
      "Выбросов нет\n",
      "Выбросов нет\n",
      "Выбросов нет\n",
      "Выбросов нет\n",
      "Выбросов нет\n",
      "Выбросов нет\n",
      "Выбросов нет\n",
      "Выбросов нет\n",
      "Выбросов нет\n",
      "Выбросов нет\n",
      "Выбросов нет\n",
      "Выбросов нет\n",
      "Выбросов нет\n",
      "Выбросов нет\n",
      "Выбросов нет\n",
      "Выбросов нет\n",
      "Выбросов нет\n",
      "Выбросов нет\n",
      "Выбросов нет\n",
      "Выбросов нет\n",
      "Выбросов нет\n",
      "Выбросов нет\n",
      "Выбросов нет\n",
      "Выбросов нет\n",
      "Выбросов нет\n",
      "Выбросов нет\n",
      "Выбросов нет\n",
      "Выбросов нет\n",
      "Выбросов нет\n",
      "Выбросов нет\n",
      "Выбросов нет\n",
      "Выбросов нет\n",
      "Выбросов нет\n",
      "Выбросов нет\n",
      "Выбросов нет\n",
      "Выбросов нет\n",
      "Выбросов нет\n",
      "Выбросов нет\n",
      "Выбросов нет\n",
      "Выбросов нет\n",
      "Выбросов нет\n",
      "Выбросов нет\n",
      "Выбросов нет\n",
      "Выбросов нет\n",
      "Выбросов нет\n",
      "Выбросов нет\n",
      "Выбросов нет\n",
      "Выбросов нет\n",
      "Выбросов нет\n",
      "Выбросов нет\n",
      "Выбросов нет\n",
      "Выбросов нет\n",
      "Выбросов нет\n",
      "Выбросов нет\n",
      "Выбросов нет\n",
      "Выбросов нет\n",
      "Выбросов нет\n",
      "Выбросов нет\n",
      "Выбросов нет\n",
      "Выбросов нет\n",
      "Выбросов нет\n",
      "Выбросов нет\n",
      "Выбросов нет\n",
      "Выбросов нет\n",
      "Выбросов нет\n",
      "Выбросов нет\n",
      "Выбросов нет\n",
      "Выбросов нет\n",
      "Выбросов нет\n",
      "Выбросов нет\n",
      "Выбросов нет\n",
      "Выбросов нет\n",
      "Выбросов нет\n",
      "Выбросов нет\n",
      "Выбросов нет\n",
      "Выбросов нет\n",
      "Выбросов нет\n",
      "Выбросов нет\n",
      "Выбросов нет\n",
      "Выбросов нет\n",
      "Выбросов нет\n",
      "Выбросов нет\n",
      "Выбросов нет\n",
      "Выбросов нет\n",
      "Выбросов нет\n",
      "Выбросов нет\n",
      "Выбросов нет\n",
      "Выбросов нет\n",
      "Выбросов нет\n",
      "Выбросов нет\n",
      "Выбросов нет\n",
      "Выбросов нет\n",
      "Выбросов нет\n",
      "Выбросов нет\n",
      "Выбросов нет\n",
      "Выбросов нет\n",
      "Выбросов нет\n",
      "Выбросов нет\n",
      "Выбросов нет\n",
      "Выбросов нет\n",
      "Выбросов нет\n",
      "Выбросов нет\n",
      "Выбросов нет\n",
      "Выбросов нет\n",
      "Выбросов нет\n",
      "Выбросов нет\n",
      "Выбросов нет\n",
      "Выбросов нет\n",
      "Выбросов нет\n",
      "Выбросов нет\n",
      "Выбросы есть 22\n",
      "Выбросов нет\n",
      "Выбросов нет\n",
      "Выбросов нет\n",
      "Выбросов нет\n",
      "Выбросов нет\n",
      "Выбросов нет\n",
      "Выбросов нет\n",
      "Выбросов нет\n",
      "Выбросов нет\n",
      "Выбросов нет\n",
      "Выбросов нет\n",
      "Выбросов нет\n",
      "Выбросов нет\n",
      "Выбросов нет\n",
      "Выбросов нет\n",
      "Выбросов нет\n",
      "Выбросов нет\n",
      "Выбросов нет\n",
      "Выбросов нет\n",
      "Выбросов нет\n",
      "Выбросов нет\n",
      "Выбросов нет\n",
      "Выбросов нет\n",
      "Выбросов нет\n",
      "Выбросов нет\n",
      "Выбросов нет\n",
      "Выбросов нет\n",
      "Выбросов нет\n",
      "Выбросов нет\n",
      "Выбросов нет\n",
      "Выбросов нет\n",
      "Выбросов нет\n",
      "Выбросов нет\n",
      "Выбросов нет\n",
      "Выбросов нет\n",
      "Выбросов нет\n",
      "Выбросов нет\n",
      "Выбросов нет\n",
      "Выбросов нет\n",
      "Выбросов нет\n",
      "Выбросов нет\n",
      "Выбросов нет\n",
      "Выбросов нет\n",
      "Выбросов нет\n",
      "Выбросов нет\n",
      "Выбросов нет\n",
      "Выбросов нет\n",
      "Выбросов нет\n",
      "Выбросов нет\n",
      "Выбросов нет\n",
      "Выбросов нет\n",
      "Выбросов нет\n",
      "Выбросов нет\n",
      "Выбросов нет\n",
      "Выбросов нет\n",
      "Выбросов нет\n",
      "Выбросов нет\n",
      "Выбросов нет\n",
      "Выбросов нет\n",
      "Выбросов нет\n",
      "Выбросов нет\n",
      "Выбросов нет\n",
      "Выбросов нет\n",
      "Выбросов нет\n",
      "Выбросов нет\n",
      "Выбросов нет\n",
      "Выбросов нет\n",
      "Выбросов нет\n",
      "Выбросов нет\n",
      "Выбросов нет\n",
      "Выбросов нет\n",
      "Выбросов нет\n",
      "Выбросов нет\n",
      "Выбросов нет\n",
      "Выбросов нет\n",
      "Выбросов нет\n",
      "Выбросов нет\n",
      "Выбросов нет\n",
      "Выбросов нет\n",
      "Выбросов нет\n",
      "Выбросов нет\n",
      "Выбросов нет\n",
      "Выбросов нет\n",
      "Выбросов нет\n",
      "Выбросов нет\n",
      "Выбросов нет\n",
      "Выбросов нет\n",
      "Выбросов нет\n",
      "Выбросов нет\n",
      "Выбросов нет\n",
      "Выбросов нет\n",
      "Выбросов нет\n",
      "Выбросов нет\n",
      "Выбросов нет\n",
      "Выбросов нет\n",
      "Выбросов нет\n",
      "Выбросов нет\n",
      "Выбросов нет\n",
      "Выбросов нет\n",
      "Выбросов нет\n",
      "Выбросов нет\n",
      "Выбросов нет\n",
      "Выбросов нет\n",
      "Выбросов нет\n",
      "Выбросов нет\n",
      "Выбросов нет\n",
      "Выбросов нет\n",
      "Выбросов нет\n",
      "Выбросов нет\n",
      "Выбросов нет\n",
      "Выбросов нет\n",
      "Выбросов нет\n",
      "Выбросов нет\n",
      "Выбросов нет\n",
      "Выбросов нет\n",
      "Выбросов нет\n",
      "Выбросов нет\n",
      "Выбросов нет\n",
      "Выбросов нет\n",
      "Выбросов нет\n",
      "Выбросов нет\n",
      "Выбросов нет\n",
      "Выбросов нет\n",
      "Выбросов нет\n",
      "Выбросов нет\n",
      "Выбросов нет\n",
      "Выбросов нет\n",
      "Выбросов нет\n",
      "Выбросов нет\n",
      "Выбросов нет\n",
      "Выбросов нет\n",
      "Выбросов нет\n",
      "Выбросов нет\n",
      "Выбросов нет\n",
      "Выбросов нет\n",
      "Выбросов нет\n",
      "Выбросов нет\n",
      "Выбросов нет\n",
      "Выбросов нет\n",
      "Выбросов нет\n",
      "Выбросов нет\n",
      "Выбросов нет\n",
      "Выбросов нет\n"
     ]
    },
    {
     "data": {
      "text/plain": [
       "<matplotlib.axes._subplots.AxesSubplot at 0x11af9148>"
      ]
     },
     "execution_count": 240,
     "metadata": {},
     "output_type": "execute_result"
    },
    {
     "data": {
      "image/png": "[encoded data removed]",
      "text/plain": [
       "<Figure size 432x288 with 1 Axes>"
      ]
     },
     "metadata": {
      "needs_background": "light"
     },
     "output_type": "display_data"
    }
   ],
   "source": [
    "#Анализ столбца age\n",
    "students.age.hist()\n",
    "\n",
    "#Расчет межквартильного размаха по столбу age\n",
    "IRQ_age = students['age'].quantile(q=0.75, interpolation='midpoint') - students['age'].quantile(q=0.25, interpolation='midpoint')\n",
    "\n",
    "#Расчет перцентителей\n",
    "age_perc25 = students.age.quantile(0.25)\n",
    "age_perc75 = students.age.quantile(0.75)\n",
    "\n",
    "#Поиск выбросов\n",
    "eject_age_low = age_perc25 - 1.5*IRQ_age\n",
    "eject_age_high = age_perc75 + 1.5*IRQ_age\n",
    "\n",
    "for i in students['age']:\n",
    "    if i < eject_age_low:\n",
    "        print('Выбросы есть', i)\n",
    "    elif i > eject_age_high:\n",
    "        print('Выбросы есть', i)\n",
    "    else:\n",
    "        print('Выбросов нет')\n",
    "        \n",
    "students.age.hist(bins=5)\n",
    "\n",
    "sns.boxplot(data = students['age'])"
   ]
  },
  {
   "cell_type": "code",
   "execution_count": 17,
   "metadata": {},
   "outputs": [
    {
     "data": {
      "text/plain": [
       "<matplotlib.axes._subplots.AxesSubplot at 0xbad4688>"
      ]
     },
     "execution_count": 17,
     "metadata": {},
     "output_type": "execute_result"
    },
    {
     "data": {
      "image/png": "[encoded data removed]",
      "text/plain": [
       "<Figure size 432x288 with 1 Axes>"
      ]
     },
     "metadata": {
      "needs_background": "light"
     },
     "output_type": "display_data"
    }
   ],
   "source": [
    "#Анализ столбца address\n",
    "students.address.hist()"
   ]
  },
  {
   "cell_type": "code",
   "execution_count": 18,
   "metadata": {},
   "outputs": [
    {
     "data": {
      "text/plain": [
       "291"
      ]
     },
     "execution_count": 18,
     "metadata": {},
     "output_type": "execute_result"
    }
   ],
   "source": [
    "#Подсчет количества проживающих в городе\n",
    "urban_citizens = students[students.address == 'U']\n",
    "urban_citizens.address.count()"
   ]
  },
  {
   "cell_type": "code",
   "execution_count": 19,
   "metadata": {},
   "outputs": [
    {
     "data": {
      "text/plain": [
       "83"
      ]
     },
     "execution_count": 19,
     "metadata": {},
     "output_type": "execute_result"
    }
   ],
   "source": [
    "#Подсчет количества проживающих за городом\n",
    "suburban_citizens = students[students.address == 'R']\n",
    "suburban_citizens.address.count()"
   ]
  },
  {
   "cell_type": "code",
   "execution_count": 20,
   "metadata": {},
   "outputs": [],
   "source": [
    "#Замена пропусков в столбце address на None\n",
    "students.address = students.address.astype(str).apply(lambda x: None if x.strip() == 'nan' else x)"
   ]
  },
  {
   "cell_type": "code",
   "execution_count": 21,
   "metadata": {},
   "outputs": [
    {
     "data": {
      "text/plain": [
       "53.57"
      ]
     },
     "execution_count": 21,
     "metadata": {},
     "output_type": "execute_result"
    }
   ],
   "source": [
    "#Определение среднего балла по математике среди учеников, проживающих в городе\n",
    "round(urban_citizens.score.mean(),2)"
   ]
  },
  {
   "cell_type": "code",
   "execution_count": 22,
   "metadata": {},
   "outputs": [
    {
     "data": {
      "text/plain": [
       "46.93"
      ]
     },
     "execution_count": 22,
     "metadata": {},
     "output_type": "execute_result"
    }
   ],
   "source": [
    "#Определение среднего балла по математике среди учеников, проживающих за городом\n",
    "round(suburban_citizens.score.mean(),2)"
   ]
  },
  {
   "cell_type": "code",
   "execution_count": 23,
   "metadata": {},
   "outputs": [
    {
     "data": {
      "text/plain": [
       "51.15"
      ]
     },
     "execution_count": 23,
     "metadata": {},
     "output_type": "execute_result"
    }
   ],
   "source": [
    "#Определение среднего балла по математике среди девушек, проживающих в городе и учащихся в школе GP\n",
    "round(urban_citizens[(urban_citizens.sex == 'F') & (urban_citizens.school == 'GP')].score.mean(),2)"
   ]
  },
  {
   "cell_type": "code",
   "execution_count": 24,
   "metadata": {},
   "outputs": [
    {
     "data": {
      "text/plain": [
       "48.33"
      ]
     },
     "execution_count": 24,
     "metadata": {},
     "output_type": "execute_result"
    }
   ],
   "source": [
    "#Определение среднего балла по математике среди девушек, проживающих в городе и учащихся в школе MS\n",
    "round(urban_citizens[(urban_citizens.sex == 'F') & (urban_citizens.school == 'MS')].score.mean(),2)"
   ]
  },
  {
   "cell_type": "code",
   "execution_count": 25,
   "metadata": {},
   "outputs": [
    {
     "data": {
      "text/plain": [
       "56.43"
      ]
     },
     "execution_count": 25,
     "metadata": {},
     "output_type": "execute_result"
    }
   ],
   "source": [
    "#Определение среднего балла по математике среди мальчиков, проживающих в городе и учащихся в школе GP\n",
    "round(urban_citizens[(urban_citizens.sex == 'M') & (urban_citizens.school == 'GP')].score.mean(),2)"
   ]
  },
  {
   "cell_type": "code",
   "execution_count": 26,
   "metadata": {},
   "outputs": [
    {
     "data": {
      "text/plain": [
       "56.67"
      ]
     },
     "execution_count": 26,
     "metadata": {},
     "output_type": "execute_result"
    }
   ],
   "source": [
    "#Определение среднего балла по математике среди мальчиков, проживающих в городе и учащихся в школе MS\n",
    "round(urban_citizens[(urban_citizens.sex == 'M') & (urban_citizens.school == 'MS')].score.mean(),2)"
   ]
  },
  {
   "cell_type": "code",
   "execution_count": 27,
   "metadata": {},
   "outputs": [
    {
     "data": {
      "text/plain": [
       "46.61"
      ]
     },
     "execution_count": 27,
     "metadata": {},
     "output_type": "execute_result"
    }
   ],
   "source": [
    "#Определение среднего балла по математике среди девушек, проживающих за городом и учащихся в школе GP\n",
    "round(suburban_citizens[(suburban_citizens.sex == 'F') & (suburban_citizens.school == 'GP')].score.mean(),2)"
   ]
  },
  {
   "cell_type": "code",
   "execution_count": 28,
   "metadata": {},
   "outputs": [
    {
     "data": {
      "text/plain": [
       "45.77"
      ]
     },
     "execution_count": 28,
     "metadata": {},
     "output_type": "execute_result"
    }
   ],
   "source": [
    "#Определение среднего балла по математике среди девушек, проживающих за городом и учащихся в школе MS\n",
    "round(suburban_citizens[(suburban_citizens.sex == 'F') & (suburban_citizens.school == 'MS')].score.mean(),2)"
   ]
  },
  {
   "cell_type": "code",
   "execution_count": 29,
   "metadata": {},
   "outputs": [
    {
     "data": {
      "text/plain": [
       "49.48"
      ]
     },
     "execution_count": 29,
     "metadata": {},
     "output_type": "execute_result"
    }
   ],
   "source": [
    "#Определение среднего балла по математике среди мальчиков, проживающих за городом и учащихся в школе GP\n",
    "round(suburban_citizens[(suburban_citizens.sex == 'M') & (suburban_citizens.school == 'GP')].score.mean(),2)"
   ]
  },
  {
   "cell_type": "code",
   "execution_count": 30,
   "metadata": {},
   "outputs": [
    {
     "data": {
      "text/plain": [
       "42.0"
      ]
     },
     "execution_count": 30,
     "metadata": {},
     "output_type": "execute_result"
    }
   ],
   "source": [
    "#Определение среднего балла по математике среди мальчиков, проживающих за городом и учащихся в школе MS\n",
    "round(suburban_citizens[(suburban_citizens.sex == 'M') & (suburban_citizens.school == 'MS')].score.mean(),2)"
   ]
  },
  {
   "cell_type": "code",
   "execution_count": 31,
   "metadata": {},
   "outputs": [
    {
     "data": {
      "text/plain": [
       "107"
      ]
     },
     "execution_count": 31,
     "metadata": {},
     "output_type": "execute_result"
    },
    {
     "data": {
      "image/png": "[encoded data removed]",
      "text/plain": [
       "<Figure size 432x288 with 1 Axes>"
      ]
     },
     "metadata": {
      "needs_background": "light"
     },
     "output_type": "display_data"
    }
   ],
   "source": [
    "#Анализ столбца famsize (размер семьи)\n",
    "students.famsize.hist()\n",
    "\n",
    "##Замена пропусков в столбце famsize на None\n",
    "students.famsize = students.famsize.astype(str).apply(lambda x: None if x.strip() == 'nan' else x)\n",
    "\n",
    "#Подсчет количества семей с одним ребенком\n",
    "small_family = students[students.famsize == 'LE3']\n",
    "small_family.famsize.count()"
   ]
  },
  {
   "cell_type": "code",
   "execution_count": 32,
   "metadata": {},
   "outputs": [
    {
     "data": {
      "text/plain": [
       "255"
      ]
     },
     "execution_count": 32,
     "metadata": {},
     "output_type": "execute_result"
    }
   ],
   "source": [
    "#Подсчет количества семей с более чем одним ребенком\n",
    "big_family = students[students.famsize == 'GT3']\n",
    "big_family.famsize.count()"
   ]
  },
  {
   "cell_type": "code",
   "execution_count": 33,
   "metadata": {},
   "outputs": [
    {
     "data": {
      "text/plain": [
       "54.67"
      ]
     },
     "execution_count": 33,
     "metadata": {},
     "output_type": "execute_result"
    }
   ],
   "source": [
    "#Определение среднего балла по математике среди учеников, проживающих в условно маленьких семьях\n",
    "round(small_family.score.mean(),2)"
   ]
  },
  {
   "cell_type": "code",
   "execution_count": 34,
   "metadata": {},
   "outputs": [
    {
     "data": {
      "text/plain": [
       "51.51"
      ]
     },
     "execution_count": 34,
     "metadata": {},
     "output_type": "execute_result"
    }
   ],
   "source": [
    "#Определение среднего балла по математике среди учеников, проживающих в условно больших семьях\n",
    "round(big_family.score.mean(),2)"
   ]
  },
  {
   "cell_type": "code",
   "execution_count": 35,
   "metadata": {},
   "outputs": [
    {
     "data": {
      "text/plain": [
       "51.47"
      ]
     },
     "execution_count": 35,
     "metadata": {},
     "output_type": "execute_result"
    }
   ],
   "source": [
    "#Определение среднего балла по математике среди девушек из маленьких семей, проживающих в городе и учащихся в школе GP\n",
    "round(small_family[(small_family.sex == 'F') & (small_family.school == 'GP') & (small_family.address == 'U')].score.mean(),2)"
   ]
  },
  {
   "cell_type": "code",
   "execution_count": 36,
   "metadata": {},
   "outputs": [
    {
     "data": {
      "text/plain": [
       "53.75"
      ]
     },
     "execution_count": 36,
     "metadata": {},
     "output_type": "execute_result"
    }
   ],
   "source": [
    "#Определение среднего балла по математике среди девушек из маленьких семей, проживающих в городе и учащихся в школе MS\n",
    "round(small_family[(small_family.sex == 'F') & (small_family.school == 'MS') & (small_family.address == 'U')].score.mean(),2)"
   ]
  },
  {
   "cell_type": "code",
   "execution_count": 37,
   "metadata": {},
   "outputs": [
    {
     "data": {
      "text/plain": [
       "62.5"
      ]
     },
     "execution_count": 37,
     "metadata": {},
     "output_type": "execute_result"
    }
   ],
   "source": [
    "#Определение среднего балла по математике среди девушек из маленьких семей, проживающих за городом и учащихся в школе GP\n",
    "round(small_family[(small_family.sex == 'F') & (small_family.school == 'GP') & (small_family.address == 'R')].score.mean(),2)"
   ]
  },
  {
   "cell_type": "code",
   "execution_count": 38,
   "metadata": {},
   "outputs": [
    {
     "data": {
      "text/plain": [
       "72.5"
      ]
     },
     "execution_count": 38,
     "metadata": {},
     "output_type": "execute_result"
    }
   ],
   "source": [
    "#Определение среднего балла по математике среди девушек из маленьких семей, проживающих за городом и учащихся в школе MS\n",
    "round(small_family[(small_family.sex == 'F') & (small_family.school == 'MS') & (small_family.address == 'R')].score.mean(),2)"
   ]
  },
  {
   "cell_type": "code",
   "execution_count": 39,
   "metadata": {},
   "outputs": [
    {
     "data": {
      "text/plain": [
       "56.41"
      ]
     },
     "execution_count": 39,
     "metadata": {},
     "output_type": "execute_result"
    }
   ],
   "source": [
    "#Определение среднего балла по математике среди мальчиков из маленьких семей, проживающих в городе и учащихся в школе GP\n",
    "round(small_family[(small_family.sex == 'M') & (small_family.school == 'GP') & (small_family.address == 'U')].score.mean(),2)"
   ]
  },
  {
   "cell_type": "code",
   "execution_count": 40,
   "metadata": {},
   "outputs": [
    {
     "data": {
      "text/plain": [
       "54.17"
      ]
     },
     "execution_count": 40,
     "metadata": {},
     "output_type": "execute_result"
    }
   ],
   "source": [
    "#Определение среднего балла по математике среди мальчиков из маленьких семей, проживающих в городе и учащихся в школе MS\n",
    "round(small_family[(small_family.sex == 'M') & (small_family.school == 'MS') & (small_family.address == 'U')].score.mean(),2)"
   ]
  },
  {
   "cell_type": "code",
   "execution_count": 41,
   "metadata": {},
   "outputs": [
    {
     "data": {
      "text/plain": [
       "47.14"
      ]
     },
     "execution_count": 41,
     "metadata": {},
     "output_type": "execute_result"
    }
   ],
   "source": [
    "#Определение среднего балла по математике среди мальчиков из маленьких семей, проживающих за городом и учащихся в школе GP\n",
    "round(small_family[(small_family.sex == 'M') & (small_family.school == 'GP') & (small_family.address == 'R')].score.mean(),2)"
   ]
  },
  {
   "cell_type": "code",
   "execution_count": 42,
   "metadata": {},
   "outputs": [
    {
     "data": {
      "text/plain": [
       "56.67"
      ]
     },
     "execution_count": 42,
     "metadata": {},
     "output_type": "execute_result"
    }
   ],
   "source": [
    "#Определение среднего балла по математике среди мальчиков из маленьких семей, проживающих за городом и учащихся в школе MS\n",
    "round(small_family[(small_family.sex == 'M') & (small_family.school == 'MS') & (small_family.address == 'R')].score.mean(),2)"
   ]
  },
  {
   "cell_type": "code",
   "execution_count": 43,
   "metadata": {},
   "outputs": [
    {
     "data": {
      "text/plain": [
       "51.39"
      ]
     },
     "execution_count": 43,
     "metadata": {},
     "output_type": "execute_result"
    }
   ],
   "source": [
    "#Определение среднего балла по математике среди девушек из больших семей, проживающих в городе и учащихся в школе GP\n",
    "round(big_family[(big_family.sex == 'F') & (big_family.school == 'GP') & (big_family.address == 'U')].score.mean(),2)"
   ]
  },
  {
   "cell_type": "code",
   "execution_count": 44,
   "metadata": {},
   "outputs": [
    {
     "data": {
      "text/plain": [
       "44.0"
      ]
     },
     "execution_count": 44,
     "metadata": {},
     "output_type": "execute_result"
    }
   ],
   "source": [
    "#Определение среднего балла по математике среди девушек из больших семей, проживающих в городе и учащихся в школе MS\n",
    "round(big_family[(big_family.sex == 'F') & (big_family.school == 'MS') & (big_family.address == 'U')].score.mean(),2)"
   ]
  },
  {
   "cell_type": "code",
   "execution_count": 45,
   "metadata": {},
   "outputs": [
    {
     "data": {
      "text/plain": [
       "42.8"
      ]
     },
     "execution_count": 45,
     "metadata": {},
     "output_type": "execute_result"
    }
   ],
   "source": [
    "#Определение среднего балла по математике среди девушек из больших семей, проживающих за городом и учащихся в школе GP\n",
    "round(big_family[(big_family.sex == 'F') & (big_family.school == 'GP') & (big_family.address == 'R')].score.mean(),2)"
   ]
  },
  {
   "cell_type": "code",
   "execution_count": 46,
   "metadata": {},
   "outputs": [
    {
     "data": {
      "text/plain": [
       "42.78"
      ]
     },
     "execution_count": 46,
     "metadata": {},
     "output_type": "execute_result"
    }
   ],
   "source": [
    "#Определение среднего балла по математике среди девушек из больших семей, проживающих за городом и учащихся в школе MS\n",
    "round(big_family[(big_family.sex == 'F') & (big_family.school == 'MS') & (big_family.address == 'R')].score.mean(),2)"
   ]
  },
  {
   "cell_type": "code",
   "execution_count": 47,
   "metadata": {},
   "outputs": [
    {
     "data": {
      "text/plain": [
       "56.75"
      ]
     },
     "execution_count": 47,
     "metadata": {},
     "output_type": "execute_result"
    }
   ],
   "source": [
    "#Определение среднего балла по математике среди мальчиков из больших семей, проживающих в городе и учащихся в школе GP\n",
    "round(big_family[(big_family.sex == 'M') & (big_family.school == 'GP') & (big_family.address == 'U')].score.mean(),2)"
   ]
  },
  {
   "cell_type": "code",
   "execution_count": 48,
   "metadata": {},
   "outputs": [
    {
     "data": {
      "text/plain": [
       "61.67"
      ]
     },
     "execution_count": 48,
     "metadata": {},
     "output_type": "execute_result"
    }
   ],
   "source": [
    "#Определение среднего балла по математике среди мальчиков из больших семей, проживающих в городе и учащихся в школе MS\n",
    "round(big_family[(big_family.sex == 'M') & (big_family.school == 'MS') & (big_family.address == 'U')].score.mean(),2)"
   ]
  },
  {
   "cell_type": "code",
   "execution_count": 49,
   "metadata": {},
   "outputs": [
    {
     "data": {
      "text/plain": [
       "50.0"
      ]
     },
     "execution_count": 49,
     "metadata": {},
     "output_type": "execute_result"
    }
   ],
   "source": [
    "#Определение среднего балла по математике среди мальчиков из больших семей, проживающих за городом и учащихся в школе GP\n",
    "round(big_family[(big_family.sex == 'M') & (big_family.school == 'GP') & (big_family.address == 'R')].score.mean(),2)"
   ]
  },
  {
   "cell_type": "code",
   "execution_count": 50,
   "metadata": {},
   "outputs": [
    {
     "data": {
      "text/plain": [
       "35.71"
      ]
     },
     "execution_count": 50,
     "metadata": {},
     "output_type": "execute_result"
    }
   ],
   "source": [
    "#Определение среднего балла по математике среди мальчиков из больших семей, проживающих за городом и учащихся в школе MS\n",
    "round(big_family[(big_family.sex == 'M') & (big_family.school == 'MS') & (big_family.address == 'R')].score.mean(),2)"
   ]
  },
  {
   "cell_type": "code",
   "execution_count": 51,
   "metadata": {},
   "outputs": [
    {
     "data": {
      "text/plain": [
       "308"
      ]
     },
     "execution_count": 51,
     "metadata": {},
     "output_type": "execute_result"
    },
    {
     "data": {
      "image/png": "[encoded data removed]",
      "text/plain": [
       "<Figure size 432x288 with 1 Axes>"
      ]
     },
     "metadata": {
      "needs_background": "light"
     },
     "output_type": "display_data"
    }
   ],
   "source": [
    "#Анализ столбца Pstatus\n",
    "students.Pstatus.hist()\n",
    "\n",
    "##Замена пропусков в столбце Pstatus на None\n",
    "students.Pstatus = students.Pstatus.astype(str).apply(lambda x: None if x.strip() == 'nan' else x)\n",
    "\n",
    "#Подсчет количества семей, живущих вместе\n",
    "parents_status_T = students[students.Pstatus == 'T']\n",
    "parents_status_T.Pstatus.count()"
   ]
  },
  {
   "cell_type": "code",
   "execution_count": 52,
   "metadata": {},
   "outputs": [
    {
     "data": {
      "text/plain": [
       "36"
      ]
     },
     "execution_count": 52,
     "metadata": {},
     "output_type": "execute_result"
    }
   ],
   "source": [
    "#Подсчет количества семей, живущих раздельно\n",
    "parents_status_A = students[students.Pstatus == 'A']\n",
    "parents_status_A.Pstatus.count()"
   ]
  },
  {
   "cell_type": "code",
   "execution_count": 53,
   "metadata": {},
   "outputs": [
    {
     "data": {
      "text/plain": [
       "51.7"
      ]
     },
     "execution_count": 53,
     "metadata": {},
     "output_type": "execute_result"
    }
   ],
   "source": [
    "#Определение среднего балла по математике среди учеников, проживающих в полных семьях\n",
    "round(parents_status_T.score.mean(),2)"
   ]
  },
  {
   "cell_type": "code",
   "execution_count": 54,
   "metadata": {},
   "outputs": [
    {
     "data": {
      "text/plain": [
       "55.14"
      ]
     },
     "execution_count": 54,
     "metadata": {},
     "output_type": "execute_result"
    }
   ],
   "source": [
    "#Определение среднего балла по математике среди учеников, проживающих в неполных семьях\n",
    "round(parents_status_A.score.mean(),2)"
   ]
  },
  {
   "cell_type": "code",
   "execution_count": 55,
   "metadata": {},
   "outputs": [
    {
     "data": {
      "text/plain": [
       "<matplotlib.axes._subplots.AxesSubplot at 0xbbfe908>"
      ]
     },
     "execution_count": 55,
     "metadata": {},
     "output_type": "execute_result"
    },
    {
     "data": {
      "image/png": "[encoded data removed]",
      "text/plain": [
       "<Figure size 432x288 with 1 Axes>"
      ]
     },
     "metadata": {
      "needs_background": "light"
     },
     "output_type": "display_data"
    }
   ],
   "source": [
    "#Исключение из столбца отсутствующих значений\n",
    "students_Medu = students[~students['Medu'].isnull()]\n",
    "\n",
    "#Анализ столбца Medu\n",
    "students.Medu.hist()"
   ]
  },
  {
   "cell_type": "code",
   "execution_count": 56,
   "metadata": {},
   "outputs": [
    {
     "data": {
      "text/plain": [
       "<matplotlib.axes._subplots.AxesSubplot at 0xbc33088>"
      ]
     },
     "execution_count": 56,
     "metadata": {},
     "output_type": "execute_result"
    },
    {
     "data": {
      "image/png": "[encoded data removed]",
      "text/plain": [
       "<Figure size 432x288 with 1 Axes>"
      ]
     },
     "metadata": {
      "needs_background": "light"
     },
     "output_type": "display_data"
    }
   ],
   "source": [
    "#Исключение из столбца отсутствующих значений\n",
    "students_Fedu = students[~students['Fedu'].isnull()]\n",
    "\n",
    "#Анализ столбца Fedu\n",
    "students.Fedu.hist()"
   ]
  },
  {
   "cell_type": "code",
   "execution_count": 97,
   "metadata": {},
   "outputs": [
    {
     "data": {
      "text/plain": [
       "0     55\n",
       "1     32\n",
       "2     98\n",
       "3     58\n",
       "4    127\n",
       "dtype: int64"
      ]
     },
     "metadata": {},
     "output_type": "display_data"
    },
    {
     "data": {
      "text/plain": [
       "<matplotlib.axes._subplots.AxesSubplot at 0xd7873c8>"
      ]
     },
     "execution_count": 97,
     "metadata": {},
     "output_type": "execute_result"
    },
    {
     "data": {
      "image/png": "[encoded data removed]",
      "text/plain": [
       "<Figure size 432x288 with 1 Axes>"
      ]
     },
     "metadata": {
      "needs_background": "light"
     },
     "output_type": "display_data"
    }
   ],
   "source": [
    "#Анализ столбцов Mjob и Fjob\n",
    "\n",
    "#Подсчет количества матерей, занимающихся той или иной деятельностью\n",
    "mother_teacher = students[students.Mjob == 'teacher'].Mjob.count()\n",
    "mother_health = students[students.Mjob == 'health'].Mjob.count()\n",
    "mother_services = students[students.Mjob == 'services'].Mjob.count()\n",
    "mother_at_home = students[students.Mjob == 'at_home'].Mjob.count()\n",
    "mother_other = students[students.Mjob == 'other'].Mjob.count()\n",
    "\n",
    "mother_job = pd.Series([mother_teacher,mother_health,mother_services,mother_at_home,mother_other])\n",
    "display(mother_job)\n",
    "\n",
    "sns.countplot(x = 'Mjob', data = students)"
   ]
  },
  {
   "cell_type": "code",
   "execution_count": 96,
   "metadata": {},
   "outputs": [
    {
     "data": {
      "text/plain": [
       "0     29\n",
       "1     15\n",
       "2     99\n",
       "3     16\n",
       "4    194\n",
       "dtype: int64"
      ]
     },
     "metadata": {},
     "output_type": "display_data"
    },
    {
     "data": {
      "text/plain": [
       "<matplotlib.axes._subplots.AxesSubplot at 0xd713548>"
      ]
     },
     "execution_count": 96,
     "metadata": {},
     "output_type": "execute_result"
    },
    {
     "data": {
      "image/png": "[encoded data removed]",
      "text/plain": [
       "<Figure size 432x288 with 1 Axes>"
      ]
     },
     "metadata": {
      "needs_background": "light"
     },
     "output_type": "display_data"
    }
   ],
   "source": [
    "#Подсчет количества отцов, занимающихся той или иной деятельностью\n",
    "father_teacher = students[students.Fjob == 'teacher'].Fjob.count()\n",
    "father_health = students[students.Fjob == 'health'].Fjob.count()\n",
    "father_services = students[students.Fjob == 'services'].Fjob.count()\n",
    "father_at_home = students[students.Fjob == 'at_home'].Fjob.count()\n",
    "father_other = students[students.Fjob == 'other'].Fjob.count()\n",
    "\n",
    "father_job = pd.Series([father_teacher,father_health,father_services,father_at_home,father_other])\n",
    "display(father_job)\n",
    "\n",
    "sns.countplot(x = 'Fjob', data = students)"
   ]
  },
  {
   "cell_type": "code",
   "execution_count": 63,
   "metadata": {},
   "outputs": [
    {
     "data": {
      "text/plain": [
       "55.18"
      ]
     },
     "execution_count": 63,
     "metadata": {},
     "output_type": "execute_result"
    }
   ],
   "source": [
    "#Определение среднего балла по математике среди учеников, у которых матери работают учителями\n",
    "round(students[students.Mjob == 'teacher'].score.mean(),2)"
   ]
  },
  {
   "cell_type": "code",
   "execution_count": 65,
   "metadata": {},
   "outputs": [
    {
     "data": {
      "text/plain": [
       "45.69"
      ]
     },
     "execution_count": 65,
     "metadata": {},
     "output_type": "execute_result"
    }
   ],
   "source": [
    "#Определение среднего балла по математике среди учеников, у которых матери не работают\n",
    "round(students[students.Mjob == 'at_home'].score.mean(),2)"
   ]
  },
  {
   "cell_type": "code",
   "execution_count": 66,
   "metadata": {},
   "outputs": [
    {
     "data": {
      "text/plain": [
       "59.83"
      ]
     },
     "execution_count": 66,
     "metadata": {},
     "output_type": "execute_result"
    }
   ],
   "source": [
    "#Определение среднего балла по математике среди учеников, у которых отцы работают учителями\n",
    "round(students[students.Fjob == 'teacher'].score.mean(),2)"
   ]
  },
  {
   "cell_type": "code",
   "execution_count": 67,
   "metadata": {},
   "outputs": [
    {
     "data": {
      "text/plain": [
       "51.88"
      ]
     },
     "execution_count": 67,
     "metadata": {},
     "output_type": "execute_result"
    }
   ],
   "source": [
    "#Определение среднего балла по математике среди учеников, у которых отцы не работают\n",
    "round(students[students.Fjob == 'at_home'].score.mean(),2)"
   ]
  },
  {
   "cell_type": "code",
   "execution_count": 68,
   "metadata": {},
   "outputs": [
    {
     "data": {
      "text/plain": [
       "66.36"
      ]
     },
     "execution_count": 68,
     "metadata": {},
     "output_type": "execute_result"
    }
   ],
   "source": [
    "#Определение среднего балла по математике среди учеников, у которых оба родителя работают учителями\n",
    "round(students[(students.Mjob == 'teacher') & (students.Fjob == 'teacher')].score.mean(),2)"
   ]
  },
  {
   "cell_type": "code",
   "execution_count": 69,
   "metadata": {},
   "outputs": [
    {
     "data": {
      "text/plain": [
       "61.0"
      ]
     },
     "execution_count": 69,
     "metadata": {},
     "output_type": "execute_result"
    }
   ],
   "source": [
    "#Определение среднего балла по математике среди учеников, у которых оба родителя не работают\n",
    "round(students[(students.Mjob == 'at_home') & (students.Fjob == 'at_home')].score.mean(),2)"
   ]
  },
  {
   "cell_type": "code",
   "execution_count": 73,
   "metadata": {},
   "outputs": [
    {
     "data": {
      "text/plain": [
       "11"
      ]
     },
     "metadata": {},
     "output_type": "display_data"
    }
   ],
   "source": [
    "#Подсчет количества семей, в которых оба родителя работают учителями (подсчет будем вести по столбцу school как полному)\n",
    "parents_teachers = students[(students.Mjob == 'teacher') & (students.Fjob == 'teacher')].school.count()\n",
    "display(parents_teachers)"
   ]
  },
  {
   "cell_type": "code",
   "execution_count": 94,
   "metadata": {},
   "outputs": [
    {
     "data": {
      "text/plain": [
       "0    101\n",
       "1    102\n",
       "2    135\n",
       "3     34\n",
       "dtype: int64"
      ]
     },
     "metadata": {},
     "output_type": "display_data"
    },
    {
     "data": {
      "text/plain": [
       "<matplotlib.axes._subplots.AxesSubplot at 0xc64d688>"
      ]
     },
     "execution_count": 94,
     "metadata": {},
     "output_type": "execute_result"
    },
    {
     "data": {
      "image/png": "[encoded data removed]",
      "text/plain": [
       "<Figure size 432x288 with 1 Axes>"
      ]
     },
     "metadata": {
      "needs_background": "light"
     },
     "output_type": "display_data"
    }
   ],
   "source": [
    "#Анализ столбца Reason\n",
    "\n",
    "#Удаление пустых записей\n",
    "reason = students[~students['reason'].isnull()]\n",
    "\n",
    "#Подсчет количества причин, по которым выбрана та или иная школа\n",
    "reason_home = reason[reason.reason == 'home'].reason.count()\n",
    "reason_reputation = reason[reason.reason == 'reputation'].reason.count()\n",
    "reason_course = reason[reason.reason == 'course'].reason.count()\n",
    "reason_other = reason[reason.reason == 'other'].reason.count()\n",
    "\n",
    "reason_why = pd.Series([reason_home, reason_reputation, reason_course, reason_other])\n",
    "display(reason_why)\n",
    "\n",
    "sns.countplot(x = 'reason', data = reason)"
   ]
  },
  {
   "cell_type": "code",
   "execution_count": 89,
   "metadata": {},
   "outputs": [
    {
     "data": {
      "text/plain": [
       "49.81"
      ]
     },
     "execution_count": 89,
     "metadata": {},
     "output_type": "execute_result"
    }
   ],
   "source": [
    "#Определение среднего балла по математике среди учеников, родители которых выбрали школу из-за её образовательной программы\n",
    "round(reason[reason.reason == 'course'].score.mean(),2)"
   ]
  },
  {
   "cell_type": "code",
   "execution_count": 90,
   "metadata": {},
   "outputs": [
    {
     "data": {
      "text/plain": [
       "55.64"
      ]
     },
     "execution_count": 90,
     "metadata": {},
     "output_type": "execute_result"
    }
   ],
   "source": [
    "#Определение среднего балла по математике среди учеников, родители которых выбрали школу из-за её репутации\n",
    "round(reason[reason.reason == 'reputation'].score.mean(),2)"
   ]
  },
  {
   "cell_type": "code",
   "execution_count": 92,
   "metadata": {},
   "outputs": [
    {
     "data": {
      "text/plain": [
       "51.19"
      ]
     },
     "execution_count": 92,
     "metadata": {},
     "output_type": "execute_result"
    }
   ],
   "source": [
    "#Определение среднего балла по математике среди учеников, родители которых выбрали школу из-за её близости к дому\n",
    "round(reason[reason.reason == 'home'].score.mean(),2)"
   ]
  },
  {
   "cell_type": "code",
   "execution_count": 107,
   "metadata": {},
   "outputs": [
    {
     "data": {
      "text/plain": [
       "0    248\n",
       "1     86\n",
       "2     24\n",
       "dtype: int64"
      ]
     },
     "metadata": {},
     "output_type": "display_data"
    },
    {
     "data": {
      "text/plain": [
       "<matplotlib.axes._subplots.AxesSubplot at 0xd960f88>"
      ]
     },
     "execution_count": 107,
     "metadata": {},
     "output_type": "execute_result"
    },
    {
     "data": {
      "image/png": "[encoded data removed]",
      "text/plain": [
       "<Figure size 432x288 with 1 Axes>"
      ]
     },
     "metadata": {
      "needs_background": "light"
     },
     "output_type": "display_data"
    }
   ],
   "source": [
    "#Анализ столбца guardian\n",
    "\n",
    "#Удаление пустых записей\n",
    "guardian = students[~students['guardian'].isnull()]\n",
    "\n",
    "#Подсчет значений в столбце guardian\n",
    "guardian_mother = guardian[guardian.guardian == 'mother'].guardian.count()\n",
    "guardian_father = guardian[guardian.guardian == 'father'].guardian.count()\n",
    "guardian_other = guardian[guardian.guardian == 'other'].guardian.count()\n",
    "\n",
    "guardians = pd.Series([guardian_mother, guardian_father, guardian_other])\n",
    "display(guardians)\n",
    "\n",
    "sns.countplot(x = 'guardian', data = guardian)"
   ]
  },
  {
   "cell_type": "code",
   "execution_count": 242,
   "metadata": {},
   "outputs": [
    {
     "data": {
      "text/plain": [
       "<matplotlib.axes._subplots.AxesSubplot at 0x11951788>"
      ]
     },
     "execution_count": 242,
     "metadata": {},
     "output_type": "execute_result"
    },
    {
     "data": {
      "image/png": "[encoded data removed]",
      "text/plain": [
       "<Figure size 432x288 with 1 Axes>"
      ]
     },
     "metadata": {
      "needs_background": "light"
     },
     "output_type": "display_data"
    }
   ],
   "source": [
    "#Анализ столбца traveltime\n",
    "\n",
    "#Удаление пустых записей\n",
    "traveltime = students[~students['traveltime'].isnull()]\n",
    "\n",
    "#Проверка распределения значений по столбцу\n",
    "sns.countplot(x = 'traveltime', data = traveltime)"
   ]
  },
  {
   "cell_type": "code",
   "execution_count": 110,
   "metadata": {},
   "outputs": [
    {
     "data": {
      "text/plain": [
       "53.58"
      ]
     },
     "execution_count": 110,
     "metadata": {},
     "output_type": "execute_result"
    }
   ],
   "source": [
    "#Определение среднего балла по математике среди учеников, добирающихся до школы менее 15 мин.\n",
    "round(traveltime[traveltime.traveltime == 1].score.mean(),2)"
   ]
  },
  {
   "cell_type": "code",
   "execution_count": 111,
   "metadata": {},
   "outputs": [
    {
     "data": {
      "text/plain": [
       "51.76"
      ]
     },
     "execution_count": 111,
     "metadata": {},
     "output_type": "execute_result"
    }
   ],
   "source": [
    "#Определение среднего балла по математике среди учеников, добирающихся до школы от 15 до 30 мин.\n",
    "round(traveltime[traveltime.traveltime == 2].score.mean(),2)"
   ]
  },
  {
   "cell_type": "code",
   "execution_count": 142,
   "metadata": {},
   "outputs": [
    {
     "data": {
      "text/plain": [
       "studytime\n",
       "1.0    103\n",
       "2.0    189\n",
       "3.0     63\n",
       "4.0     27\n",
       "Name: score, dtype: int64"
      ]
     },
     "execution_count": 142,
     "metadata": {},
     "output_type": "execute_result"
    },
    {
     "data": {
      "image/png": "[encoded data removed]",
      "text/plain": [
       "<Figure size 432x288 with 1 Axes>"
      ]
     },
     "metadata": {
      "needs_background": "light"
     },
     "output_type": "display_data"
    }
   ],
   "source": [
    "#Анализ столбца studytime\n",
    "\n",
    "#Удаление пустых записей\n",
    "students_studytime = students[~students['studytime'].isnull()]\n",
    "\n",
    "#Проверка распределения значений по столбцу\n",
    "sns.countplot(x = 'studytime', data = students_studytime)\n",
    "\n",
    "students_studytime.groupby(['studytime'])['score'].count()"
   ]
  },
  {
   "cell_type": "code",
   "execution_count": 143,
   "metadata": {},
   "outputs": [
    {
     "data": {
      "text/plain": [
       "49.47"
      ]
     },
     "execution_count": 143,
     "metadata": {},
     "output_type": "execute_result"
    }
   ],
   "source": [
    "#Определение среднего балла по группе учеников, внешкольная нагрузка которых составляет менее 2 часов\n",
    "round(students_studytime[students_studytime.studytime == 1].score.mean(),2)"
   ]
  },
  {
   "cell_type": "code",
   "execution_count": 144,
   "metadata": {},
   "outputs": [
    {
     "data": {
      "text/plain": [
       "50.82"
      ]
     },
     "execution_count": 144,
     "metadata": {},
     "output_type": "execute_result"
    }
   ],
   "source": [
    "#Определение среднего балла по группе учеников, внешкольная нагрузка которых составляет от 2 до 5 часов\n",
    "round(students_studytime[students_studytime.studytime == 2].score.mean(),2)"
   ]
  },
  {
   "cell_type": "code",
   "execution_count": 145,
   "metadata": {},
   "outputs": [
    {
     "data": {
      "text/plain": [
       "57.78"
      ]
     },
     "execution_count": 145,
     "metadata": {},
     "output_type": "execute_result"
    }
   ],
   "source": [
    "#Определение среднего балла по группе учеников, внешкольная нагрузка которых составляет от 5 до 10 часов\n",
    "round(students_studytime[students_studytime.studytime == 3].score.mean(),2)"
   ]
  },
  {
   "cell_type": "code",
   "execution_count": 146,
   "metadata": {},
   "outputs": [
    {
     "data": {
      "text/plain": [
       "56.3"
      ]
     },
     "execution_count": 146,
     "metadata": {},
     "output_type": "execute_result"
    }
   ],
   "source": [
    "#Определение среднего балла по группе учеников, внешкольная нагрузка которых составляет более 10 часов\n",
    "round(students_studytime[students_studytime.studytime == 4].score.mean(),2)"
   ]
  },
  {
   "cell_type": "code",
   "execution_count": 148,
   "metadata": {},
   "outputs": [
    {
     "data": {
      "text/plain": [
       "failures\n",
       "0.0    290\n",
       "1.0     48\n",
       "2.0     15\n",
       "3.0     14\n",
       "Name: score, dtype: int64"
      ]
     },
     "execution_count": 148,
     "metadata": {},
     "output_type": "execute_result"
    },
    {
     "data": {
      "image/png": "[encoded data removed]",
      "text/plain": [
       "<Figure size 432x288 with 1 Axes>"
      ]
     },
     "metadata": {
      "needs_background": "light"
     },
     "output_type": "display_data"
    }
   ],
   "source": [
    "#Анализ столбца failures\n",
    "\n",
    "#Удаление пустых записей\n",
    "students_failures = students[~students['failures'].isnull()]\n",
    "\n",
    "#Проверка распределения значений по столбцу\n",
    "sns.countplot(x = 'failures', data = students_failures)\n",
    "\n",
    "students_failures.groupby(['failures'])['score'].count()"
   ]
  },
  {
   "cell_type": "code",
   "execution_count": 244,
   "metadata": {},
   "outputs": [
    {
     "data": {
      "text/plain": [
       "<matplotlib.axes._subplots.AxesSubplot at 0x1166b3c8>"
      ]
     },
     "execution_count": 244,
     "metadata": {},
     "output_type": "execute_result"
    },
    {
     "data": {
      "image/png": "[encoded data removed]",
      "text/plain": [
       "<Figure size 432x288 with 1 Axes>"
      ]
     },
     "metadata": {
      "needs_background": "light"
     },
     "output_type": "display_data"
    }
   ],
   "source": [
    "#Проверка наличия выбросов\n",
    "sns.boxplot(data = students_failures.failures)"
   ]
  },
  {
   "cell_type": "code",
   "execution_count": 150,
   "metadata": {},
   "outputs": [
    {
     "data": {
      "text/plain": [
       "32.33"
      ]
     },
     "execution_count": 150,
     "metadata": {},
     "output_type": "execute_result"
    }
   ],
   "source": [
    "#Определение среднего балла по группе учеников, у которых количество внеучебных неудач равняется 2\n",
    "round(students_failures[students_failures.failures == 2].score.mean(),2)"
   ]
  },
  {
   "cell_type": "code",
   "execution_count": 151,
   "metadata": {},
   "outputs": [
    {
     "data": {
      "text/plain": [
       "29.64"
      ]
     },
     "execution_count": 151,
     "metadata": {},
     "output_type": "execute_result"
    }
   ],
   "source": [
    "#Определение среднего балла по группе учеников, у которых количество внеучебных неудач равняется 3\n",
    "round(students_failures[students_failures.failures == 3].score.mean(),2)"
   ]
  },
  {
   "cell_type": "code",
   "execution_count": 153,
   "metadata": {},
   "outputs": [
    {
     "data": {
      "text/plain": [
       "53.77"
      ]
     },
     "execution_count": 153,
     "metadata": {},
     "output_type": "execute_result"
    }
   ],
   "source": [
    "#Определение среднего балла по группе учеников, у которых количество внеучебных неудач равняется 0 или 1\n",
    "round(students_failures[(students_failures.failures == 0) | (students_failures.failures == 1)].score.mean(),2)"
   ]
  },
  {
   "cell_type": "code",
   "execution_count": 156,
   "metadata": {},
   "outputs": [
    {
     "data": {
      "text/plain": [
       "schoolsup\n",
       "no     331\n",
       "yes     49\n",
       "Name: score, dtype: int64"
      ]
     },
     "execution_count": 156,
     "metadata": {},
     "output_type": "execute_result"
    },
    {
     "data": {
      "image/png": "[encoded data removed]",
      "text/plain": [
       "<Figure size 432x288 with 1 Axes>"
      ]
     },
     "metadata": {
      "needs_background": "light"
     },
     "output_type": "display_data"
    }
   ],
   "source": [
    "#Анализ столбца schoolsup\n",
    "\n",
    "#Удаление пустых записей\n",
    "students_schoolsup = students[~students['schoolsup'].isnull()]\n",
    "\n",
    "#Проверка распределения значений по столбцу\n",
    "sns.countplot(x = 'schoolsup', data = students_schoolsup)\n",
    "\n",
    "students_schoolsup.groupby(['schoolsup'])['score'].count()"
   ]
  },
  {
   "cell_type": "code",
   "execution_count": 157,
   "metadata": {},
   "outputs": [
    {
     "data": {
      "text/plain": [
       "47.04"
      ]
     },
     "execution_count": 157,
     "metadata": {},
     "output_type": "execute_result"
    }
   ],
   "source": [
    "#Определение среднего балла по группе учеников, у которых была дополнительная школьная поддержка\n",
    "round(students_schoolsup[students_schoolsup.schoolsup == 'yes'].score.mean(),2)"
   ]
  },
  {
   "cell_type": "code",
   "execution_count": 158,
   "metadata": {},
   "outputs": [
    {
     "data": {
      "text/plain": [
       "50.0"
      ]
     },
     "execution_count": 158,
     "metadata": {},
     "output_type": "execute_result"
    }
   ],
   "source": [
    "#Определение медианного значения балла по группе учеников, у которых была дополнительная школьная поддержка\n",
    "round(students_schoolsup[students_schoolsup.schoolsup == 'yes'].score.median(),2)"
   ]
  },
  {
   "cell_type": "code",
   "execution_count": 159,
   "metadata": {},
   "outputs": [
    {
     "data": {
      "text/plain": [
       "famsup\n",
       "no     135\n",
       "yes    216\n",
       "Name: score, dtype: int64"
      ]
     },
     "execution_count": 159,
     "metadata": {},
     "output_type": "execute_result"
    },
    {
     "data": {
      "image/png": "[encoded data removed]",
      "text/plain": [
       "<Figure size 432x288 with 1 Axes>"
      ]
     },
     "metadata": {
      "needs_background": "light"
     },
     "output_type": "display_data"
    }
   ],
   "source": [
    "#Анализ столбца famsup\n",
    "\n",
    "#Удаление пустых записей\n",
    "students_famsup = students[~students['famsup'].isnull()]\n",
    "\n",
    "#Проверка распределения значений по столбцу\n",
    "sns.countplot(x = 'famsup', data = students_famsup)\n",
    "\n",
    "students_famsup.groupby(['famsup'])['score'].count()"
   ]
  },
  {
   "cell_type": "code",
   "execution_count": 161,
   "metadata": {},
   "outputs": [
    {
     "data": {
      "text/plain": [
       "51.71"
      ]
     },
     "execution_count": 161,
     "metadata": {},
     "output_type": "execute_result"
    }
   ],
   "source": [
    "#Определение среднего балла по группе учеников, у которых была дополнительная семейная поддержка\n",
    "round(students_famsup[students_famsup.famsup == 'yes'].score.mean(),2)"
   ]
  },
  {
   "cell_type": "code",
   "execution_count": 162,
   "metadata": {},
   "outputs": [
    {
     "data": {
      "text/plain": [
       "52.07"
      ]
     },
     "execution_count": 162,
     "metadata": {},
     "output_type": "execute_result"
    }
   ],
   "source": [
    "#Определение среднего балла по группе учеников, у которых не было дополнительной семейной поддержки\n",
    "round(students_famsup[students_famsup.famsup == 'no'].score.mean(),2)"
   ]
  },
  {
   "cell_type": "code",
   "execution_count": 163,
   "metadata": {},
   "outputs": [
    {
     "data": {
      "text/plain": [
       "paid\n",
       "no     197\n",
       "yes    153\n",
       "Name: score, dtype: int64"
      ]
     },
     "execution_count": 163,
     "metadata": {},
     "output_type": "execute_result"
    },
    {
     "data": {
      "image/png": "[encoded data removed]",
      "text/plain": [
       "<Figure size 432x288 with 1 Axes>"
      ]
     },
     "metadata": {
      "needs_background": "light"
     },
     "output_type": "display_data"
    }
   ],
   "source": [
    "#Анализ столбца paid\n",
    "\n",
    "#Удаление пустых записей\n",
    "students_paid = students[~students['paid'].isnull()]\n",
    "\n",
    "#Проверка распределения значений по столбцу\n",
    "sns.countplot(x = 'paid', data = students_paid)\n",
    "\n",
    "students_paid.groupby(['paid'])['score'].count()"
   ]
  },
  {
   "cell_type": "code",
   "execution_count": 164,
   "metadata": {},
   "outputs": [
    {
     "data": {
      "text/plain": [
       "55.0"
      ]
     },
     "execution_count": 164,
     "metadata": {},
     "output_type": "execute_result"
    }
   ],
   "source": [
    "#Определение среднего балла по группе учеников, которые оплачивали дополнительные занятия по математике\n",
    "round(students_paid[students_paid.paid == 'yes'].score.mean(),2)"
   ]
  },
  {
   "cell_type": "code",
   "execution_count": 165,
   "metadata": {},
   "outputs": [
    {
     "data": {
      "text/plain": [
       "50.36"
      ]
     },
     "execution_count": 165,
     "metadata": {},
     "output_type": "execute_result"
    }
   ],
   "source": [
    "#Определение среднего балла по группе учеников, которые не оплачивали дополнительные занятия по математике\n",
    "round(students_paid[students_paid.paid == 'no'].score.mean(),2)"
   ]
  },
  {
   "cell_type": "code",
   "execution_count": 166,
   "metadata": {},
   "outputs": [
    {
     "data": {
      "text/plain": [
       "activities\n",
       "no     166\n",
       "yes    171\n",
       "Name: score, dtype: int64"
      ]
     },
     "execution_count": 166,
     "metadata": {},
     "output_type": "execute_result"
    },
    {
     "data": {
      "image/png": "[encoded data removed]",
      "text/plain": [
       "<Figure size 432x288 with 1 Axes>"
      ]
     },
     "metadata": {
      "needs_background": "light"
     },
     "output_type": "display_data"
    }
   ],
   "source": [
    "#Анализ столбца activities\n",
    "\n",
    "#Удаление пустых записей\n",
    "students_activities = students[~students['activities'].isnull()]\n",
    "\n",
    "#Проверка распределения значений по столбцу\n",
    "sns.countplot(x = 'activities', data = students_activities)\n",
    "\n",
    "students_paid.groupby(['activities'])['score'].count()"
   ]
  },
  {
   "cell_type": "code",
   "execution_count": 167,
   "metadata": {},
   "outputs": [
    {
     "data": {
      "text/plain": [
       "52.68"
      ]
     },
     "execution_count": 167,
     "metadata": {},
     "output_type": "execute_result"
    }
   ],
   "source": [
    "#Определение среднего балла по группе учеников, у которых были дополнительные внеучебные занятия\n",
    "round(students_activities[students_activities.activities == 'yes'].score.mean(),2)"
   ]
  },
  {
   "cell_type": "code",
   "execution_count": 169,
   "metadata": {},
   "outputs": [
    {
     "data": {
      "text/plain": [
       "52.19"
      ]
     },
     "execution_count": 169,
     "metadata": {},
     "output_type": "execute_result"
    }
   ],
   "source": [
    "#Определение среднего балла по группе учеников, у которых не было дополнительных внеучебных занятий\n",
    "round(students_activities[students_activities.activities == 'no'].score.mean(),2)"
   ]
  },
  {
   "cell_type": "code",
   "execution_count": 170,
   "metadata": {},
   "outputs": [
    {
     "data": {
      "text/plain": [
       "55.0"
      ]
     },
     "execution_count": 170,
     "metadata": {},
     "output_type": "execute_result"
    }
   ],
   "source": [
    "#Определение медианного значения балла по группе учеников, у которых были дополнительные внеучебные занятия\n",
    "round(students_activities[students_activities.activities == 'yes'].score.median(),2)"
   ]
  },
  {
   "cell_type": "code",
   "execution_count": 172,
   "metadata": {},
   "outputs": [
    {
     "data": {
      "text/plain": [
       "55.0"
      ]
     },
     "execution_count": 172,
     "metadata": {},
     "output_type": "execute_result"
    }
   ],
   "source": [
    "#Определение медианного значения балла по группе учеников, у которых не было дополнительных внеучебных занятий\n",
    "round(students_activities[students_activities.activities == 'no'].score.median(),2)"
   ]
  },
  {
   "cell_type": "code",
   "execution_count": 173,
   "metadata": {},
   "outputs": [
    {
     "data": {
      "text/plain": [
       "nursery\n",
       "no      77\n",
       "yes    297\n",
       "Name: score, dtype: int64"
      ]
     },
     "execution_count": 173,
     "metadata": {},
     "output_type": "execute_result"
    },
    {
     "data": {
      "image/png": "[encoded data removed]",
      "text/plain": [
       "<Figure size 432x288 with 1 Axes>"
      ]
     },
     "metadata": {
      "needs_background": "light"
     },
     "output_type": "display_data"
    }
   ],
   "source": [
    "#Анализ столбца nursery\n",
    "\n",
    "#Удаление пустых записей\n",
    "students_nursery = students[~students['nursery'].isnull()]\n",
    "\n",
    "#Проверка распределения значений по столбцу\n",
    "sns.countplot(x = 'nursery', data = students_nursery)\n",
    "\n",
    "students_nursery.groupby(['nursery'])['score'].count()"
   ]
  },
  {
   "cell_type": "code",
   "execution_count": 174,
   "metadata": {},
   "outputs": [
    {
     "data": {
      "text/plain": [
       "52.97"
      ]
     },
     "execution_count": 174,
     "metadata": {},
     "output_type": "execute_result"
    }
   ],
   "source": [
    "#Определение среднего балла по группе учеников, которые посещали детский сад\n",
    "round(students_nursery[students_nursery.activities == 'yes'].score.mean(),2)"
   ]
  },
  {
   "cell_type": "code",
   "execution_count": 175,
   "metadata": {},
   "outputs": [
    {
     "data": {
      "text/plain": [
       "52.19"
      ]
     },
     "execution_count": 175,
     "metadata": {},
     "output_type": "execute_result"
    }
   ],
   "source": [
    "#Определение среднего балла по группе учеников, которые не посещали детский сад\n",
    "round(students_nursery[students_nursery.activities == 'no'].score.mean(),2)"
   ]
  },
  {
   "cell_type": "code",
   "execution_count": 176,
   "metadata": {},
   "outputs": [
    {
     "data": {
      "text/plain": [
       "55.0"
      ]
     },
     "execution_count": 176,
     "metadata": {},
     "output_type": "execute_result"
    }
   ],
   "source": [
    "#Определение медианного значения балла по группе учеников, которые посещали детский сад\n",
    "round(students_nursery[students_nursery.activities == 'yes'].score.median(),2)"
   ]
  },
  {
   "cell_type": "code",
   "execution_count": 178,
   "metadata": {},
   "outputs": [
    {
     "data": {
      "text/plain": [
       "55.0"
      ]
     },
     "execution_count": 178,
     "metadata": {},
     "output_type": "execute_result"
    }
   ],
   "source": [
    "#Определение медианного значения балла по группе учеников, которые не посещали детский сад\n",
    "round(students_nursery[students_nursery.activities == 'no'].score.median(),2)"
   ]
  },
  {
   "cell_type": "code",
   "execution_count": 122,
   "metadata": {},
   "outputs": [
    {
     "data": {
      "text/plain": [
       "<matplotlib.axes._subplots.AxesSubplot at 0xdd4c9c8>"
      ]
     },
     "execution_count": 122,
     "metadata": {},
     "output_type": "execute_result"
    },
    {
     "data": {
      "image/png": "[encoded data removed]",
      "text/plain": [
       "<Figure size 432x288 with 1 Axes>"
      ]
     },
     "metadata": {
      "needs_background": "light"
     },
     "output_type": "display_data"
    }
   ],
   "source": [
    "#Анализ столбца studytime, granular\n",
    "\n",
    "#Удаление пустых записей\n",
    "students_studytime_granular = students[~students['studytime, granular'].isnull()]\n",
    "\n",
    "#Проверка распределения значений по столбцу\n",
    "sns.countplot(x = 'studytime, granular', data = students_studytime_granular)"
   ]
  },
  {
   "cell_type": "code",
   "execution_count": 179,
   "metadata": {},
   "outputs": [
    {
     "data": {
      "text/plain": [
       "higher\n",
       "no      19\n",
       "yes    350\n",
       "Name: score, dtype: int64"
      ]
     },
     "execution_count": 179,
     "metadata": {},
     "output_type": "execute_result"
    },
    {
     "data": {
      "image/png": "[encoded data removed]",
      "text/plain": [
       "<Figure size 432x288 with 1 Axes>"
      ]
     },
     "metadata": {
      "needs_background": "light"
     },
     "output_type": "display_data"
    }
   ],
   "source": [
    "#Анализ столбца higher\n",
    "\n",
    "#Удаление пустых записей\n",
    "students_higher = students[~students['higher'].isnull()]\n",
    "\n",
    "#Проверка распределения значений по столбцу\n",
    "sns.countplot(x = 'higher', data = students_higher)\n",
    "\n",
    "students_higher.groupby(['higher'])['score'].count()"
   ]
  },
  {
   "cell_type": "code",
   "execution_count": 180,
   "metadata": {},
   "outputs": [
    {
     "data": {
      "text/plain": [
       "33.68"
      ]
     },
     "execution_count": 180,
     "metadata": {},
     "output_type": "execute_result"
    }
   ],
   "source": [
    "#Определение среднего балла по группе учеников, которые не хотят получить высшее образование\n",
    "round(students_higher[students_higher.higher == 'no'].score.mean(),2)"
   ]
  },
  {
   "cell_type": "code",
   "execution_count": 181,
   "metadata": {},
   "outputs": [
    {
     "data": {
      "text/plain": [
       "40.0"
      ]
     },
     "execution_count": 181,
     "metadata": {},
     "output_type": "execute_result"
    }
   ],
   "source": [
    "#Определение медианного балла по группе учеников, которые не хотят получить высшее образование\n",
    "round(students_higher[students_higher.higher == 'no'].score.median(),2)"
   ]
  },
  {
   "cell_type": "code",
   "execution_count": 182,
   "metadata": {},
   "outputs": [
    {
     "data": {
      "text/plain": [
       "internet\n",
       "no      55\n",
       "yes    300\n",
       "Name: score, dtype: int64"
      ]
     },
     "execution_count": 182,
     "metadata": {},
     "output_type": "execute_result"
    },
    {
     "data": {
      "image/png": "[encoded data removed]",
      "text/plain": [
       "<Figure size 432x288 with 1 Axes>"
      ]
     },
     "metadata": {
      "needs_background": "light"
     },
     "output_type": "display_data"
    }
   ],
   "source": [
    "#Анализ столбца internet\n",
    "\n",
    "#Удаление пустых записей\n",
    "students_internet = students[~students['internet'].isnull()]\n",
    "\n",
    "#Проверка распределения значений по столбцу\n",
    "sns.countplot(x = 'internet', data = students_internet)\n",
    "\n",
    "students_internet.groupby(['internet'])['score'].count()"
   ]
  },
  {
   "cell_type": "code",
   "execution_count": 183,
   "metadata": {},
   "outputs": [
    {
     "data": {
      "text/plain": [
       "53.12"
      ]
     },
     "execution_count": 183,
     "metadata": {},
     "output_type": "execute_result"
    }
   ],
   "source": [
    "#Определение среднего балла по группе учеников, у которых есть Интернет дома\n",
    "round(students_internet[students_internet.internet == 'yes'].score.mean(),2)"
   ]
  },
  {
   "cell_type": "code",
   "execution_count": 184,
   "metadata": {},
   "outputs": [
    {
     "data": {
      "text/plain": [
       "49.09"
      ]
     },
     "execution_count": 184,
     "metadata": {},
     "output_type": "execute_result"
    }
   ],
   "source": [
    "#Определение среднего балла по группе учеников, у которых нет Интернета дома\n",
    "round(students_internet[students_internet.internet == 'no'].score.mean(),2)"
   ]
  },
  {
   "cell_type": "code",
   "execution_count": 185,
   "metadata": {},
   "outputs": [
    {
     "data": {
      "text/plain": [
       "55.0"
      ]
     },
     "execution_count": 185,
     "metadata": {},
     "output_type": "execute_result"
    }
   ],
   "source": [
    "#Определение медианы по группе учеников, у которых есть Интернет дома\n",
    "round(students_internet[students_internet.internet == 'yes'].score.median(),2)"
   ]
  },
  {
   "cell_type": "code",
   "execution_count": 186,
   "metadata": {},
   "outputs": [
    {
     "data": {
      "text/plain": [
       "50.0"
      ]
     },
     "execution_count": 186,
     "metadata": {},
     "output_type": "execute_result"
    }
   ],
   "source": [
    "#Определение медианы по группе учеников, у которых нет Интернета дома\n",
    "round(students_internet[students_internet.internet == 'no'].score.median(),2)"
   ]
  },
  {
   "cell_type": "code",
   "execution_count": 187,
   "metadata": {},
   "outputs": [
    {
     "data": {
      "text/plain": [
       "romantic\n",
       "no     235\n",
       "yes    123\n",
       "Name: score, dtype: int64"
      ]
     },
     "execution_count": 187,
     "metadata": {},
     "output_type": "execute_result"
    },
    {
     "data": {
      "image/png": "[encoded data removed]",
      "text/plain": [
       "<Figure size 432x288 with 1 Axes>"
      ]
     },
     "metadata": {
      "needs_background": "light"
     },
     "output_type": "display_data"
    }
   ],
   "source": [
    "#Анализ столбца romantic\n",
    "\n",
    "#Удаление пустых записей\n",
    "students_romantic = students[~students['romantic'].isnull()]\n",
    "\n",
    "#Проверка распределения значений по столбцу\n",
    "sns.countplot(x = 'romantic', data = students_romantic)\n",
    "\n",
    "students_romantic.groupby(['romantic'])['score'].count()"
   ]
  },
  {
   "cell_type": "code",
   "execution_count": 188,
   "metadata": {},
   "outputs": [
    {
     "data": {
      "text/plain": [
       "47.68"
      ]
     },
     "execution_count": 188,
     "metadata": {},
     "output_type": "execute_result"
    }
   ],
   "source": [
    "#Определение среднего балла по группе учеников, которые состоят в романтических отношениях\n",
    "round(students_romantic[students_romantic.romantic == 'yes'].score.mean(),2)"
   ]
  },
  {
   "cell_type": "code",
   "execution_count": 189,
   "metadata": {},
   "outputs": [
    {
     "data": {
      "text/plain": [
       "54.57"
      ]
     },
     "execution_count": 189,
     "metadata": {},
     "output_type": "execute_result"
    }
   ],
   "source": [
    "#Определение среднего балла по группе учеников, которые не состоят в романтических отношениях\n",
    "round(students_romantic[students_romantic.romantic == 'no'].score.mean(),2)"
   ]
  },
  {
   "cell_type": "code",
   "execution_count": 190,
   "metadata": {},
   "outputs": [
    {
     "data": {
      "text/plain": [
       "55.0"
      ]
     },
     "execution_count": 190,
     "metadata": {},
     "output_type": "execute_result"
    }
   ],
   "source": [
    "#Определение медианы по группе учеников, которые состоят в романтических отношениях\n",
    "round(students_romantic[students_romantic.romantic == 'yes'].score.median(),2)"
   ]
  },
  {
   "cell_type": "code",
   "execution_count": 191,
   "metadata": {},
   "outputs": [
    {
     "data": {
      "text/plain": [
       "55.0"
      ]
     },
     "execution_count": 191,
     "metadata": {},
     "output_type": "execute_result"
    }
   ],
   "source": [
    "#Определение среднего балла по группе учеников, которые не состоят в романтических отношениях\n",
    "round(students_romantic[students_romantic.romantic == 'no'].score.median(),2)"
   ]
  },
  {
   "cell_type": "code",
   "execution_count": 193,
   "metadata": {},
   "outputs": [
    {
     "data": {
      "text/plain": [
       "famrel\n",
       "1.0      7\n",
       "2.0     17\n",
       "3.0     62\n",
       "4.0    178\n",
       "5.0     97\n",
       "Name: score, dtype: int64"
      ]
     },
     "execution_count": 193,
     "metadata": {},
     "output_type": "execute_result"
    },
    {
     "data": {
      "image/png": "[encoded data removed]",
      "text/plain": [
       "<Figure size 432x288 with 1 Axes>"
      ]
     },
     "metadata": {
      "needs_background": "light"
     },
     "output_type": "display_data"
    }
   ],
   "source": [
    "#Анализ столбца famrel\n",
    "\n",
    "#Удаление пустых записей\n",
    "students_famrel = students[~students['famrel'].isnull()]\n",
    "students_famrel = students_famrel[(students_famrel['famrel'] != -1)]\n",
    "\n",
    "#Проверка распределения значений по столбцу\n",
    "sns.countplot(x = 'famrel', data = students_famrel)\n",
    "\n",
    "students_famrel.groupby(['famrel'])['score'].count()"
   ]
  },
  {
   "cell_type": "code",
   "execution_count": 195,
   "metadata": {},
   "outputs": [
    {
     "data": {
      "text/plain": [
       "50.42"
      ]
     },
     "execution_count": 195,
     "metadata": {},
     "output_type": "execute_result"
    }
   ],
   "source": [
    "#Определение среднего балла по группе учеников, которые негативно оценивают отношения в семье\n",
    "round(students_famrel[(students_famrel.famrel == 1) | (students_famrel.famrel == 2)].score.mean(),2)"
   ]
  },
  {
   "cell_type": "code",
   "execution_count": 196,
   "metadata": {},
   "outputs": [
    {
     "data": {
      "text/plain": [
       "57.5"
      ]
     },
     "execution_count": 196,
     "metadata": {},
     "output_type": "execute_result"
    }
   ],
   "source": [
    "#Определение медианы по группе учеников, которые негативно оценивают отношения в семье\n",
    "round(students_famrel[(students_famrel.famrel == 1) | (students_famrel.famrel == 2)].score.median(),2)"
   ]
  },
  {
   "cell_type": "code",
   "execution_count": 197,
   "metadata": {},
   "outputs": [
    {
     "data": {
      "text/plain": [
       "85.0"
      ]
     },
     "execution_count": 197,
     "metadata": {},
     "output_type": "execute_result"
    }
   ],
   "source": [
    "#Определение максимального балла по группе учеников, которые негативно оценивают отношения в семье\n",
    "round(students_famrel[(students_famrel.famrel == 1) | (students_famrel.famrel == 2)].score.max(),2)"
   ]
  },
  {
   "cell_type": "code",
   "execution_count": 199,
   "metadata": {},
   "outputs": [
    {
     "data": {
      "text/plain": [
       "0.0"
      ]
     },
     "execution_count": 199,
     "metadata": {},
     "output_type": "execute_result"
    }
   ],
   "source": [
    "#Определение минимального балла по группе учеников, которые негативно оценивают отношения в семье\n",
    "round(students_famrel[(students_famrel.famrel == 1) | (students_famrel.famrel == 2)].score.min(),2)"
   ]
  },
  {
   "cell_type": "code",
   "execution_count": 200,
   "metadata": {},
   "outputs": [
    {
     "data": {
      "text/plain": [
       "freetime\n",
       "1.0     18\n",
       "2.0     63\n",
       "3.0    152\n",
       "4.0    110\n",
       "5.0     37\n",
       "Name: score, dtype: int64"
      ]
     },
     "execution_count": 200,
     "metadata": {},
     "output_type": "execute_result"
    },
    {
     "data": {
      "image/png": "[encoded data removed]",
      "text/plain": [
       "<Figure size 432x288 with 1 Axes>"
      ]
     },
     "metadata": {
      "needs_background": "light"
     },
     "output_type": "display_data"
    }
   ],
   "source": [
    "#Анализ столбца freetime\n",
    "\n",
    "#Удаление пустых записей\n",
    "students_freetime = students[~students['freetime'].isnull()]\n",
    "\n",
    "#Проверка распределения значений по столбцу\n",
    "sns.countplot(x = 'freetime', data = students_freetime)\n",
    "\n",
    "students_freetime.groupby(['freetime'])['score'].count()"
   ]
  },
  {
   "cell_type": "code",
   "execution_count": 201,
   "metadata": {},
   "outputs": [
    {
     "data": {
      "text/plain": [
       "55.49"
      ]
     },
     "execution_count": 201,
     "metadata": {},
     "output_type": "execute_result"
    }
   ],
   "source": [
    "#Определение среднего балла по группе учеников, у которых мало свободного времени после школы\n",
    "round(students_freetime[(students_freetime.freetime == 1) | (students_freetime.freetime == 2)].score.mean(),2)"
   ]
  },
  {
   "cell_type": "code",
   "execution_count": 202,
   "metadata": {},
   "outputs": [
    {
     "data": {
      "text/plain": [
       "53.57"
      ]
     },
     "execution_count": 202,
     "metadata": {},
     "output_type": "execute_result"
    }
   ],
   "source": [
    "#Определение среднего балла по группе учеников, у которых много свободного времени после школы\n",
    "round(students_freetime[(students_freetime.freetime == 4) | (students_freetime.freetime == 5)].score.mean(),2)"
   ]
  },
  {
   "cell_type": "code",
   "execution_count": 203,
   "metadata": {},
   "outputs": [
    {
     "data": {
      "text/plain": [
       "goout\n",
       "1.0     23\n",
       "2.0    101\n",
       "3.0    126\n",
       "4.0     81\n",
       "5.0     51\n",
       "Name: score, dtype: int64"
      ]
     },
     "execution_count": 203,
     "metadata": {},
     "output_type": "execute_result"
    },
    {
     "data": {
      "image/png": "[encoded data removed]",
      "text/plain": [
       "<Figure size 432x288 with 1 Axes>"
      ]
     },
     "metadata": {
      "needs_background": "light"
     },
     "output_type": "display_data"
    }
   ],
   "source": [
    "#Анализ столбца goout\n",
    "\n",
    "#Удаление пустых записей\n",
    "students_goout = students[~students['goout'].isnull()]\n",
    "\n",
    "#Проверка распределения значений по столбцу\n",
    "sns.countplot(x = 'goout', data = students_goout)\n",
    "\n",
    "students_goout.groupby(['goout'])['score'].count()"
   ]
  },
  {
   "cell_type": "code",
   "execution_count": 204,
   "metadata": {},
   "outputs": [
    {
     "data": {
      "text/plain": [
       "49.35"
      ]
     },
     "execution_count": 204,
     "metadata": {},
     "output_type": "execute_result"
    }
   ],
   "source": [
    "#Определение среднего балла по группе учеников, которые очень мало свободного времени проводят с друзьями\n",
    "round(students_goout[students_goout.goout == 1].score.mean(),2)"
   ]
  },
  {
   "cell_type": "code",
   "execution_count": 206,
   "metadata": {},
   "outputs": [
    {
     "data": {
      "text/plain": [
       "55.0"
      ]
     },
     "execution_count": 206,
     "metadata": {},
     "output_type": "execute_result"
    }
   ],
   "source": [
    "#Определение медианы значений баллов по группе учеников, которые очень мало свободного времени проводят с друзьями\n",
    "round(students_goout[students_goout.goout == 1].score.median(),2)"
   ]
  },
  {
   "cell_type": "code",
   "execution_count": 208,
   "metadata": {},
   "outputs": [
    {
     "data": {
      "text/plain": [
       "85.0"
      ]
     },
     "execution_count": 208,
     "metadata": {},
     "output_type": "execute_result"
    }
   ],
   "source": [
    "#Определение максимального значения баллов по группе учеников, которые очень мало свободного времени проводят с друзьями\n",
    "round(students_goout[students_goout.goout == 1].score.max(),2)"
   ]
  },
  {
   "cell_type": "code",
   "execution_count": 209,
   "metadata": {},
   "outputs": [
    {
     "data": {
      "text/plain": [
       "0.0"
      ]
     },
     "execution_count": 209,
     "metadata": {},
     "output_type": "execute_result"
    }
   ],
   "source": [
    "#Определение минимального значения баллов по группе учеников, которые очень мало свободного времени проводят с друзьями\n",
    "round(students_goout[students_goout.goout == 1].score.min(),2)"
   ]
  },
  {
   "cell_type": "code",
   "execution_count": 205,
   "metadata": {},
   "outputs": [
    {
     "data": {
      "text/plain": [
       "44.51"
      ]
     },
     "execution_count": 205,
     "metadata": {},
     "output_type": "execute_result"
    }
   ],
   "source": [
    "#Определение среднего балла по группе учеников, которые очень много свободного времени проводят с друзьями\n",
    "round(students_goout[students_goout.goout == 5].score.mean(),2)"
   ]
  },
  {
   "cell_type": "code",
   "execution_count": 207,
   "metadata": {},
   "outputs": [
    {
     "data": {
      "text/plain": [
       "50.0"
      ]
     },
     "execution_count": 207,
     "metadata": {},
     "output_type": "execute_result"
    }
   ],
   "source": [
    "#Определение медианы значений баллов по группе учеников, которые очень много свободного времени проводят с друзьями\n",
    "round(students_goout[students_goout.goout == 5].score.median(),2)"
   ]
  },
  {
   "cell_type": "code",
   "execution_count": 211,
   "metadata": {},
   "outputs": [
    {
     "data": {
      "text/plain": [
       "90.0"
      ]
     },
     "execution_count": 211,
     "metadata": {},
     "output_type": "execute_result"
    }
   ],
   "source": [
    "#Определение максимального значения баллов по группе учеников, которые очень много свободного времени проводят с друзьями\n",
    "round(students_goout[students_goout.goout == 5].score.max(),2)"
   ]
  },
  {
   "cell_type": "code",
   "execution_count": 210,
   "metadata": {},
   "outputs": [
    {
     "data": {
      "text/plain": [
       "0.0"
      ]
     },
     "execution_count": 210,
     "metadata": {},
     "output_type": "execute_result"
    }
   ],
   "source": [
    "#Определение минимального значения баллов по группе учеников, которые очень много свободного времени проводят с друзьями\n",
    "round(students_goout[students_goout.goout == 5].score.min(),2)"
   ]
  },
  {
   "cell_type": "code",
   "execution_count": 214,
   "metadata": {},
   "outputs": [
    {
     "data": {
      "text/plain": [
       "health\n",
       "1.0     47\n",
       "2.0     42\n",
       "3.0     88\n",
       "4.0     60\n",
       "5.0    137\n",
       "Name: score, dtype: int64"
      ]
     },
     "execution_count": 214,
     "metadata": {},
     "output_type": "execute_result"
    },
    {
     "data": {
      "image/png": "[encoded data removed]",
      "text/plain": [
       "<Figure size 432x288 with 1 Axes>"
      ]
     },
     "metadata": {
      "needs_background": "light"
     },
     "output_type": "display_data"
    }
   ],
   "source": [
    "#Анализ столбца health\n",
    "\n",
    "#Удаление пустых записей\n",
    "students_health = students[~students['health'].isnull()]\n",
    "\n",
    "#Проверка распределения значений по столбцу\n",
    "sns.countplot(x = 'health', data = students_health)\n",
    "\n",
    "students_health.groupby(['health'])['score'].count()"
   ]
  },
  {
   "cell_type": "code",
   "execution_count": 215,
   "metadata": {},
   "outputs": [
    {
     "data": {
      "text/plain": [
       "56.18"
      ]
     },
     "execution_count": 215,
     "metadata": {},
     "output_type": "execute_result"
    }
   ],
   "source": [
    "#Определение среднего балла по группе учеников, c очень плохим и плохим здоровьем\n",
    "round(students_health[(students_health.health == 1) | (students_health.health == 2)].score.mean(),2)"
   ]
  },
  {
   "cell_type": "code",
   "execution_count": 220,
   "metadata": {},
   "outputs": [
    {
     "data": {
      "text/plain": [
       "60.0"
      ]
     },
     "execution_count": 220,
     "metadata": {},
     "output_type": "execute_result"
    }
   ],
   "source": [
    "#Определение медианного значения балла по группе учеников, c очень плохим и плохим здоровьем\n",
    "round(students_health[(students_health.health == 1) | (students_health.health == 2)].score.median(),2)"
   ]
  },
  {
   "cell_type": "code",
   "execution_count": 216,
   "metadata": {},
   "outputs": [
    {
     "data": {
      "text/plain": [
       "50.62"
      ]
     },
     "execution_count": 216,
     "metadata": {},
     "output_type": "execute_result"
    }
   ],
   "source": [
    "#Определение среднего балла по группе учеников, cо средним здоровьем\n",
    "round(students_health[students_health.health == 3].score.mean(),2)"
   ]
  },
  {
   "cell_type": "code",
   "execution_count": 217,
   "metadata": {},
   "outputs": [
    {
     "data": {
      "text/plain": [
       "50.83"
      ]
     },
     "execution_count": 217,
     "metadata": {},
     "output_type": "execute_result"
    }
   ],
   "source": [
    "#Определение среднего балла по группе учеников, c хорошим здоровьем\n",
    "round(students_health[students_health.health == 4].score.mean(),2)"
   ]
  },
  {
   "cell_type": "code",
   "execution_count": 218,
   "metadata": {},
   "outputs": [
    {
     "data": {
      "text/plain": [
       "52.19"
      ]
     },
     "execution_count": 218,
     "metadata": {},
     "output_type": "execute_result"
    }
   ],
   "source": [
    "#Определение среднего балла по группе учеников, c очень хорошим здоровьем\n",
    "round(students_health[students_health.health == 5].score.mean(),2)"
   ]
  },
  {
   "cell_type": "code",
   "execution_count": 219,
   "metadata": {},
   "outputs": [
    {
     "data": {
      "text/plain": [
       "55.0"
      ]
     },
     "execution_count": 219,
     "metadata": {},
     "output_type": "execute_result"
    }
   ],
   "source": [
    "#Определение медианного значения баллов по группе учеников, c очень хорошим здоровьем\n",
    "round(students_health[students_health.health == 5].score.median(),2)"
   ]
  },
  {
   "cell_type": "code",
   "execution_count": 251,
   "metadata": {},
   "outputs": [
    {
     "data": {
      "text/plain": [
       "absences\n",
       "0.0      110\n",
       "1.0        3\n",
       "2.0       60\n",
       "3.0        7\n",
       "4.0       52\n",
       "5.0        5\n",
       "6.0       30\n",
       "7.0        6\n",
       "8.0       20\n",
       "9.0        3\n",
       "10.0      17\n",
       "11.0       2\n",
       "12.0      12\n",
       "13.0       2\n",
       "14.0      12\n",
       "15.0       2\n",
       "16.0       7\n",
       "17.0       1\n",
       "18.0       5\n",
       "19.0       1\n",
       "20.0       4\n",
       "21.0       1\n",
       "22.0       3\n",
       "23.0       1\n",
       "24.0       1\n",
       "25.0       1\n",
       "26.0       1\n",
       "28.0       1\n",
       "30.0       1\n",
       "38.0       1\n",
       "40.0       1\n",
       "54.0       1\n",
       "56.0       1\n",
       "75.0       1\n",
       "212.0      1\n",
       "385.0      1\n",
       "Name: score, dtype: int64"
      ]
     },
     "execution_count": 251,
     "metadata": {},
     "output_type": "execute_result"
    }
   ],
   "source": [
    "#Анализ столбца absences\n",
    "\n",
    "#Удаление пустых записей\n",
    "students_absences = students[~students['absences'].isnull()]\n",
    "\n",
    "#Проверка распределения значений по столбцу\n",
    "students_absences.groupby(['absences'])['score'].count()"
   ]
  },
  {
   "cell_type": "code",
   "execution_count": 249,
   "metadata": {},
   "outputs": [
    {
     "data": {
      "text/plain": [
       "<matplotlib.axes._subplots.AxesSubplot at 0xfba5208>"
      ]
     },
     "execution_count": 249,
     "metadata": {},
     "output_type": "execute_result"
    },
    {
     "data": {
      "image/png": "[encoded data removed]",
      "text/plain": [
       "<Figure size 432x288 with 1 Axes>"
      ]
     },
     "metadata": {
      "needs_background": "light"
     },
     "output_type": "display_data"
    }
   ],
   "source": [
    "#Поиск выбросов\n",
    "sns.boxplot (data = students_absences.absences)"
   ]
  },
  {
   "cell_type": "code",
   "execution_count": 255,
   "metadata": {},
   "outputs": [
    {
     "data": {
      "text/plain": [
       "-12.0"
      ]
     },
     "metadata": {},
     "output_type": "display_data"
    },
    {
     "data": {
      "text/plain": [
       "20.0"
      ]
     },
     "metadata": {},
     "output_type": "display_data"
    }
   ],
   "source": [
    "#Расчет межквартильного размаха по столбу absences\n",
    "IRQ_absences = students['absences'].quantile(q=0.75, interpolation='midpoint') - students['absences'].quantile(q=0.25, interpolation='midpoint')\n",
    "\n",
    "#Расчет перцентителей\n",
    "absences_perc25 = students.absences.quantile(0.25)\n",
    "absences_perc75 = students.absences.quantile(0.75)\n",
    "\n",
    "#Поиск границ выбросов\n",
    "eject_absences_low = absences_perc25 - 1.5*IRQ_absences\n",
    "eject_absences_high = absences_perc75 + 1.5*IRQ_absences\n",
    "\n",
    "display(eject_absences_low, eject_absences_high)"
   ]
  },
  {
   "cell_type": "code",
   "execution_count": 258,
   "metadata": {},
   "outputs": [
    {
     "data": {
      "text/plain": [
       "<matplotlib.axes._subplots.AxesSubplot at 0x1165d9c8>"
      ]
     },
     "execution_count": 258,
     "metadata": {},
     "output_type": "execute_result"
    },
    {
     "data": {
      "image/png": "[encoded data removed]",
      "text/plain": [
       "<Figure size 432x288 with 1 Axes>"
      ]
     },
     "metadata": {
      "needs_background": "light"
     },
     "output_type": "display_data"
    }
   ],
   "source": [
    "#Построение графика распределения оценок на экзамене по математике в зависимости от количества пропущенных занятий\n",
    "students_normal_absences = students_absences[students_absences.absences <= 20]\n",
    "\n",
    "students_normal_absences.plot(x = 'absences', y = 'score', kind = 'scatter', grid = True, title = 'Сравнение балла по математике с количество пропусков занятий')"
   ]
  },
  {
   "cell_type": "code",
   "execution_count": 236,
   "metadata": {},
   "outputs": [
    {
     "data": {
      "text/html": [
       "<div>\n",
       "<style scoped>\n",
       "    .dataframe tbody tr th:only-of-type {\n",
       "        vertical-align: middle;\n",
       "    }\n",
       "\n",
       "    .dataframe tbody tr th {\n",
       "        vertical-align: top;\n",
       "    }\n",
       "\n",
       "    .dataframe thead th {\n",
       "        text-align: right;\n",
       "    }\n",
       "</style>\n",
       "<table border=\"1\" class=\"dataframe\">\n",
       "  <thead>\n",
       "    <tr style=\"text-align: right;\">\n",
       "      <th></th>\n",
       "      <th>age</th>\n",
       "      <th>Medu</th>\n",
       "      <th>Fedu</th>\n",
       "      <th>traveltime</th>\n",
       "      <th>studytime</th>\n",
       "      <th>failures</th>\n",
       "      <th>studytime, granular</th>\n",
       "      <th>famrel</th>\n",
       "      <th>freetime</th>\n",
       "      <th>goout</th>\n",
       "      <th>health</th>\n",
       "      <th>absences</th>\n",
       "      <th>score</th>\n",
       "    </tr>\n",
       "  </thead>\n",
       "  <tbody>\n",
       "    <tr>\n",
       "      <th>age</th>\n",
       "      <td>1.000000</td>\n",
       "      <td>-0.146736</td>\n",
       "      <td>-0.132182</td>\n",
       "      <td>0.073146</td>\n",
       "      <td>-0.018227</td>\n",
       "      <td>0.205919</td>\n",
       "      <td>0.018227</td>\n",
       "      <td>0.060414</td>\n",
       "      <td>0.016099</td>\n",
       "      <td>0.121115</td>\n",
       "      <td>-0.068103</td>\n",
       "      <td>0.096628</td>\n",
       "      <td>-0.155726</td>\n",
       "    </tr>\n",
       "    <tr>\n",
       "      <th>Medu</th>\n",
       "      <td>-0.146736</td>\n",
       "      <td>1.000000</td>\n",
       "      <td>0.270754</td>\n",
       "      <td>-0.165838</td>\n",
       "      <td>0.081032</td>\n",
       "      <td>-0.240319</td>\n",
       "      <td>-0.081032</td>\n",
       "      <td>0.000602</td>\n",
       "      <td>0.038265</td>\n",
       "      <td>0.072320</td>\n",
       "      <td>-0.048331</td>\n",
       "      <td>-0.014047</td>\n",
       "      <td>0.213349</td>\n",
       "    </tr>\n",
       "    <tr>\n",
       "      <th>Fedu</th>\n",
       "      <td>-0.132182</td>\n",
       "      <td>0.270754</td>\n",
       "      <td>1.000000</td>\n",
       "      <td>0.038990</td>\n",
       "      <td>0.059618</td>\n",
       "      <td>-0.150023</td>\n",
       "      <td>-0.059618</td>\n",
       "      <td>0.045665</td>\n",
       "      <td>-0.062377</td>\n",
       "      <td>-0.019312</td>\n",
       "      <td>0.024861</td>\n",
       "      <td>0.003762</td>\n",
       "      <td>0.078573</td>\n",
       "    </tr>\n",
       "    <tr>\n",
       "      <th>traveltime</th>\n",
       "      <td>0.073146</td>\n",
       "      <td>-0.165838</td>\n",
       "      <td>0.038990</td>\n",
       "      <td>1.000000</td>\n",
       "      <td>-0.105910</td>\n",
       "      <td>0.049738</td>\n",
       "      <td>0.105910</td>\n",
       "      <td>-0.027395</td>\n",
       "      <td>-0.026299</td>\n",
       "      <td>0.032629</td>\n",
       "      <td>-0.011724</td>\n",
       "      <td>-0.048242</td>\n",
       "      <td>-0.070559</td>\n",
       "    </tr>\n",
       "    <tr>\n",
       "      <th>studytime</th>\n",
       "      <td>-0.018227</td>\n",
       "      <td>0.081032</td>\n",
       "      <td>0.059618</td>\n",
       "      <td>-0.105910</td>\n",
       "      <td>1.000000</td>\n",
       "      <td>-0.181947</td>\n",
       "      <td>-1.000000</td>\n",
       "      <td>0.046249</td>\n",
       "      <td>-0.125066</td>\n",
       "      <td>-0.053831</td>\n",
       "      <td>-0.079180</td>\n",
       "      <td>-0.025707</td>\n",
       "      <td>0.115741</td>\n",
       "    </tr>\n",
       "    <tr>\n",
       "      <th>failures</th>\n",
       "      <td>0.205919</td>\n",
       "      <td>-0.240319</td>\n",
       "      <td>-0.150023</td>\n",
       "      <td>0.049738</td>\n",
       "      <td>-0.181947</td>\n",
       "      <td>1.000000</td>\n",
       "      <td>0.181947</td>\n",
       "      <td>-0.034836</td>\n",
       "      <td>0.091608</td>\n",
       "      <td>0.107747</td>\n",
       "      <td>0.088013</td>\n",
       "      <td>0.058166</td>\n",
       "      <td>-0.344338</td>\n",
       "    </tr>\n",
       "    <tr>\n",
       "      <th>studytime, granular</th>\n",
       "      <td>0.018227</td>\n",
       "      <td>-0.081032</td>\n",
       "      <td>-0.059618</td>\n",
       "      <td>0.105910</td>\n",
       "      <td>-1.000000</td>\n",
       "      <td>0.181947</td>\n",
       "      <td>1.000000</td>\n",
       "      <td>-0.046249</td>\n",
       "      <td>0.125066</td>\n",
       "      <td>0.053831</td>\n",
       "      <td>0.079180</td>\n",
       "      <td>0.025707</td>\n",
       "      <td>-0.115741</td>\n",
       "    </tr>\n",
       "    <tr>\n",
       "      <th>famrel</th>\n",
       "      <td>0.060414</td>\n",
       "      <td>0.000602</td>\n",
       "      <td>0.045665</td>\n",
       "      <td>-0.027395</td>\n",
       "      <td>0.046249</td>\n",
       "      <td>-0.034836</td>\n",
       "      <td>-0.046249</td>\n",
       "      <td>1.000000</td>\n",
       "      <td>0.174193</td>\n",
       "      <td>0.076387</td>\n",
       "      <td>0.080089</td>\n",
       "      <td>-0.082489</td>\n",
       "      <td>0.057112</td>\n",
       "    </tr>\n",
       "    <tr>\n",
       "      <th>freetime</th>\n",
       "      <td>0.016099</td>\n",
       "      <td>0.038265</td>\n",
       "      <td>-0.062377</td>\n",
       "      <td>-0.026299</td>\n",
       "      <td>-0.125066</td>\n",
       "      <td>0.091608</td>\n",
       "      <td>0.125066</td>\n",
       "      <td>0.174193</td>\n",
       "      <td>1.000000</td>\n",
       "      <td>0.296338</td>\n",
       "      <td>0.064315</td>\n",
       "      <td>0.010745</td>\n",
       "      <td>0.019026</td>\n",
       "    </tr>\n",
       "    <tr>\n",
       "      <th>goout</th>\n",
       "      <td>0.121115</td>\n",
       "      <td>0.072320</td>\n",
       "      <td>-0.019312</td>\n",
       "      <td>0.032629</td>\n",
       "      <td>-0.053831</td>\n",
       "      <td>0.107747</td>\n",
       "      <td>0.053831</td>\n",
       "      <td>0.076387</td>\n",
       "      <td>0.296338</td>\n",
       "      <td>1.000000</td>\n",
       "      <td>-0.018026</td>\n",
       "      <td>-0.047954</td>\n",
       "      <td>-0.129685</td>\n",
       "    </tr>\n",
       "    <tr>\n",
       "      <th>health</th>\n",
       "      <td>-0.068103</td>\n",
       "      <td>-0.048331</td>\n",
       "      <td>0.024861</td>\n",
       "      <td>-0.011724</td>\n",
       "      <td>-0.079180</td>\n",
       "      <td>0.088013</td>\n",
       "      <td>0.079180</td>\n",
       "      <td>0.080089</td>\n",
       "      <td>0.064315</td>\n",
       "      <td>-0.018026</td>\n",
       "      <td>1.000000</td>\n",
       "      <td>-0.016165</td>\n",
       "      <td>-0.070460</td>\n",
       "    </tr>\n",
       "    <tr>\n",
       "      <th>absences</th>\n",
       "      <td>0.096628</td>\n",
       "      <td>-0.014047</td>\n",
       "      <td>0.003762</td>\n",
       "      <td>-0.048242</td>\n",
       "      <td>-0.025707</td>\n",
       "      <td>0.058166</td>\n",
       "      <td>0.025707</td>\n",
       "      <td>-0.082489</td>\n",
       "      <td>0.010745</td>\n",
       "      <td>-0.047954</td>\n",
       "      <td>-0.016165</td>\n",
       "      <td>1.000000</td>\n",
       "      <td>0.065283</td>\n",
       "    </tr>\n",
       "    <tr>\n",
       "      <th>score</th>\n",
       "      <td>-0.155726</td>\n",
       "      <td>0.213349</td>\n",
       "      <td>0.078573</td>\n",
       "      <td>-0.070559</td>\n",
       "      <td>0.115741</td>\n",
       "      <td>-0.344338</td>\n",
       "      <td>-0.115741</td>\n",
       "      <td>0.057112</td>\n",
       "      <td>0.019026</td>\n",
       "      <td>-0.129685</td>\n",
       "      <td>-0.070460</td>\n",
       "      <td>0.065283</td>\n",
       "      <td>1.000000</td>\n",
       "    </tr>\n",
       "  </tbody>\n",
       "</table>\n",
       "</div>"
      ],
      "text/plain": [
       "                          age      Medu      Fedu  traveltime  studytime  \\\n",
       "age                  1.000000 -0.146736 -0.132182    0.073146  -0.018227   \n",
       "Medu                -0.146736  1.000000  0.270754   -0.165838   0.081032   \n",
       "Fedu                -0.132182  0.270754  1.000000    0.038990   0.059618   \n",
       "traveltime           0.073146 -0.165838  0.038990    1.000000  -0.105910   \n",
       "studytime           -0.018227  0.081032  0.059618   -0.105910   1.000000   \n",
       "failures             0.205919 -0.240319 -0.150023    0.049738  -0.181947   \n",
       "studytime, granular  0.018227 -0.081032 -0.059618    0.105910  -1.000000   \n",
       "famrel               0.060414  0.000602  0.045665   -0.027395   0.046249   \n",
       "freetime             0.016099  0.038265 -0.062377   -0.026299  -0.125066   \n",
       "goout                0.121115  0.072320 -0.019312    0.032629  -0.053831   \n",
       "health              -0.068103 -0.048331  0.024861   -0.011724  -0.079180   \n",
       "absences             0.096628 -0.014047  0.003762   -0.048242  -0.025707   \n",
       "score               -0.155726  0.213349  0.078573   -0.070559   0.115741   \n",
       "\n",
       "                     failures  studytime, granular    famrel  freetime  \\\n",
       "age                  0.205919             0.018227  0.060414  0.016099   \n",
       "Medu                -0.240319            -0.081032  0.000602  0.038265   \n",
       "Fedu                -0.150023            -0.059618  0.045665 -0.062377   \n",
       "traveltime           0.049738             0.105910 -0.027395 -0.026299   \n",
       "studytime           -0.181947            -1.000000  0.046249 -0.125066   \n",
       "failures             1.000000             0.181947 -0.034836  0.091608   \n",
       "studytime, granular  0.181947             1.000000 -0.046249  0.125066   \n",
       "famrel              -0.034836            -0.046249  1.000000  0.174193   \n",
       "freetime             0.091608             0.125066  0.174193  1.000000   \n",
       "goout                0.107747             0.053831  0.076387  0.296338   \n",
       "health               0.088013             0.079180  0.080089  0.064315   \n",
       "absences             0.058166             0.025707 -0.082489  0.010745   \n",
       "score               -0.344338            -0.115741  0.057112  0.019026   \n",
       "\n",
       "                        goout    health  absences     score  \n",
       "age                  0.121115 -0.068103  0.096628 -0.155726  \n",
       "Medu                 0.072320 -0.048331 -0.014047  0.213349  \n",
       "Fedu                -0.019312  0.024861  0.003762  0.078573  \n",
       "traveltime           0.032629 -0.011724 -0.048242 -0.070559  \n",
       "studytime           -0.053831 -0.079180 -0.025707  0.115741  \n",
       "failures             0.107747  0.088013  0.058166 -0.344338  \n",
       "studytime, granular  0.053831  0.079180  0.025707 -0.115741  \n",
       "famrel               0.076387  0.080089 -0.082489  0.057112  \n",
       "freetime             0.296338  0.064315  0.010745  0.019026  \n",
       "goout                1.000000 -0.018026 -0.047954 -0.129685  \n",
       "health              -0.018026  1.000000 -0.016165 -0.070460  \n",
       "absences            -0.047954 -0.016165  1.000000  0.065283  \n",
       "score               -0.129685 -0.070460  0.065283  1.000000  "
      ]
     },
     "execution_count": 236,
     "metadata": {},
     "output_type": "execute_result"
    }
   ],
   "source": [
    "#Проверим корреляцию между оценкой на экзамене по математике и прочими показателями\n",
    "students.corr()"
   ]
  }
 ],
 "metadata": {
  "kernelspec": {
   "display_name": "Python 3",
   "language": "python",
   "name": "python3"
  },
  "language_info": {
   "codemirror_mode": {
    "name": "ipython",
    "version": 3
   },
   "file_extension": ".py",
   "mimetype": "text/x-python",
   "name": "python",
   "nbconvert_exporter": "python",
   "pygments_lexer": "ipython3",
   "version": "3.7.6"
  }
 },
 "nbformat": 4,
 "nbformat_minor": 4
}
