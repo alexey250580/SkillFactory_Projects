{
 "cells": [
  {
   "cell_type": "code",
   "execution_count": 2,
   "metadata": {
    "scrolled": false
   },
   "outputs": [
    {
     "name": "stdout",
     "output_type": "stream",
     "text": [
      "<class 'pandas.core.frame.DataFrame'>\n",
      "RangeIndex: 395 entries, 0 to 394\n",
      "Data columns (total 30 columns):\n",
      " #   Column               Non-Null Count  Dtype  \n",
      "---  ------               --------------  -----  \n",
      " 0   school               395 non-null    object \n",
      " 1   sex                  395 non-null    object \n",
      " 2   age                  395 non-null    int64  \n",
      " 3   address              378 non-null    object \n",
      " 4   famsize              368 non-null    object \n",
      " 5   Pstatus              350 non-null    object \n",
      " 6   Medu                 392 non-null    float64\n",
      " 7   Fedu                 371 non-null    float64\n",
      " 8   Mjob                 376 non-null    object \n",
      " 9   Fjob                 359 non-null    object \n",
      " 10  reason               378 non-null    object \n",
      " 11  guardian             364 non-null    object \n",
      " 12  traveltime           367 non-null    float64\n",
      " 13  studytime            388 non-null    float64\n",
      " 14  failures             373 non-null    float64\n",
      " 15  schoolsup            386 non-null    object \n",
      " 16  famsup               356 non-null    object \n",
      " 17  paid                 355 non-null    object \n",
      " 18  activities           381 non-null    object \n",
      " 19  nursery              379 non-null    object \n",
      " 20  studytime, granular  388 non-null    float64\n",
      " 21  higher               375 non-null    object \n",
      " 22  internet             361 non-null    object \n",
      " 23  romantic             364 non-null    object \n",
      " 24  famrel               368 non-null    float64\n",
      " 25  freetime             384 non-null    float64\n",
      " 26  goout                387 non-null    float64\n",
      " 27  health               380 non-null    float64\n",
      " 28  absences             383 non-null    float64\n",
      " 29  score                389 non-null    float64\n",
      "dtypes: float64(12), int64(1), object(17)\n",
      "memory usage: 92.7+ KB\n"
     ]
    },
    {
     "data": {
      "text/plain": [
       "school                  2\n",
       "sex                     2\n",
       "age                     8\n",
       "address                 2\n",
       "famsize                 2\n",
       "Pstatus                 2\n",
       "Medu                    5\n",
       "Fedu                    6\n",
       "Mjob                    5\n",
       "Fjob                    5\n",
       "reason                  4\n",
       "guardian                3\n",
       "traveltime              4\n",
       "studytime               4\n",
       "failures                4\n",
       "schoolsup               2\n",
       "famsup                  2\n",
       "paid                    2\n",
       "activities              2\n",
       "nursery                 2\n",
       "studytime, granular     4\n",
       "higher                  2\n",
       "internet                2\n",
       "romantic                2\n",
       "famrel                  6\n",
       "freetime                5\n",
       "goout                   5\n",
       "health                  5\n",
       "absences               36\n",
       "score                  18\n",
       "dtype: int64"
      ]
     },
     "execution_count": 2,
     "metadata": {},
     "output_type": "execute_result"
    }
   ],
   "source": [
    "import pandas as pd\n",
    "import matplotlib.pyplot as plt\n",
    "import seaborn as sns\n",
    "from itertools import combinations\n",
    "from scipy.stats import ttest_ind\n",
    "\n",
    "students = pd.read_csv('stud_math.csv')\n",
    "\n",
    "#Общая информация о датасете\n",
    "students.info()\n",
    "\n",
    "#Определим общее количество записей в датасете\n",
    "students.count()\n",
    "\n",
    "#Количество уникальных значений в датасете\n",
    "students.nunique()"
   ]
  },
  {
   "cell_type": "code",
   "execution_count": 3,
   "metadata": {},
   "outputs": [
    {
     "data": {
      "text/plain": [
       "<matplotlib.axes._subplots.AxesSubplot at 0x8ab08c8>"
      ]
     },
     "execution_count": 3,
     "metadata": {},
     "output_type": "execute_result"
    },
    {
     "data": {
      "image/png": "[encoded data removed]",
      "text/plain": [
       "<Figure size 432x288 with 1 Axes>"
      ]
     },
     "metadata": {
      "needs_background": "light"
     },
     "output_type": "display_data"
    }
   ],
   "source": [
    "#Анализ столбца school\n",
    "students.school.hist()"
   ]
  },
  {
   "cell_type": "code",
   "execution_count": 4,
   "metadata": {},
   "outputs": [
    {
     "data": {
      "text/plain": [
       "score    52.63\n",
       "dtype: float64"
      ]
     },
     "execution_count": 4,
     "metadata": {},
     "output_type": "execute_result"
    }
   ],
   "source": [
    "#Анализ значений экзамена по математике по школе GP\n",
    "school_GP_score = students[students.school == 'GP'][['school','score']]\n",
    "round(school_GP_score.mean(),2)"
   ]
  },
  {
   "cell_type": "code",
   "execution_count": 5,
   "metadata": {},
   "outputs": [
    {
     "data": {
      "text/plain": [
       "score    49.44\n",
       "dtype: float64"
      ]
     },
     "execution_count": 5,
     "metadata": {},
     "output_type": "execute_result"
    }
   ],
   "source": [
    "#Анализ значений экзамена по математике по школе MS\n",
    "school_MS_score = students[students.school == 'MS'][['school', 'score']]\n",
    "round(school_MS_score.mean(),2)"
   ]
  },
  {
   "cell_type": "code",
   "execution_count": 6,
   "metadata": {},
   "outputs": [
    {
     "name": "stdout",
     "output_type": "stream",
     "text": [
      "Выбросов нет\n",
      "Выбросов нет\n",
      "Выбросов нет\n",
      "Выбросов нет\n",
      "Выбросов нет\n",
      "Выбросов нет\n",
      "Выбросов нет\n",
      "Выбросов нет\n",
      "Выбросов нет\n",
      "Выбросов нет\n",
      "Выбросов нет\n",
      "Выбросов нет\n",
      "Выбросов нет\n",
      "Выбросов нет\n",
      "Выбросов нет\n",
      "Выбросов нет\n",
      "Выбросов нет\n",
      "Выбросов нет\n",
      "Выбросов нет\n",
      "Выбросов нет\n",
      "Выбросов нет\n",
      "Выбросов нет\n",
      "Выбросов нет\n",
      "Выбросов нет\n",
      "Выбросов нет\n",
      "Выбросов нет\n",
      "Выбросов нет\n",
      "Выбросов нет\n",
      "Выбросов нет\n",
      "Выбросов нет\n",
      "Выбросов нет\n",
      "Выбросов нет\n",
      "Выбросов нет\n",
      "Выбросов нет\n",
      "Выбросов нет\n",
      "Выбросов нет\n",
      "Выбросов нет\n",
      "Выбросов нет\n",
      "Выбросов нет\n",
      "Выбросов нет\n",
      "Выбросов нет\n",
      "Выбросов нет\n",
      "Выбросов нет\n",
      "Выбросов нет\n",
      "Выбросов нет\n",
      "Выбросов нет\n",
      "Выбросов нет\n",
      "Выбросов нет\n",
      "Выбросов нет\n",
      "Выбросов нет\n",
      "Выбросов нет\n",
      "Выбросов нет\n",
      "Выбросов нет\n",
      "Выбросов нет\n",
      "Выбросов нет\n",
      "Выбросов нет\n",
      "Выбросов нет\n",
      "Выбросов нет\n",
      "Выбросов нет\n",
      "Выбросов нет\n",
      "Выбросов нет\n",
      "Выбросов нет\n",
      "Выбросов нет\n",
      "Выбросов нет\n",
      "Выбросов нет\n",
      "Выбросов нет\n",
      "Выбросов нет\n",
      "Выбросов нет\n",
      "Выбросов нет\n",
      "Выбросов нет\n",
      "Выбросов нет\n",
      "Выбросов нет\n",
      "Выбросов нет\n",
      "Выбросов нет\n",
      "Выбросов нет\n",
      "Выбросов нет\n",
      "Выбросов нет\n",
      "Выбросов нет\n",
      "Выбросов нет\n",
      "Выбросов нет\n",
      "Выбросов нет\n",
      "Выбросов нет\n",
      "Выбросов нет\n",
      "Выбросов нет\n",
      "Выбросов нет\n",
      "Выбросов нет\n",
      "Выбросов нет\n",
      "Выбросов нет\n",
      "Выбросов нет\n",
      "Выбросов нет\n",
      "Выбросов нет\n",
      "Выбросов нет\n",
      "Выбросов нет\n",
      "Выбросов нет\n",
      "Выбросов нет\n",
      "Выбросов нет\n",
      "Выбросов нет\n",
      "Выбросов нет\n",
      "Выбросов нет\n",
      "Выбросов нет\n",
      "Выбросов нет\n",
      "Выбросов нет\n",
      "Выбросов нет\n",
      "Выбросов нет\n",
      "Выбросов нет\n",
      "Выбросов нет\n",
      "Выбросов нет\n",
      "Выбросов нет\n",
      "Выбросов нет\n",
      "Выбросов нет\n",
      "Выбросов нет\n",
      "Выбросов нет\n",
      "Выбросов нет\n",
      "Выбросов нет\n",
      "Выбросов нет\n",
      "Выбросов нет\n",
      "Выбросов нет\n",
      "Выбросов нет\n",
      "Выбросов нет\n",
      "Выбросов нет\n",
      "Выбросов нет\n",
      "Выбросов нет\n",
      "Выбросов нет\n",
      "Выбросов нет\n",
      "Выбросов нет\n",
      "Выбросов нет\n",
      "Выбросов нет\n",
      "Выбросов нет\n",
      "Выбросов нет\n",
      "Выбросов нет\n",
      "Выбросов нет\n",
      "Выбросов нет\n",
      "Выбросов нет\n",
      "Выбросов нет\n",
      "Выбросов нет\n",
      "Выбросов нет\n",
      "Выбросов нет\n",
      "Выбросов нет\n",
      "Выбросов нет\n",
      "Выбросов нет\n",
      "Выбросов нет\n",
      "Выбросов нет\n",
      "Выбросов нет\n",
      "Выбросов нет\n",
      "Выбросов нет\n",
      "Выбросов нет\n",
      "Выбросов нет\n",
      "Выбросов нет\n",
      "Выбросов нет\n",
      "Выбросов нет\n",
      "Выбросов нет\n",
      "Выбросов нет\n",
      "Выбросов нет\n",
      "Выбросов нет\n",
      "Выбросов нет\n",
      "Выбросов нет\n",
      "Выбросов нет\n",
      "Выбросов нет\n",
      "Выбросов нет\n",
      "Выбросов нет\n",
      "Выбросов нет\n",
      "Выбросов нет\n",
      "Выбросов нет\n",
      "Выбросов нет\n",
      "Выбросов нет\n",
      "Выбросов нет\n",
      "Выбросов нет\n",
      "Выбросов нет\n",
      "Выбросов нет\n",
      "Выбросов нет\n",
      "Выбросов нет\n",
      "Выбросов нет\n",
      "Выбросов нет\n",
      "Выбросов нет\n",
      "Выбросов нет\n",
      "Выбросов нет\n",
      "Выбросов нет\n",
      "Выбросов нет\n",
      "Выбросов нет\n",
      "Выбросов нет\n",
      "Выбросов нет\n",
      "Выбросов нет\n",
      "Выбросов нет\n",
      "Выбросов нет\n",
      "Выбросов нет\n",
      "Выбросов нет\n",
      "Выбросов нет\n",
      "Выбросов нет\n",
      "Выбросов нет\n",
      "Выбросов нет\n",
      "Выбросов нет\n",
      "Выбросов нет\n",
      "Выбросов нет\n",
      "Выбросов нет\n",
      "Выбросов нет\n",
      "Выбросов нет\n",
      "Выбросов нет\n",
      "Выбросов нет\n",
      "Выбросов нет\n",
      "Выбросов нет\n",
      "Выбросов нет\n",
      "Выбросов нет\n",
      "Выбросов нет\n",
      "Выбросов нет\n",
      "Выбросов нет\n",
      "Выбросов нет\n",
      "Выбросов нет\n",
      "Выбросов нет\n",
      "Выбросов нет\n",
      "Выбросов нет\n",
      "Выбросов нет\n",
      "Выбросов нет\n",
      "Выбросов нет\n",
      "Выбросов нет\n",
      "Выбросов нет\n",
      "Выбросов нет\n",
      "Выбросов нет\n",
      "Выбросов нет\n",
      "Выбросов нет\n",
      "Выбросов нет\n",
      "Выбросов нет\n",
      "Выбросов нет\n",
      "Выбросов нет\n",
      "Выбросов нет\n",
      "Выбросов нет\n",
      "Выбросов нет\n",
      "Выбросов нет\n",
      "Выбросов нет\n",
      "Выбросов нет\n",
      "Выбросов нет\n",
      "Выбросов нет\n",
      "Выбросов нет\n",
      "Выбросов нет\n",
      "Выбросов нет\n",
      "Выбросов нет\n",
      "Выбросов нет\n",
      "Выбросов нет\n",
      "Выбросов нет\n",
      "Выбросов нет\n",
      "Выбросов нет\n",
      "Выбросов нет\n",
      "Выбросов нет\n",
      "Выбросов нет\n",
      "Выбросов нет\n",
      "Выбросов нет\n",
      "Выбросов нет\n",
      "Выбросов нет\n",
      "Выбросов нет\n",
      "Выбросов нет\n",
      "Выбросов нет\n",
      "Выбросов нет\n",
      "Выбросов нет\n",
      "Выбросов нет\n",
      "Выбросов нет\n",
      "Выбросов нет\n",
      "Выбросов нет\n",
      "Выбросов нет\n",
      "Выбросов нет\n",
      "Выбросов нет\n",
      "Выбросов нет\n",
      "Выбросов нет\n",
      "Выбросов нет\n",
      "Выбросов нет\n",
      "Выбросов нет\n",
      "Выбросов нет\n",
      "Выбросов нет\n",
      "Выбросов нет\n",
      "Выбросов нет\n",
      "Выбросов нет\n",
      "Выбросов нет\n",
      "Выбросов нет\n",
      "Выбросов нет\n",
      "Выбросов нет\n",
      "Выбросов нет\n",
      "Выбросов нет\n",
      "Выбросов нет\n",
      "Выбросов нет\n",
      "Выбросов нет\n",
      "Выбросов нет\n",
      "Выбросов нет\n",
      "Выбросов нет\n",
      "Выбросов нет\n",
      "Выбросов нет\n",
      "Выбросов нет\n",
      "Выбросов нет\n",
      "Выбросов нет\n",
      "Выбросов нет\n",
      "Выбросов нет\n",
      "Выбросов нет\n",
      "Выбросов нет\n",
      "Выбросов нет\n",
      "Выбросов нет\n",
      "Выбросов нет\n",
      "Выбросов нет\n",
      "Выбросов нет\n",
      "Выбросов нет\n",
      "Выбросов нет\n",
      "Выбросов нет\n",
      "Выбросов нет\n",
      "Выбросов нет\n",
      "Выбросов нет\n",
      "Выбросов нет\n",
      "Выбросов нет\n",
      "Выбросов нет\n",
      "Выбросов нет\n",
      "Выбросов нет\n",
      "Выбросов нет\n",
      "Выбросов нет\n",
      "Выбросов нет\n",
      "Выбросов нет\n",
      "Выбросов нет\n",
      "Выбросов нет\n",
      "Выбросов нет\n",
      "Выбросов нет\n",
      "Выбросов нет\n",
      "Выбросов нет\n",
      "Выбросов нет\n",
      "Выбросов нет\n",
      "Выбросов нет\n",
      "Выбросов нет\n",
      "Выбросов нет\n",
      "Выбросов нет\n",
      "Выбросов нет\n",
      "Выбросов нет\n",
      "Выбросов нет\n",
      "Выбросов нет\n",
      "Выбросов нет\n",
      "Выбросов нет\n",
      "Выбросов нет\n",
      "Выбросов нет\n",
      "Выбросов нет\n",
      "Выбросов нет\n",
      "Выбросов нет\n",
      "Выбросов нет\n",
      "Выбросов нет\n",
      "Выбросов нет\n",
      "Выбросов нет\n",
      "Выбросов нет\n",
      "Выбросов нет\n",
      "Выбросов нет\n",
      "Выбросов нет\n",
      "Выбросов нет\n",
      "Выбросов нет\n",
      "Выбросов нет\n",
      "Выбросов нет\n",
      "Выбросов нет\n",
      "Выбросов нет\n",
      "Выбросов нет\n",
      "Выбросов нет\n",
      "Выбросов нет\n",
      "Выбросов нет\n",
      "Выбросов нет\n",
      "Выбросов нет\n",
      "Выбросов нет\n",
      "Выбросов нет\n",
      "Выбросов нет\n",
      "Выбросов нет\n",
      "Выбросов нет\n",
      "Выбросов нет\n",
      "Выбросов нет\n",
      "Выбросов нет\n",
      "Выбросов нет\n",
      "Выбросов нет\n",
      "Выбросов нет\n",
      "Выбросов нет\n",
      "Выбросов нет\n",
      "Выбросов нет\n",
      "Выбросов нет\n",
      "Выбросов нет\n",
      "Выбросов нет\n",
      "Выбросов нет\n",
      "Выбросов нет\n",
      "Выбросов нет\n",
      "Выбросов нет\n",
      "Выбросов нет\n",
      "Выбросов нет\n",
      "Выбросов нет\n",
      "Выбросов нет\n",
      "Выбросов нет\n",
      "Выбросов нет\n",
      "Выбросов нет\n",
      "Выбросов нет\n",
      "Выбросов нет\n",
      "Выбросов нет\n",
      "Выбросов нет\n",
      "Выбросов нет\n",
      "Выбросов нет\n",
      "Выбросов нет\n",
      "Выбросов нет\n",
      "Выбросов нет\n",
      "Выбросов нет\n",
      "Выбросов нет\n",
      "Выбросов нет\n",
      "Выбросов нет\n",
      "Выбросов нет\n"
     ]
    },
    {
     "data": {
      "text/plain": [
       "<matplotlib.axes._subplots.AxesSubplot at 0xb921648>"
      ]
     },
     "execution_count": 6,
     "metadata": {},
     "output_type": "execute_result"
    },
    {
     "data": {
      "image/png": "[encoded data removed]",
      "text/plain": [
       "<Figure size 432x288 with 1 Axes>"
      ]
     },
     "metadata": {
      "needs_background": "light"
     },
     "output_type": "display_data"
    }
   ],
   "source": [
    "#Проверка на наличие выбросов в столбце score\n",
    "\n",
    "#Расчет межквартильного размаха\n",
    "IRQ_score = students['score'].quantile(q=0.75, interpolation='midpoint') - students['score'].quantile(q=0.25, interpolation='midpoint')\n",
    "\n",
    "#Расчет перцентителей\n",
    "score_perc25 = students.score.quantile(0.25)\n",
    "score_perc75 = students.score.quantile(0.75)\n",
    "\n",
    "#Поиск выбросов\n",
    "eject_score_low = score_perc25 - 1.5*IRQ_score\n",
    "eject_score_high = score_perc75 + 1.5*IRQ_score\n",
    "\n",
    "for i in students['score']:\n",
    "    if i < eject_score_low:\n",
    "        print('Выбросы есть')\n",
    "    elif i > eject_score_high:\n",
    "        print('Выбросы есть')\n",
    "    else:\n",
    "        print('Выбросов нет')\n",
    "\n",
    "students.score.hist(bins=50)"
   ]
  },
  {
   "cell_type": "code",
   "execution_count": 14,
   "metadata": {},
   "outputs": [
    {
     "name": "stdout",
     "output_type": "stream",
     "text": [
      "<class 'pandas.core.frame.DataFrame'>\n",
      "Int64Index: 389 entries, 0 to 394\n",
      "Data columns (total 30 columns):\n",
      " #   Column               Non-Null Count  Dtype  \n",
      "---  ------               --------------  -----  \n",
      " 0   school               389 non-null    object \n",
      " 1   sex                  389 non-null    object \n",
      " 2   age                  389 non-null    int64  \n",
      " 3   address              374 non-null    object \n",
      " 4   famsize              362 non-null    object \n",
      " 5   Pstatus              344 non-null    object \n",
      " 6   Medu                 386 non-null    float64\n",
      " 7   Fedu                 365 non-null    float64\n",
      " 8   Mjob                 370 non-null    object \n",
      " 9   Fjob                 353 non-null    object \n",
      " 10  reason               372 non-null    object \n",
      " 11  guardian             358 non-null    object \n",
      " 12  traveltime           361 non-null    float64\n",
      " 13  studytime            382 non-null    float64\n",
      " 14  failures             367 non-null    float64\n",
      " 15  schoolsup            380 non-null    object \n",
      " 16  famsup               351 non-null    object \n",
      " 17  paid                 350 non-null    object \n",
      " 18  activities           375 non-null    object \n",
      " 19  nursery              374 non-null    object \n",
      " 20  studytime, granular  382 non-null    float64\n",
      " 21  higher               369 non-null    object \n",
      " 22  internet             355 non-null    object \n",
      " 23  romantic             358 non-null    object \n",
      " 24  famrel               362 non-null    float64\n",
      " 25  freetime             380 non-null    float64\n",
      " 26  goout                382 non-null    float64\n",
      " 27  health               374 non-null    float64\n",
      " 28  absences             378 non-null    float64\n",
      " 29  score                389 non-null    float64\n",
      "dtypes: float64(12), int64(1), object(17)\n",
      "memory usage: 94.2+ KB\n"
     ]
    }
   ],
   "source": [
    "#Формируем новый датасет, исключая из него записи с отсутствующими значениями в столбце score\n",
    "students = students[~students['score'].isnull()]\n",
    "students.info()"
   ]
  },
  {
   "cell_type": "code",
   "execution_count": 33,
   "metadata": {},
   "outputs": [
    {
     "data": {
      "text/plain": [
       "204"
      ]
     },
     "execution_count": 33,
     "metadata": {},
     "output_type": "execute_result"
    },
    {
     "data": {
      "image/png": "[encoded data removed]",
      "text/plain": [
       "<Figure size 432x288 with 1 Axes>"
      ]
     },
     "metadata": {
      "needs_background": "light"
     },
     "output_type": "display_data"
    }
   ],
   "source": [
    "#Анализ столбца sex\n",
    "students.sex.hist()\n",
    "\n",
    "#Подсчет количества девушек в новом датасете\n",
    "female = students[students.sex == 'F']\n",
    "female.sex.count()"
   ]
  },
  {
   "cell_type": "code",
   "execution_count": 34,
   "metadata": {},
   "outputs": [
    {
     "data": {
      "text/plain": [
       "185"
      ]
     },
     "execution_count": 34,
     "metadata": {},
     "output_type": "execute_result"
    }
   ],
   "source": [
    "#Подсчет количества мальчиков в новом датасете\n",
    "male = students[students.sex == 'M']\n",
    "male.sex.count()"
   ]
  },
  {
   "cell_type": "code",
   "execution_count": 35,
   "metadata": {},
   "outputs": [
    {
     "data": {
      "text/plain": [
       "50.1"
      ]
     },
     "execution_count": 35,
     "metadata": {},
     "output_type": "execute_result"
    }
   ],
   "source": [
    "#Определение среднего балла по математике среди девушек\n",
    "round(female.score.mean(),2)"
   ]
  },
  {
   "cell_type": "code",
   "execution_count": 36,
   "metadata": {},
   "outputs": [
    {
     "data": {
      "text/plain": [
       "54.65"
      ]
     },
     "execution_count": 36,
     "metadata": {},
     "output_type": "execute_result"
    }
   ],
   "source": [
    "#Определение среднего балла по математике среди мальчиков\n",
    "round(male.score.mean(),2)"
   ]
  },
  {
   "cell_type": "code",
   "execution_count": 37,
   "metadata": {},
   "outputs": [
    {
     "data": {
      "text/plain": [
       "score    50.17\n",
       "dtype: float64"
      ]
     },
     "execution_count": 37,
     "metadata": {},
     "output_type": "execute_result"
    }
   ],
   "source": [
    "#Анализ значений экзамена по математике у девушек по школе GP\n",
    "female_GP_score = female[female.school == 'GP'][['school','score']]\n",
    "round(female_GP_score.mean(),2)"
   ]
  },
  {
   "cell_type": "code",
   "execution_count": 39,
   "metadata": {},
   "outputs": [
    {
     "data": {
      "text/plain": [
       "score    49.6\n",
       "dtype: float64"
      ]
     },
     "execution_count": 39,
     "metadata": {},
     "output_type": "execute_result"
    }
   ],
   "source": [
    "#Анализ значений экзамена по математике у девушек по школе MS\n",
    "female_MS_score = female[female.school == 'MS'][['school','score']]\n",
    "round(female_MS_score.mean(),2)"
   ]
  },
  {
   "cell_type": "code",
   "execution_count": 40,
   "metadata": {},
   "outputs": [
    {
     "data": {
      "text/plain": [
       "score    55.3\n",
       "dtype: float64"
      ]
     },
     "execution_count": 40,
     "metadata": {},
     "output_type": "execute_result"
    }
   ],
   "source": [
    "#Анализ значений экзамена по математике у мальчиков по школе GP\n",
    "male_GP_score = male[male.school == 'GP'][['school','score']]\n",
    "round(male_GP_score.mean(),2)"
   ]
  },
  {
   "cell_type": "code",
   "execution_count": 41,
   "metadata": {},
   "outputs": [
    {
     "data": {
      "text/plain": [
       "score    49.25\n",
       "dtype: float64"
      ]
     },
     "execution_count": 41,
     "metadata": {},
     "output_type": "execute_result"
    }
   ],
   "source": [
    "#Анализ значений экзамена по математике у мальчиков по школе MS\n",
    "male_MS_score = male[male.school == 'MS'][['school','score']]\n",
    "round(male_MS_score.mean(),2)"
   ]
  },
  {
   "cell_type": "code",
   "execution_count": 161,
   "metadata": {},
   "outputs": [
    {
     "name": "stdout",
     "output_type": "stream",
     "text": [
      "Выбросов нет\n",
      "Выбросов нет\n",
      "Выбросов нет\n",
      "Выбросов нет\n",
      "Выбросов нет\n",
      "Выбросов нет\n",
      "Выбросов нет\n",
      "Выбросов нет\n",
      "Выбросов нет\n",
      "Выбросов нет\n",
      "Выбросов нет\n",
      "Выбросов нет\n",
      "Выбросов нет\n",
      "Выбросов нет\n",
      "Выбросов нет\n",
      "Выбросов нет\n",
      "Выбросов нет\n",
      "Выбросов нет\n",
      "Выбросов нет\n",
      "Выбросов нет\n",
      "Выбросов нет\n",
      "Выбросов нет\n",
      "Выбросов нет\n",
      "Выбросов нет\n",
      "Выбросов нет\n",
      "Выбросов нет\n",
      "Выбросов нет\n",
      "Выбросов нет\n",
      "Выбросов нет\n",
      "Выбросов нет\n",
      "Выбросов нет\n",
      "Выбросов нет\n",
      "Выбросов нет\n",
      "Выбросов нет\n",
      "Выбросов нет\n",
      "Выбросов нет\n",
      "Выбросов нет\n",
      "Выбросов нет\n",
      "Выбросов нет\n",
      "Выбросов нет\n",
      "Выбросов нет\n",
      "Выбросов нет\n",
      "Выбросов нет\n",
      "Выбросов нет\n",
      "Выбросов нет\n",
      "Выбросов нет\n",
      "Выбросов нет\n",
      "Выбросов нет\n",
      "Выбросов нет\n",
      "Выбросов нет\n",
      "Выбросов нет\n",
      "Выбросов нет\n",
      "Выбросов нет\n",
      "Выбросов нет\n",
      "Выбросов нет\n",
      "Выбросов нет\n",
      "Выбросов нет\n",
      "Выбросов нет\n",
      "Выбросов нет\n",
      "Выбросов нет\n",
      "Выбросов нет\n",
      "Выбросов нет\n",
      "Выбросов нет\n",
      "Выбросов нет\n",
      "Выбросов нет\n",
      "Выбросов нет\n",
      "Выбросов нет\n",
      "Выбросов нет\n",
      "Выбросов нет\n",
      "Выбросов нет\n",
      "Выбросов нет\n",
      "Выбросов нет\n",
      "Выбросов нет\n",
      "Выбросов нет\n",
      "Выбросов нет\n",
      "Выбросов нет\n",
      "Выбросов нет\n",
      "Выбросов нет\n",
      "Выбросов нет\n",
      "Выбросов нет\n",
      "Выбросов нет\n",
      "Выбросов нет\n",
      "Выбросов нет\n",
      "Выбросов нет\n",
      "Выбросов нет\n",
      "Выбросов нет\n",
      "Выбросов нет\n",
      "Выбросов нет\n",
      "Выбросов нет\n",
      "Выбросов нет\n",
      "Выбросов нет\n",
      "Выбросов нет\n",
      "Выбросов нет\n",
      "Выбросов нет\n",
      "Выбросов нет\n",
      "Выбросов нет\n",
      "Выбросов нет\n",
      "Выбросов нет\n",
      "Выбросов нет\n",
      "Выбросов нет\n",
      "Выбросов нет\n",
      "Выбросов нет\n",
      "Выбросов нет\n",
      "Выбросов нет\n",
      "Выбросов нет\n",
      "Выбросов нет\n",
      "Выбросов нет\n",
      "Выбросов нет\n",
      "Выбросов нет\n",
      "Выбросов нет\n",
      "Выбросов нет\n",
      "Выбросов нет\n",
      "Выбросов нет\n",
      "Выбросов нет\n",
      "Выбросов нет\n",
      "Выбросов нет\n",
      "Выбросов нет\n",
      "Выбросов нет\n",
      "Выбросов нет\n",
      "Выбросов нет\n",
      "Выбросов нет\n",
      "Выбросов нет\n",
      "Выбросов нет\n",
      "Выбросов нет\n",
      "Выбросов нет\n",
      "Выбросов нет\n",
      "Выбросов нет\n",
      "Выбросов нет\n",
      "Выбросов нет\n",
      "Выбросов нет\n",
      "Выбросов нет\n",
      "Выбросов нет\n",
      "Выбросов нет\n",
      "Выбросов нет\n",
      "Выбросов нет\n",
      "Выбросов нет\n",
      "Выбросов нет\n",
      "Выбросов нет\n",
      "Выбросов нет\n",
      "Выбросов нет\n",
      "Выбросов нет\n",
      "Выбросов нет\n",
      "Выбросов нет\n",
      "Выбросов нет\n",
      "Выбросов нет\n",
      "Выбросов нет\n",
      "Выбросов нет\n",
      "Выбросов нет\n",
      "Выбросов нет\n",
      "Выбросов нет\n",
      "Выбросов нет\n",
      "Выбросов нет\n",
      "Выбросов нет\n",
      "Выбросов нет\n",
      "Выбросов нет\n",
      "Выбросов нет\n",
      "Выбросов нет\n",
      "Выбросов нет\n",
      "Выбросов нет\n",
      "Выбросов нет\n",
      "Выбросов нет\n",
      "Выбросов нет\n",
      "Выбросов нет\n",
      "Выбросов нет\n",
      "Выбросов нет\n",
      "Выбросов нет\n",
      "Выбросов нет\n",
      "Выбросов нет\n",
      "Выбросов нет\n",
      "Выбросов нет\n",
      "Выбросов нет\n",
      "Выбросов нет\n",
      "Выбросов нет\n",
      "Выбросов нет\n",
      "Выбросов нет\n",
      "Выбросов нет\n",
      "Выбросов нет\n",
      "Выбросов нет\n",
      "Выбросов нет\n",
      "Выбросов нет\n",
      "Выбросов нет\n",
      "Выбросов нет\n",
      "Выбросов нет\n",
      "Выбросов нет\n",
      "Выбросов нет\n",
      "Выбросов нет\n",
      "Выбросов нет\n",
      "Выбросов нет\n",
      "Выбросов нет\n",
      "Выбросов нет\n",
      "Выбросов нет\n",
      "Выбросов нет\n",
      "Выбросов нет\n",
      "Выбросов нет\n",
      "Выбросов нет\n",
      "Выбросов нет\n",
      "Выбросов нет\n",
      "Выбросов нет\n",
      "Выбросов нет\n",
      "Выбросов нет\n",
      "Выбросов нет\n",
      "Выбросов нет\n",
      "Выбросов нет\n",
      "Выбросов нет\n",
      "Выбросов нет\n",
      "Выбросов нет\n",
      "Выбросов нет\n",
      "Выбросов нет\n",
      "Выбросов нет\n",
      "Выбросов нет\n",
      "Выбросов нет\n",
      "Выбросов нет\n",
      "Выбросов нет\n",
      "Выбросов нет\n",
      "Выбросов нет\n",
      "Выбросов нет\n",
      "Выбросов нет\n",
      "Выбросов нет\n",
      "Выбросов нет\n",
      "Выбросов нет\n",
      "Выбросов нет\n",
      "Выбросов нет\n",
      "Выбросов нет\n",
      "Выбросов нет\n",
      "Выбросов нет\n",
      "Выбросов нет\n",
      "Выбросов нет\n",
      "Выбросов нет\n",
      "Выбросов нет\n",
      "Выбросов нет\n",
      "Выбросов нет\n",
      "Выбросов нет\n",
      "Выбросов нет\n",
      "Выбросов нет\n",
      "Выбросов нет\n",
      "Выбросов нет\n",
      "Выбросов нет\n",
      "Выбросов нет\n",
      "Выбросов нет\n",
      "Выбросов нет\n",
      "Выбросов нет\n",
      "Выбросов нет\n",
      "Выбросов нет\n",
      "Выбросов нет\n",
      "Выбросов нет\n",
      "Выбросы есть 22\n",
      "Выбросов нет\n",
      "Выбросов нет\n",
      "Выбросов нет\n",
      "Выбросов нет\n",
      "Выбросов нет\n",
      "Выбросов нет\n",
      "Выбросов нет\n",
      "Выбросов нет\n",
      "Выбросов нет\n",
      "Выбросов нет\n",
      "Выбросов нет\n",
      "Выбросов нет\n",
      "Выбросов нет\n",
      "Выбросов нет\n",
      "Выбросов нет\n",
      "Выбросов нет\n",
      "Выбросов нет\n",
      "Выбросов нет\n",
      "Выбросов нет\n",
      "Выбросов нет\n",
      "Выбросов нет\n",
      "Выбросов нет\n",
      "Выбросов нет\n",
      "Выбросов нет\n",
      "Выбросов нет\n",
      "Выбросов нет\n",
      "Выбросов нет\n",
      "Выбросов нет\n",
      "Выбросов нет\n",
      "Выбросов нет\n",
      "Выбросов нет\n",
      "Выбросов нет\n",
      "Выбросов нет\n",
      "Выбросов нет\n",
      "Выбросов нет\n",
      "Выбросов нет\n",
      "Выбросов нет\n",
      "Выбросов нет\n",
      "Выбросов нет\n",
      "Выбросов нет\n",
      "Выбросов нет\n",
      "Выбросов нет\n",
      "Выбросов нет\n",
      "Выбросов нет\n",
      "Выбросов нет\n",
      "Выбросов нет\n",
      "Выбросов нет\n",
      "Выбросов нет\n",
      "Выбросов нет\n",
      "Выбросов нет\n",
      "Выбросов нет\n",
      "Выбросов нет\n",
      "Выбросов нет\n",
      "Выбросов нет\n",
      "Выбросов нет\n",
      "Выбросов нет\n",
      "Выбросов нет\n",
      "Выбросов нет\n",
      "Выбросов нет\n",
      "Выбросов нет\n",
      "Выбросов нет\n",
      "Выбросов нет\n",
      "Выбросов нет\n",
      "Выбросов нет\n",
      "Выбросов нет\n",
      "Выбросов нет\n",
      "Выбросов нет\n",
      "Выбросов нет\n",
      "Выбросов нет\n",
      "Выбросов нет\n",
      "Выбросов нет\n",
      "Выбросов нет\n",
      "Выбросов нет\n",
      "Выбросов нет\n",
      "Выбросов нет\n",
      "Выбросов нет\n",
      "Выбросов нет\n",
      "Выбросов нет\n",
      "Выбросов нет\n",
      "Выбросов нет\n",
      "Выбросов нет\n",
      "Выбросов нет\n",
      "Выбросов нет\n",
      "Выбросов нет\n",
      "Выбросов нет\n",
      "Выбросов нет\n",
      "Выбросов нет\n",
      "Выбросов нет\n",
      "Выбросов нет\n",
      "Выбросов нет\n",
      "Выбросов нет\n",
      "Выбросов нет\n",
      "Выбросов нет\n",
      "Выбросов нет\n",
      "Выбросов нет\n",
      "Выбросов нет\n",
      "Выбросов нет\n",
      "Выбросов нет\n",
      "Выбросов нет\n",
      "Выбросов нет\n",
      "Выбросов нет\n",
      "Выбросов нет\n",
      "Выбросов нет\n",
      "Выбросов нет\n",
      "Выбросов нет\n",
      "Выбросов нет\n",
      "Выбросов нет\n",
      "Выбросов нет\n",
      "Выбросов нет\n",
      "Выбросов нет\n",
      "Выбросов нет\n",
      "Выбросов нет\n",
      "Выбросов нет\n",
      "Выбросов нет\n",
      "Выбросов нет\n",
      "Выбросов нет\n",
      "Выбросов нет\n",
      "Выбросов нет\n",
      "Выбросов нет\n",
      "Выбросов нет\n",
      "Выбросов нет\n",
      "Выбросов нет\n",
      "Выбросов нет\n",
      "Выбросов нет\n",
      "Выбросов нет\n",
      "Выбросов нет\n",
      "Выбросов нет\n",
      "Выбросов нет\n",
      "Выбросов нет\n",
      "Выбросов нет\n",
      "Выбросов нет\n",
      "Выбросов нет\n",
      "Выбросов нет\n",
      "Выбросов нет\n",
      "Выбросов нет\n",
      "Выбросов нет\n",
      "Выбросов нет\n",
      "Выбросов нет\n",
      "Выбросов нет\n",
      "Выбросов нет\n",
      "Выбросов нет\n",
      "Выбросов нет\n",
      "Выбросов нет\n"
     ]
    },
    {
     "data": {
      "text/plain": [
       "<matplotlib.axes._subplots.AxesSubplot at 0xc0c2ac8>"
      ]
     },
     "execution_count": 161,
     "metadata": {},
     "output_type": "execute_result"
    },
    {
     "data": {
      "image/png": "[encoded data removed]",
      "text/plain": [
       "<Figure size 432x288 with 1 Axes>"
      ]
     },
     "metadata": {
      "needs_background": "light"
     },
     "output_type": "display_data"
    }
   ],
   "source": [
    "#Анализ столбца age\n",
    "students.age.hist()\n",
    "\n",
    "#Расчет межквартильного размаха по столбу age\n",
    "IRQ_age = students['age'].quantile(q=0.75, interpolation='midpoint') - students['age'].quantile(q=0.25, interpolation='midpoint')\n",
    "\n",
    "#Расчет перцентителей\n",
    "age_perc25 = students.age.quantile(0.25)\n",
    "age_perc75 = students.age.quantile(0.75)\n",
    "\n",
    "#Поиск выбросов\n",
    "eject_age_low = age_perc25 - 1.5*IRQ_age\n",
    "eject_age_high = age_perc75 + 1.5*IRQ_age\n",
    "\n",
    "for i in students['age']:\n",
    "    if i < eject_age_low:\n",
    "        print('Выбросы есть', i)\n",
    "    elif i > eject_age_high:\n",
    "        print('Выбросы есть', i)\n",
    "    else:\n",
    "        print('Выбросов нет')\n",
    "        \n",
    "students.age.hist(bins=5)"
   ]
  },
  {
   "cell_type": "code",
   "execution_count": 162,
   "metadata": {},
   "outputs": [
    {
     "data": {
      "text/html": [
       "<div>\n",
       "<style scoped>\n",
       "    .dataframe tbody tr th:only-of-type {\n",
       "        vertical-align: middle;\n",
       "    }\n",
       "\n",
       "    .dataframe tbody tr th {\n",
       "        vertical-align: top;\n",
       "    }\n",
       "\n",
       "    .dataframe thead th {\n",
       "        text-align: right;\n",
       "    }\n",
       "</style>\n",
       "<table border=\"1\" class=\"dataframe\">\n",
       "  <thead>\n",
       "    <tr style=\"text-align: right;\">\n",
       "      <th></th>\n",
       "      <th>age</th>\n",
       "      <th>Medu</th>\n",
       "      <th>Fedu</th>\n",
       "      <th>traveltime</th>\n",
       "      <th>studytime</th>\n",
       "      <th>failures</th>\n",
       "      <th>studytime, granular</th>\n",
       "      <th>famrel</th>\n",
       "      <th>freetime</th>\n",
       "      <th>goout</th>\n",
       "      <th>health</th>\n",
       "      <th>absences</th>\n",
       "      <th>score</th>\n",
       "    </tr>\n",
       "  </thead>\n",
       "  <tbody>\n",
       "    <tr>\n",
       "      <th>age</th>\n",
       "      <td>1.000000</td>\n",
       "      <td>-0.146736</td>\n",
       "      <td>-0.132182</td>\n",
       "      <td>0.073146</td>\n",
       "      <td>-0.018227</td>\n",
       "      <td>0.205919</td>\n",
       "      <td>0.018227</td>\n",
       "      <td>0.060414</td>\n",
       "      <td>0.016099</td>\n",
       "      <td>0.121115</td>\n",
       "      <td>-0.068103</td>\n",
       "      <td>0.096628</td>\n",
       "      <td>-0.155726</td>\n",
       "    </tr>\n",
       "    <tr>\n",
       "      <th>Medu</th>\n",
       "      <td>-0.146736</td>\n",
       "      <td>1.000000</td>\n",
       "      <td>0.270754</td>\n",
       "      <td>-0.165838</td>\n",
       "      <td>0.081032</td>\n",
       "      <td>-0.240319</td>\n",
       "      <td>-0.081032</td>\n",
       "      <td>0.000602</td>\n",
       "      <td>0.038265</td>\n",
       "      <td>0.072320</td>\n",
       "      <td>-0.048331</td>\n",
       "      <td>-0.014047</td>\n",
       "      <td>0.213349</td>\n",
       "    </tr>\n",
       "    <tr>\n",
       "      <th>Fedu</th>\n",
       "      <td>-0.132182</td>\n",
       "      <td>0.270754</td>\n",
       "      <td>1.000000</td>\n",
       "      <td>0.038990</td>\n",
       "      <td>0.059618</td>\n",
       "      <td>-0.150023</td>\n",
       "      <td>-0.059618</td>\n",
       "      <td>0.045665</td>\n",
       "      <td>-0.062377</td>\n",
       "      <td>-0.019312</td>\n",
       "      <td>0.024861</td>\n",
       "      <td>0.003762</td>\n",
       "      <td>0.078573</td>\n",
       "    </tr>\n",
       "    <tr>\n",
       "      <th>traveltime</th>\n",
       "      <td>0.073146</td>\n",
       "      <td>-0.165838</td>\n",
       "      <td>0.038990</td>\n",
       "      <td>1.000000</td>\n",
       "      <td>-0.105910</td>\n",
       "      <td>0.049738</td>\n",
       "      <td>0.105910</td>\n",
       "      <td>-0.027395</td>\n",
       "      <td>-0.026299</td>\n",
       "      <td>0.032629</td>\n",
       "      <td>-0.011724</td>\n",
       "      <td>-0.048242</td>\n",
       "      <td>-0.070559</td>\n",
       "    </tr>\n",
       "    <tr>\n",
       "      <th>studytime</th>\n",
       "      <td>-0.018227</td>\n",
       "      <td>0.081032</td>\n",
       "      <td>0.059618</td>\n",
       "      <td>-0.105910</td>\n",
       "      <td>1.000000</td>\n",
       "      <td>-0.181947</td>\n",
       "      <td>-1.000000</td>\n",
       "      <td>0.046249</td>\n",
       "      <td>-0.125066</td>\n",
       "      <td>-0.053831</td>\n",
       "      <td>-0.079180</td>\n",
       "      <td>-0.025707</td>\n",
       "      <td>0.115741</td>\n",
       "    </tr>\n",
       "    <tr>\n",
       "      <th>failures</th>\n",
       "      <td>0.205919</td>\n",
       "      <td>-0.240319</td>\n",
       "      <td>-0.150023</td>\n",
       "      <td>0.049738</td>\n",
       "      <td>-0.181947</td>\n",
       "      <td>1.000000</td>\n",
       "      <td>0.181947</td>\n",
       "      <td>-0.034836</td>\n",
       "      <td>0.091608</td>\n",
       "      <td>0.107747</td>\n",
       "      <td>0.088013</td>\n",
       "      <td>0.058166</td>\n",
       "      <td>-0.344338</td>\n",
       "    </tr>\n",
       "    <tr>\n",
       "      <th>studytime, granular</th>\n",
       "      <td>0.018227</td>\n",
       "      <td>-0.081032</td>\n",
       "      <td>-0.059618</td>\n",
       "      <td>0.105910</td>\n",
       "      <td>-1.000000</td>\n",
       "      <td>0.181947</td>\n",
       "      <td>1.000000</td>\n",
       "      <td>-0.046249</td>\n",
       "      <td>0.125066</td>\n",
       "      <td>0.053831</td>\n",
       "      <td>0.079180</td>\n",
       "      <td>0.025707</td>\n",
       "      <td>-0.115741</td>\n",
       "    </tr>\n",
       "    <tr>\n",
       "      <th>famrel</th>\n",
       "      <td>0.060414</td>\n",
       "      <td>0.000602</td>\n",
       "      <td>0.045665</td>\n",
       "      <td>-0.027395</td>\n",
       "      <td>0.046249</td>\n",
       "      <td>-0.034836</td>\n",
       "      <td>-0.046249</td>\n",
       "      <td>1.000000</td>\n",
       "      <td>0.174193</td>\n",
       "      <td>0.076387</td>\n",
       "      <td>0.080089</td>\n",
       "      <td>-0.082489</td>\n",
       "      <td>0.057112</td>\n",
       "    </tr>\n",
       "    <tr>\n",
       "      <th>freetime</th>\n",
       "      <td>0.016099</td>\n",
       "      <td>0.038265</td>\n",
       "      <td>-0.062377</td>\n",
       "      <td>-0.026299</td>\n",
       "      <td>-0.125066</td>\n",
       "      <td>0.091608</td>\n",
       "      <td>0.125066</td>\n",
       "      <td>0.174193</td>\n",
       "      <td>1.000000</td>\n",
       "      <td>0.296338</td>\n",
       "      <td>0.064315</td>\n",
       "      <td>0.010745</td>\n",
       "      <td>0.019026</td>\n",
       "    </tr>\n",
       "    <tr>\n",
       "      <th>goout</th>\n",
       "      <td>0.121115</td>\n",
       "      <td>0.072320</td>\n",
       "      <td>-0.019312</td>\n",
       "      <td>0.032629</td>\n",
       "      <td>-0.053831</td>\n",
       "      <td>0.107747</td>\n",
       "      <td>0.053831</td>\n",
       "      <td>0.076387</td>\n",
       "      <td>0.296338</td>\n",
       "      <td>1.000000</td>\n",
       "      <td>-0.018026</td>\n",
       "      <td>-0.047954</td>\n",
       "      <td>-0.129685</td>\n",
       "    </tr>\n",
       "    <tr>\n",
       "      <th>health</th>\n",
       "      <td>-0.068103</td>\n",
       "      <td>-0.048331</td>\n",
       "      <td>0.024861</td>\n",
       "      <td>-0.011724</td>\n",
       "      <td>-0.079180</td>\n",
       "      <td>0.088013</td>\n",
       "      <td>0.079180</td>\n",
       "      <td>0.080089</td>\n",
       "      <td>0.064315</td>\n",
       "      <td>-0.018026</td>\n",
       "      <td>1.000000</td>\n",
       "      <td>-0.016165</td>\n",
       "      <td>-0.070460</td>\n",
       "    </tr>\n",
       "    <tr>\n",
       "      <th>absences</th>\n",
       "      <td>0.096628</td>\n",
       "      <td>-0.014047</td>\n",
       "      <td>0.003762</td>\n",
       "      <td>-0.048242</td>\n",
       "      <td>-0.025707</td>\n",
       "      <td>0.058166</td>\n",
       "      <td>0.025707</td>\n",
       "      <td>-0.082489</td>\n",
       "      <td>0.010745</td>\n",
       "      <td>-0.047954</td>\n",
       "      <td>-0.016165</td>\n",
       "      <td>1.000000</td>\n",
       "      <td>0.065283</td>\n",
       "    </tr>\n",
       "    <tr>\n",
       "      <th>score</th>\n",
       "      <td>-0.155726</td>\n",
       "      <td>0.213349</td>\n",
       "      <td>0.078573</td>\n",
       "      <td>-0.070559</td>\n",
       "      <td>0.115741</td>\n",
       "      <td>-0.344338</td>\n",
       "      <td>-0.115741</td>\n",
       "      <td>0.057112</td>\n",
       "      <td>0.019026</td>\n",
       "      <td>-0.129685</td>\n",
       "      <td>-0.070460</td>\n",
       "      <td>0.065283</td>\n",
       "      <td>1.000000</td>\n",
       "    </tr>\n",
       "  </tbody>\n",
       "</table>\n",
       "</div>"
      ],
      "text/plain": [
       "                          age      Medu      Fedu  traveltime  studytime  \\\n",
       "age                  1.000000 -0.146736 -0.132182    0.073146  -0.018227   \n",
       "Medu                -0.146736  1.000000  0.270754   -0.165838   0.081032   \n",
       "Fedu                -0.132182  0.270754  1.000000    0.038990   0.059618   \n",
       "traveltime           0.073146 -0.165838  0.038990    1.000000  -0.105910   \n",
       "studytime           -0.018227  0.081032  0.059618   -0.105910   1.000000   \n",
       "failures             0.205919 -0.240319 -0.150023    0.049738  -0.181947   \n",
       "studytime, granular  0.018227 -0.081032 -0.059618    0.105910  -1.000000   \n",
       "famrel               0.060414  0.000602  0.045665   -0.027395   0.046249   \n",
       "freetime             0.016099  0.038265 -0.062377   -0.026299  -0.125066   \n",
       "goout                0.121115  0.072320 -0.019312    0.032629  -0.053831   \n",
       "health              -0.068103 -0.048331  0.024861   -0.011724  -0.079180   \n",
       "absences             0.096628 -0.014047  0.003762   -0.048242  -0.025707   \n",
       "score               -0.155726  0.213349  0.078573   -0.070559   0.115741   \n",
       "\n",
       "                     failures  studytime, granular    famrel  freetime  \\\n",
       "age                  0.205919             0.018227  0.060414  0.016099   \n",
       "Medu                -0.240319            -0.081032  0.000602  0.038265   \n",
       "Fedu                -0.150023            -0.059618  0.045665 -0.062377   \n",
       "traveltime           0.049738             0.105910 -0.027395 -0.026299   \n",
       "studytime           -0.181947            -1.000000  0.046249 -0.125066   \n",
       "failures             1.000000             0.181947 -0.034836  0.091608   \n",
       "studytime, granular  0.181947             1.000000 -0.046249  0.125066   \n",
       "famrel              -0.034836            -0.046249  1.000000  0.174193   \n",
       "freetime             0.091608             0.125066  0.174193  1.000000   \n",
       "goout                0.107747             0.053831  0.076387  0.296338   \n",
       "health               0.088013             0.079180  0.080089  0.064315   \n",
       "absences             0.058166             0.025707 -0.082489  0.010745   \n",
       "score               -0.344338            -0.115741  0.057112  0.019026   \n",
       "\n",
       "                        goout    health  absences     score  \n",
       "age                  0.121115 -0.068103  0.096628 -0.155726  \n",
       "Medu                 0.072320 -0.048331 -0.014047  0.213349  \n",
       "Fedu                -0.019312  0.024861  0.003762  0.078573  \n",
       "traveltime           0.032629 -0.011724 -0.048242 -0.070559  \n",
       "studytime           -0.053831 -0.079180 -0.025707  0.115741  \n",
       "failures             0.107747  0.088013  0.058166 -0.344338  \n",
       "studytime, granular  0.053831  0.079180  0.025707 -0.115741  \n",
       "famrel               0.076387  0.080089 -0.082489  0.057112  \n",
       "freetime             0.296338  0.064315  0.010745  0.019026  \n",
       "goout                1.000000 -0.018026 -0.047954 -0.129685  \n",
       "health              -0.018026  1.000000 -0.016165 -0.070460  \n",
       "absences            -0.047954 -0.016165  1.000000  0.065283  \n",
       "score               -0.129685 -0.070460  0.065283  1.000000  "
      ]
     },
     "execution_count": 162,
     "metadata": {},
     "output_type": "execute_result"
    }
   ],
   "source": [
    "#Проверка корреляции между возрастом и оценкой на экзамене по математике\n",
    "students.corr()"
   ]
  },
  {
   "cell_type": "code",
   "execution_count": 42,
   "metadata": {},
   "outputs": [
    {
     "data": {
      "text/plain": [
       "<matplotlib.axes._subplots.AxesSubplot at 0xc21dc48>"
      ]
     },
     "execution_count": 42,
     "metadata": {},
     "output_type": "execute_result"
    },
    {
     "data": {
      "image/png": "[encoded data removed]",
      "text/plain": [
       "<Figure size 432x288 with 1 Axes>"
      ]
     },
     "metadata": {
      "needs_background": "light"
     },
     "output_type": "display_data"
    }
   ],
   "source": [
    "#Анализ столбца address\n",
    "students.address.hist()"
   ]
  },
  {
   "cell_type": "code",
   "execution_count": 45,
   "metadata": {},
   "outputs": [
    {
     "data": {
      "text/plain": [
       "291"
      ]
     },
     "execution_count": 45,
     "metadata": {},
     "output_type": "execute_result"
    }
   ],
   "source": [
    "#Подсчет количества проживающих в городе\n",
    "urban_citizens = students[students.address == 'U']\n",
    "urban_citizens.address.count()"
   ]
  },
  {
   "cell_type": "code",
   "execution_count": 47,
   "metadata": {},
   "outputs": [
    {
     "data": {
      "text/plain": [
       "83"
      ]
     },
     "execution_count": 47,
     "metadata": {},
     "output_type": "execute_result"
    }
   ],
   "source": [
    "#Подсчет количества проживающих за городом\n",
    "suburban_citizens = students[students.address == 'R']\n",
    "suburban_citizens.address.count()"
   ]
  },
  {
   "cell_type": "code",
   "execution_count": 123,
   "metadata": {},
   "outputs": [],
   "source": [
    "#Замена пропусков в столбце address на None\n",
    "students.address = students.address.astype(str).apply(lambda x: None if x.strip() == 'nan' else x)"
   ]
  },
  {
   "cell_type": "code",
   "execution_count": 77,
   "metadata": {},
   "outputs": [
    {
     "data": {
      "text/plain": [
       "53.57"
      ]
     },
     "execution_count": 77,
     "metadata": {},
     "output_type": "execute_result"
    }
   ],
   "source": [
    "#Определение среднего балла по математике среди учеников, проживающих в городе\n",
    "round(urban_citizens.score.mean(),2)"
   ]
  },
  {
   "cell_type": "code",
   "execution_count": 78,
   "metadata": {},
   "outputs": [
    {
     "data": {
      "text/plain": [
       "46.93"
      ]
     },
     "execution_count": 78,
     "metadata": {},
     "output_type": "execute_result"
    }
   ],
   "source": [
    "#Определение среднего балла по математике среди учеников, проживающих за городом\n",
    "round(suburban_citizens.score.mean(),2)"
   ]
  },
  {
   "cell_type": "code",
   "execution_count": 85,
   "metadata": {},
   "outputs": [
    {
     "data": {
      "text/plain": [
       "51.15"
      ]
     },
     "execution_count": 85,
     "metadata": {},
     "output_type": "execute_result"
    }
   ],
   "source": [
    "#Определение среднего балла по математике среди девушек, проживающих в городе и учащихся в школе GP\n",
    "round(urban_citizens[(urban_citizens.sex == 'F') & (urban_citizens.school == 'GP')].score.mean(),2)"
   ]
  },
  {
   "cell_type": "code",
   "execution_count": 86,
   "metadata": {},
   "outputs": [
    {
     "data": {
      "text/plain": [
       "48.33"
      ]
     },
     "execution_count": 86,
     "metadata": {},
     "output_type": "execute_result"
    }
   ],
   "source": [
    "#Определение среднего балла по математике среди девушек, проживающих в городе и учащихся в школе MS\n",
    "round(urban_citizens[(urban_citizens.sex == 'F') & (urban_citizens.school == 'MS')].score.mean(),2)"
   ]
  },
  {
   "cell_type": "code",
   "execution_count": 87,
   "metadata": {},
   "outputs": [
    {
     "data": {
      "text/plain": [
       "56.43"
      ]
     },
     "execution_count": 87,
     "metadata": {},
     "output_type": "execute_result"
    }
   ],
   "source": [
    "#Определение среднего балла по математике среди мальчиков, проживающих в городе и учащихся в школе GP\n",
    "round(urban_citizens[(urban_citizens.sex == 'M') & (urban_citizens.school == 'GP')].score.mean(),2)"
   ]
  },
  {
   "cell_type": "code",
   "execution_count": 88,
   "metadata": {},
   "outputs": [
    {
     "data": {
      "text/plain": [
       "56.67"
      ]
     },
     "execution_count": 88,
     "metadata": {},
     "output_type": "execute_result"
    }
   ],
   "source": [
    "#Определение среднего балла по математике среди мальчиков, проживающих в городе и учащихся в школе MS\n",
    "round(urban_citizens[(urban_citizens.sex == 'M') & (urban_citizens.school == 'MS')].score.mean(),2)"
   ]
  },
  {
   "cell_type": "code",
   "execution_count": 89,
   "metadata": {},
   "outputs": [
    {
     "data": {
      "text/plain": [
       "46.61"
      ]
     },
     "execution_count": 89,
     "metadata": {},
     "output_type": "execute_result"
    }
   ],
   "source": [
    "#Определение среднего балла по математике среди девушек, проживающих за городом и учащихся в школе GP\n",
    "round(suburban_citizens[(suburban_citizens.sex == 'F') & (suburban_citizens.school == 'GP')].score.mean(),2)"
   ]
  },
  {
   "cell_type": "code",
   "execution_count": 90,
   "metadata": {},
   "outputs": [
    {
     "data": {
      "text/plain": [
       "45.77"
      ]
     },
     "execution_count": 90,
     "metadata": {},
     "output_type": "execute_result"
    }
   ],
   "source": [
    "#Определение среднего балла по математике среди девушек, проживающих за городом и учащихся в школе MS\n",
    "round(suburban_citizens[(suburban_citizens.sex == 'F') & (suburban_citizens.school == 'MS')].score.mean(),2)"
   ]
  },
  {
   "cell_type": "code",
   "execution_count": 91,
   "metadata": {},
   "outputs": [
    {
     "data": {
      "text/plain": [
       "49.48"
      ]
     },
     "execution_count": 91,
     "metadata": {},
     "output_type": "execute_result"
    }
   ],
   "source": [
    "#Определение среднего балла по математике среди мальчиков, проживающих за городом и учащихся в школе GP\n",
    "round(suburban_citizens[(suburban_citizens.sex == 'M') & (suburban_citizens.school == 'GP')].score.mean(),2)"
   ]
  },
  {
   "cell_type": "code",
   "execution_count": 92,
   "metadata": {},
   "outputs": [
    {
     "data": {
      "text/plain": [
       "42.0"
      ]
     },
     "execution_count": 92,
     "metadata": {},
     "output_type": "execute_result"
    }
   ],
   "source": [
    "#Определение среднего балла по математике среди мальчиков, проживающих за городом и учащихся в школе MS\n",
    "round(suburban_citizens[(suburban_citizens.sex == 'M') & (suburban_citizens.school == 'MS')].score.mean(),2)"
   ]
  },
  {
   "cell_type": "code",
   "execution_count": 125,
   "metadata": {},
   "outputs": [
    {
     "data": {
      "text/plain": [
       "107"
      ]
     },
     "execution_count": 125,
     "metadata": {},
     "output_type": "execute_result"
    },
    {
     "data": {
      "image/png": "[encoded data removed]",
      "text/plain": [
       "<Figure size 432x288 with 1 Axes>"
      ]
     },
     "metadata": {
      "needs_background": "light"
     },
     "output_type": "display_data"
    }
   ],
   "source": [
    "#Анализ столбца famsize (размер семьи)\n",
    "students.famsize.hist()\n",
    "\n",
    "##Замена пропусков в столбце famsize на None\n",
    "students.famsize = students.famsize.astype(str).apply(lambda x: None if x.strip() == 'nan' else x)\n",
    "\n",
    "#Подсчет количества семей с одним ребенком\n",
    "small_family = students[students.famsize == 'LE3']\n",
    "small_family.famsize.count()"
   ]
  },
  {
   "cell_type": "code",
   "execution_count": 126,
   "metadata": {},
   "outputs": [
    {
     "data": {
      "text/plain": [
       "255"
      ]
     },
     "execution_count": 126,
     "metadata": {},
     "output_type": "execute_result"
    }
   ],
   "source": [
    "#Подсчет количества семей с более чем одним ребенком\n",
    "big_family = students[students.famsize == 'GT3']\n",
    "big_family.famsize.count()"
   ]
  },
  {
   "cell_type": "code",
   "execution_count": 127,
   "metadata": {},
   "outputs": [
    {
     "data": {
      "text/plain": [
       "54.67"
      ]
     },
     "execution_count": 127,
     "metadata": {},
     "output_type": "execute_result"
    }
   ],
   "source": [
    "#Определение среднего балла по математике среди учеников, проживающих в условно маленьких семьях\n",
    "round(small_family.score.mean(),2)"
   ]
  },
  {
   "cell_type": "code",
   "execution_count": 128,
   "metadata": {},
   "outputs": [
    {
     "data": {
      "text/plain": [
       "51.51"
      ]
     },
     "execution_count": 128,
     "metadata": {},
     "output_type": "execute_result"
    }
   ],
   "source": [
    "#Определение среднего балла по математике среди учеников, проживающих в условно больших семьях\n",
    "round(big_family.score.mean(),2)"
   ]
  },
  {
   "cell_type": "code",
   "execution_count": 129,
   "metadata": {},
   "outputs": [
    {
     "data": {
      "text/plain": [
       "51.47"
      ]
     },
     "execution_count": 129,
     "metadata": {},
     "output_type": "execute_result"
    }
   ],
   "source": [
    "#Определение среднего балла по математике среди девушек из маленьких семей, проживающих в городе и учащихся в школе GP\n",
    "round(small_family[(small_family.sex == 'F') & (small_family.school == 'GP') & (small_family.address == 'U')].score.mean(),2)"
   ]
  },
  {
   "cell_type": "code",
   "execution_count": 130,
   "metadata": {},
   "outputs": [
    {
     "data": {
      "text/plain": [
       "53.75"
      ]
     },
     "execution_count": 130,
     "metadata": {},
     "output_type": "execute_result"
    }
   ],
   "source": [
    "#Определение среднего балла по математике среди девушек из маленьких семей, проживающих в городе и учащихся в школе MS\n",
    "round(small_family[(small_family.sex == 'F') & (small_family.school == 'MS') & (small_family.address == 'U')].score.mean(),2)"
   ]
  },
  {
   "cell_type": "code",
   "execution_count": 131,
   "metadata": {},
   "outputs": [
    {
     "data": {
      "text/plain": [
       "62.5"
      ]
     },
     "execution_count": 131,
     "metadata": {},
     "output_type": "execute_result"
    }
   ],
   "source": [
    "#Определение среднего балла по математике среди девушек из маленьких семей, проживающих за городом и учащихся в школе GP\n",
    "round(small_family[(small_family.sex == 'F') & (small_family.school == 'GP') & (small_family.address == 'R')].score.mean(),2)"
   ]
  },
  {
   "cell_type": "code",
   "execution_count": 132,
   "metadata": {},
   "outputs": [
    {
     "data": {
      "text/plain": [
       "72.5"
      ]
     },
     "execution_count": 132,
     "metadata": {},
     "output_type": "execute_result"
    }
   ],
   "source": [
    "#Определение среднего балла по математике среди девушек из маленьких семей, проживающих за городом и учащихся в школе MS\n",
    "round(small_family[(small_family.sex == 'F') & (small_family.school == 'MS') & (small_family.address == 'R')].score.mean(),2)"
   ]
  },
  {
   "cell_type": "code",
   "execution_count": 133,
   "metadata": {},
   "outputs": [
    {
     "data": {
      "text/plain": [
       "56.41"
      ]
     },
     "execution_count": 133,
     "metadata": {},
     "output_type": "execute_result"
    }
   ],
   "source": [
    "#Определение среднего балла по математике среди мальчиков из маленьких семей, проживающих в городе и учащихся в школе GP\n",
    "round(small_family[(small_family.sex == 'M') & (small_family.school == 'GP') & (small_family.address == 'U')].score.mean(),2)"
   ]
  },
  {
   "cell_type": "code",
   "execution_count": 134,
   "metadata": {},
   "outputs": [
    {
     "data": {
      "text/plain": [
       "54.17"
      ]
     },
     "execution_count": 134,
     "metadata": {},
     "output_type": "execute_result"
    }
   ],
   "source": [
    "#Определение среднего балла по математике среди мальчиков из маленьких семей, проживающих в городе и учащихся в школе MS\n",
    "round(small_family[(small_family.sex == 'M') & (small_family.school == 'MS') & (small_family.address == 'U')].score.mean(),2)"
   ]
  },
  {
   "cell_type": "code",
   "execution_count": 135,
   "metadata": {},
   "outputs": [
    {
     "data": {
      "text/plain": [
       "47.14"
      ]
     },
     "execution_count": 135,
     "metadata": {},
     "output_type": "execute_result"
    }
   ],
   "source": [
    "#Определение среднего балла по математике среди мальчиков из маленьких семей, проживающих за городом и учащихся в школе GP\n",
    "round(small_family[(small_family.sex == 'M') & (small_family.school == 'GP') & (small_family.address == 'R')].score.mean(),2)"
   ]
  },
  {
   "cell_type": "code",
   "execution_count": 136,
   "metadata": {},
   "outputs": [
    {
     "data": {
      "text/plain": [
       "56.67"
      ]
     },
     "execution_count": 136,
     "metadata": {},
     "output_type": "execute_result"
    }
   ],
   "source": [
    "#Определение среднего балла по математике среди мальчиков из маленьких семей, проживающих за городом и учащихся в школе MS\n",
    "round(small_family[(small_family.sex == 'M') & (small_family.school == 'MS') & (small_family.address == 'R')].score.mean(),2)"
   ]
  },
  {
   "cell_type": "code",
   "execution_count": 137,
   "metadata": {},
   "outputs": [
    {
     "data": {
      "text/plain": [
       "51.39"
      ]
     },
     "execution_count": 137,
     "metadata": {},
     "output_type": "execute_result"
    }
   ],
   "source": [
    "#Определение среднего балла по математике среди девушек из больших семей, проживающих в городе и учащихся в школе GP\n",
    "round(big_family[(big_family.sex == 'F') & (big_family.school == 'GP') & (big_family.address == 'U')].score.mean(),2)"
   ]
  },
  {
   "cell_type": "code",
   "execution_count": 138,
   "metadata": {},
   "outputs": [
    {
     "data": {
      "text/plain": [
       "44.0"
      ]
     },
     "execution_count": 138,
     "metadata": {},
     "output_type": "execute_result"
    }
   ],
   "source": [
    "#Определение среднего балла по математике среди девушек из больших семей, проживающих в городе и учащихся в школе MS\n",
    "round(big_family[(big_family.sex == 'F') & (big_family.school == 'MS') & (big_family.address == 'U')].score.mean(),2)"
   ]
  },
  {
   "cell_type": "code",
   "execution_count": 139,
   "metadata": {},
   "outputs": [
    {
     "data": {
      "text/plain": [
       "42.8"
      ]
     },
     "execution_count": 139,
     "metadata": {},
     "output_type": "execute_result"
    }
   ],
   "source": [
    "#Определение среднего балла по математике среди девушек из больших семей, проживающих за городом и учащихся в школе GP\n",
    "round(big_family[(big_family.sex == 'F') & (big_family.school == 'GP') & (big_family.address == 'R')].score.mean(),2)"
   ]
  },
  {
   "cell_type": "code",
   "execution_count": 140,
   "metadata": {},
   "outputs": [
    {
     "data": {
      "text/plain": [
       "42.78"
      ]
     },
     "execution_count": 140,
     "metadata": {},
     "output_type": "execute_result"
    }
   ],
   "source": [
    "#Определение среднего балла по математике среди девушек из больших семей, проживающих за городом и учащихся в школе MS\n",
    "round(big_family[(big_family.sex == 'F') & (big_family.school == 'MS') & (big_family.address == 'R')].score.mean(),2)"
   ]
  },
  {
   "cell_type": "code",
   "execution_count": 141,
   "metadata": {},
   "outputs": [
    {
     "data": {
      "text/plain": [
       "56.75"
      ]
     },
     "execution_count": 141,
     "metadata": {},
     "output_type": "execute_result"
    }
   ],
   "source": [
    "#Определение среднего балла по математике среди мальчиков из больших семей, проживающих в городе и учащихся в школе GP\n",
    "round(big_family[(big_family.sex == 'M') & (big_family.school == 'GP') & (big_family.address == 'U')].score.mean(),2)"
   ]
  },
  {
   "cell_type": "code",
   "execution_count": 142,
   "metadata": {},
   "outputs": [
    {
     "data": {
      "text/plain": [
       "61.67"
      ]
     },
     "execution_count": 142,
     "metadata": {},
     "output_type": "execute_result"
    }
   ],
   "source": [
    "#Определение среднего балла по математике среди мальчиков из больших семей, проживающих в городе и учащихся в школе MS\n",
    "round(big_family[(big_family.sex == 'M') & (big_family.school == 'MS') & (big_family.address == 'U')].score.mean(),2)"
   ]
  },
  {
   "cell_type": "code",
   "execution_count": 143,
   "metadata": {},
   "outputs": [
    {
     "data": {
      "text/plain": [
       "50.0"
      ]
     },
     "execution_count": 143,
     "metadata": {},
     "output_type": "execute_result"
    }
   ],
   "source": [
    "#Определение среднего балла по математике среди мальчиков из больших семей, проживающих за городом и учащихся в школе GP\n",
    "round(big_family[(big_family.sex == 'M') & (big_family.school == 'GP') & (big_family.address == 'R')].score.mean(),2)"
   ]
  },
  {
   "cell_type": "code",
   "execution_count": 144,
   "metadata": {},
   "outputs": [
    {
     "data": {
      "text/plain": [
       "35.71"
      ]
     },
     "execution_count": 144,
     "metadata": {},
     "output_type": "execute_result"
    }
   ],
   "source": [
    "#Определение среднего балла по математике среди мальчиков из больших семей, проживающих за городом и учащихся в школе MS\n",
    "round(big_family[(big_family.sex == 'M') & (big_family.school == 'MS') & (big_family.address == 'R')].score.mean(),2)"
   ]
  },
  {
   "cell_type": "code",
   "execution_count": 149,
   "metadata": {},
   "outputs": [
    {
     "data": {
      "text/plain": [
       "308"
      ]
     },
     "execution_count": 149,
     "metadata": {},
     "output_type": "execute_result"
    },
    {
     "data": {
      "image/png": "[encoded data removed]",
      "text/plain": [
       "<Figure size 432x288 with 1 Axes>"
      ]
     },
     "metadata": {
      "needs_background": "light"
     },
     "output_type": "display_data"
    }
   ],
   "source": [
    "#Анализ столбца Pstatus\n",
    "students.Pstatus.hist()\n",
    "\n",
    "##Замена пропусков в столбце Pstatus на None\n",
    "students.Pstatus = students.Pstatus.astype(str).apply(lambda x: None if x.strip() == 'nan' else x)\n",
    "\n",
    "#Подсчет количества семей, живущих вместе\n",
    "parents_status_T = students[students.Pstatus == 'T']\n",
    "parents_status_T.Pstatus.count()"
   ]
  },
  {
   "cell_type": "code",
   "execution_count": 150,
   "metadata": {},
   "outputs": [
    {
     "data": {
      "text/plain": [
       "36"
      ]
     },
     "execution_count": 150,
     "metadata": {},
     "output_type": "execute_result"
    }
   ],
   "source": [
    "#Подсчет количества семей, живущих раздельно\n",
    "parents_status_A = students[students.Pstatus == 'A']\n",
    "parents_status_A.Pstatus.count()"
   ]
  },
  {
   "cell_type": "code",
   "execution_count": 151,
   "metadata": {},
   "outputs": [
    {
     "data": {
      "text/plain": [
       "51.7"
      ]
     },
     "execution_count": 151,
     "metadata": {},
     "output_type": "execute_result"
    }
   ],
   "source": [
    "#Определение среднего балла по математике среди учеников, проживающих в полных семьях\n",
    "round(parents_status_T.score.mean(),2)"
   ]
  },
  {
   "cell_type": "code",
   "execution_count": 152,
   "metadata": {},
   "outputs": [
    {
     "data": {
      "text/plain": [
       "55.14"
      ]
     },
     "execution_count": 152,
     "metadata": {},
     "output_type": "execute_result"
    }
   ],
   "source": [
    "#Определение среднего балла по математике среди учеников, проживающих в неполных семьях\n",
    "round(parents_status_A.score.mean(),2)"
   ]
  },
  {
   "cell_type": "code",
   "execution_count": 186,
   "metadata": {},
   "outputs": [
    {
     "data": {
      "text/plain": [
       "55.0"
      ]
     },
     "execution_count": 186,
     "metadata": {},
     "output_type": "execute_result"
    },
    {
     "data": {
      "image/png": "[encoded data removed]",
      "text/plain": [
       "<Figure size 432x288 with 1 Axes>"
      ]
     },
     "metadata": {
      "needs_background": "light"
     },
     "output_type": "display_data"
    }
   ],
   "source": [
    "#Анализ столбца Medu\n",
    "students.Medu.hist()\n",
    "\n",
    "#Исключение из столбца отсутствующих значений\n",
    "students_Medu = students[~students['Medu'].isnull()]\n",
    "\n",
    "\n",
    "\n",
    "#Замена пропусков в столбце Medu на None\n",
    "#students.Medu = students.Medu.astype(str).apply(lambda x: None if x.strip() == 'nan' else x)"
   ]
  },
  {
   "cell_type": "code",
   "execution_count": 180,
   "metadata": {},
   "outputs": [
    {
     "data": {
      "image/png": "[encoded data removed]",
      "text/plain": [
       "<Figure size 432x288 with 1 Axes>"
      ]
     },
     "metadata": {
      "needs_background": "light"
     },
     "output_type": "display_data"
    }
   ],
   "source": [
    "#Анализ столбца Fedu\n",
    "students.Fedu.hist()\n",
    "\n",
    "#Замена пропусков в столбце Medu на None\n",
    "students.Fedu = students.Fedu.astype(str).apply(lambda x: None if x.strip() == 'nan' else x)"
   ]
  },
  {
   "cell_type": "code",
   "execution_count": null,
   "metadata": {},
   "outputs": [],
   "source": []
  }
 ],
 "metadata": {
  "kernelspec": {
   "display_name": "Python 3",
   "language": "python",
   "name": "python3"
  },
  "language_info": {
   "codemirror_mode": {
    "name": "ipython",
    "version": 3
   },
   "file_extension": ".py",
   "mimetype": "text/x-python",
   "name": "python",
   "nbconvert_exporter": "python",
   "pygments_lexer": "ipython3",
   "version": "3.7.6"
  }
 },
 "nbformat": 4,
 "nbformat_minor": 4
}
